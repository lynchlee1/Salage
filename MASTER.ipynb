{
  "nbformat": 4,
  "nbformat_minor": 0,
  "metadata": {
    "colab": {
      "provenance": [],
      "collapsed_sections": [],
      "include_colab_link": true
    },
    "kernelspec": {
      "name": "python3",
      "display_name": "Python 3"
    },
    "language_info": {
      "name": "python"
    }
  },
  "cells": [
    {
      "cell_type": "markdown",
      "metadata": {
        "id": "view-in-github",
        "colab_type": "text"
      },
      "source": [
        "<a href=\"https://colab.research.google.com/github/lynchlee1/Salage/blob/main/MASTER.ipynb\" target=\"_parent\"><img src=\"https://colab.research.google.com/assets/colab-badge.svg\" alt=\"Open In Colab\"/></a>"
      ]
    },
    {
      "cell_type": "code",
      "source": [
        "# Mount drive\n",
        "from google.colab import drive \n",
        "drive.mount('/content/drive')"
      ],
      "metadata": {
        "colab": {
          "base_uri": "https://localhost:8080/"
        },
        "id": "bkbhsLmavm4Z",
        "outputId": "50684a03-7819-4d57-a786-5ea29857fdca"
      },
      "execution_count": null,
      "outputs": [
        {
          "output_type": "stream",
          "name": "stdout",
          "text": [
            "Drive already mounted at /content/drive; to attempt to forcibly remount, call drive.mount(\"/content/drive\", force_remount=True).\n"
          ]
        }
      ]
    },
    {
      "cell_type": "code",
      "source": [
        "all = [var for var in globals() if var[0] != \"_\"]\n",
        "for var in all:\n",
        "    del globals()[var]"
      ],
      "metadata": {
        "id": "kb70lukZvx0A"
      },
      "execution_count": null,
      "outputs": []
    },
    {
      "cell_type": "code",
      "execution_count": null,
      "metadata": {
        "id": "CoS6kGWdvW6R"
      },
      "outputs": [],
      "source": [
        "# Data upload section\n",
        "input_data_PATH  = '/content/drive/MyDrive/toy project/데이터/64man_inputs.csv'\n",
        "output_data_PATH = '/content/drive/MyDrive/toy project/데이터/64man_outputs.csv'\n",
        "preNN_PATH = '/content/drive/MyDrive/toy project/데이터/LGD Project/LEEv1.pt'"
      ]
    },
    {
      "cell_type": "code",
      "source": [
        "import numpy as np\n",
        "import pandas as pd\n",
        "\n",
        "import torch\n",
        "import torchvision\n",
        "from torchvision import datasets, transforms\n",
        "import torch.nn as nn\n",
        "import torch.nn.functional as F\n",
        "from torch.utils.data import Dataset\n",
        "from torch.utils.data import DataLoader\n",
        "from torch.utils.data import TensorDataset\n",
        "import torch.optim as optim\n",
        "\n",
        "from sklearn.model_selection import train_test_split\n",
        "from tqdm import tqdm"
      ],
      "metadata": {
        "id": "1vjqnwSqj0q0"
      },
      "execution_count": null,
      "outputs": []
    },
    {
      "cell_type": "code",
      "source": [
        "# Variable section\n",
        "r=1\n",
        "\n",
        "len_data = 2000 # length of data to read\n",
        "batch_size = int(64)\n",
        "\n",
        "do_data_distort = 2 # 0: None(or pre-train), 2: all distort\n",
        "\n",
        "type_tNet = 4 # 1: Four 100*100 layers, 2: Two 100*100 layers, 3: Four 50*50 layers, 4: Three 100*100 layers, 5: Four 30*30 layers,\n",
        "fully_connected = 0 # 0: Not fully connected, 1: Fully connected\n",
        "\n",
        "# Subvariable section\n",
        "n_distort_show = 6\n",
        "criterion = nn.MSELoss()\n",
        "device = 'cpu'"
      ],
      "metadata": {
        "id": "UYCT4xWowKwe"
      },
      "execution_count": null,
      "outputs": []
    },
    {
      "cell_type": "code",
      "source": [
        "input = np.array(pd.read_csv(input_data_PATH, header=None, nrows=len_data, skiprows=100000))\n",
        "input = torch.Tensor(input)\n",
        "\n",
        "output   = np.array(pd.read_csv(output_data_PATH, header=None, nrows=len_data, skiprows=100000))\n",
        "output = torch.Tensor(output)"
      ],
      "metadata": {
        "id": "2_yAHIZ8wa4Y"
      },
      "execution_count": null,
      "outputs": []
    },
    {
      "cell_type": "code",
      "source": [
        "# Distortion function\n",
        "def myfun(x):\n",
        "  y = np.sqrt(x)\n",
        "  return y\n",
        "\n",
        "def amyfun(x):\n",
        "  y = np.square(x)\n",
        "  return y\n",
        "\n",
        "np_myfun  = np.frompyfunc(myfun, 1, 1)\n",
        "np_amyfun  = np.frompyfunc(myfun, 1, 1)\n",
        "\n",
        "def distort(input, flist): # flist: lists of f:R->R\n",
        "  len_i = len(input)\n",
        "  len_f = len(flist)\n",
        "\n",
        "  if len_i > len_f:\n",
        "    print(\"Warning: input length is longer than function length! Extra inputs will remain same.\")\n",
        "\n",
        "  if len_i < len_f:\n",
        "    print(\"Warning: function length is longer than input length! Extra functions will be ignored.\")\n",
        "\n",
        "  iter = min(len_i, len_f)\n",
        "  for i in range(iter):\n",
        "    f_i = flist[i]\n",
        "    fv_i = np.vectorize(f_i)\n",
        "\n",
        "    input[:,i:i+1] = torch.FloatTensor(fv_i(input[:,i:i+1]))\n",
        "\n",
        "  return input\n"
      ],
      "metadata": {
        "id": "-7PEr115ozph"
      },
      "execution_count": null,
      "outputs": []
    },
    {
      "cell_type": "code",
      "source": [
        "# Polynomial with M=1, m=0, 4th degree\n",
        "def polyMm4(a1, a2, a3, x):\n",
        "  y = a1*x+a2*x^2+a3*x^3+(1-a1-a2-a3)*x^4\n",
        "  return y"
      ],
      "metadata": {
        "id": "ZDAMnu1njL2B"
      },
      "execution_count": null,
      "outputs": []
    },
    {
      "cell_type": "code",
      "source": [
        "# Check monotonic\n",
        "def monotone_score(model1, N):\n",
        "  cnt = 0\n",
        "\n",
        "  x_grid = np.linspace(0, 1, N+1)\n",
        "  x_grid = x_grid[:-1]\n",
        "\n",
        "  y1_grid = np.zeros(N)\n",
        "  y2_grid = np.zeros(N)\n",
        "  y3_grid = np.zeros(N)\n",
        "  y4_grid = np.zeros(N)\n",
        "\n",
        "  for i in range(N):\n",
        "    a = np.random.rand(1,1)\n",
        "    a[0][0] = i/N\n",
        "    t = torch.from_numpy(a).float()\n",
        "    y1_grid[i] = model1.h1_tNet(t).detach().numpy()[0][0]\n",
        "    y2_grid[i] = model1.h2_tNet(t).detach().numpy()[0][0]\n",
        "    y3_grid[i] = model1.h3_tNet(t).detach().numpy()[0][0]\n",
        "    y4_grid[i] = model1.h4_tNet(t).detach().numpy()[0][0]\n",
        "\n",
        "  for i in range(N-1):\n",
        "    if y1_grid[i] <= y1_grid[i+1]:\n",
        "      cnt = cnt + 1\n",
        "    if y2_grid[i] <= y2_grid[i+1]:\n",
        "      cnt = cnt + 1\n",
        "    if y3_grid[i] <= y3_grid[i+1]:\n",
        "      cnt = cnt + 1\n",
        "    if y4_grid[i] <= y4_grid[i+1]:\n",
        "      cnt = cnt + 1      \n",
        "\n",
        "  score = 2*(cnt/float(4*N-4)-0.5)\n",
        "  return score"
      ],
      "metadata": {
        "id": "T9_pFMlh8xgh"
      },
      "execution_count": null,
      "outputs": []
    },
    {
      "cell_type": "code",
      "source": [
        "# Check monotonic\n",
        "def unitydistance(model1, N):\n",
        "  x_grid = np.linspace(0, 1, N+1)\n",
        "  x_grid = x_grid[:-1]\n",
        "\n",
        "  y_unity = [x_grid[i] for i in range(N)]\n",
        "\n",
        "  y1_grid = np.zeros(N)\n",
        "  y2_grid = np.zeros(N)\n",
        "  y3_grid = np.zeros(N)\n",
        "  y4_grid = np.zeros(N)\n",
        "\n",
        "  for i in range(N):\n",
        "    a = np.random.rand(1,1)\n",
        "    a[0][0] = i/N\n",
        "    t = torch.from_numpy(a).float()\n",
        "    y1_grid[i] = model1.h1_tNet(t).detach().numpy()[0][0]\n",
        "    y2_grid[i] = model1.h2_tNet(t).detach().numpy()[0][0]\n",
        "    y3_grid[i] = model1.h3_tNet(t).detach().numpy()[0][0]\n",
        "    y4_grid[i] = model1.h4_tNet(t).detach().numpy()[0][0]\n",
        "\n",
        "  E1 = np.sqrt(np.mean((y1_grid-y_unity)**2))\n",
        "  E2 = np.sqrt(np.mean((y2_grid-y_unity)**2))\n",
        "  E3 = np.sqrt(np.mean((y3_grid-y_unity)**2))\n",
        "  E4 = np.sqrt(np.mean((y4_grid-y_unity)**2))\n",
        "\n",
        "  c = 0.5\n",
        "  Esum = E1**c+E2**c+E3**c+E4**c\n",
        "  Emax = 4*(1/float(3))**c   \n",
        "\n",
        "  score = 2*((Esum/Emax)-0.5)\n",
        "  return score"
      ],
      "metadata": {
        "id": "I3MuWdNJSfVJ"
      },
      "execution_count": null,
      "outputs": []
    },
    {
      "cell_type": "code",
      "source": [
        "torch.set_printoptions(sci_mode=True)\n",
        "\n",
        "print('Input is...')\n",
        "for i in range(n_distort_show): print(input[i,:])\n",
        "\n",
        "print('\\nDistorted input is...')\n",
        "input = distort(input, [np_myfun, np_myfun, np_myfun, np_myfun])\n",
        "for i in range(n_distort_show): print(input[i,:])"
      ],
      "metadata": {
        "colab": {
          "base_uri": "https://localhost:8080/"
        },
        "id": "-mvwX8sewiTQ",
        "outputId": "cad98e3a-4d0a-4118-a0b9-7d86f212d9e6"
      },
      "execution_count": null,
      "outputs": [
        {
          "output_type": "stream",
          "name": "stdout",
          "text": [
            "Input is...\n",
            "tensor([5.5789e-01, 8.2268e-01, 2.9159e-01, 2.8634e-01, 8.7753e-01, 4.8819e-02])\n",
            "tensor([1.8428e-01, 8.1901e-01, 9.7393e-02, 1.8173e-01, 6.3006e-01, 3.8485e-01])\n",
            "tensor([8.7323e-02, 5.2606e-01, 7.3805e-01, 1.1024e-01, 6.2367e-01, 7.0853e-01])\n",
            "tensor([2.7008e-01, 6.7212e-03, 1.9836e-01, 5.0909e-01, 2.5333e-01, 1.7870e-01])\n",
            "tensor([5.4928e-01, 6.7925e-01, 5.9287e-01, 9.6958e-02, 5.5564e-01, 3.9925e-01])\n",
            "tensor([2.8366e-01, 5.2116e-02, 7.4260e-01, 9.3541e-01, 7.3818e-02, 7.4617e-01])\n",
            "\n",
            "Distorted input is...\n",
            "Warning: input length is longer than function length! Extra inputs will remain same.\n",
            "tensor([7.4692e-01, 9.0702e-01, 5.3999e-01, 5.3511e-01, 8.7753e-01, 4.8819e-02])\n",
            "tensor([4.2928e-01, 9.0499e-01, 3.1208e-01, 4.2630e-01, 6.3006e-01, 3.8485e-01])\n",
            "tensor([2.9550e-01, 7.2530e-01, 8.5910e-01, 3.3202e-01, 6.2367e-01, 7.0853e-01])\n",
            "tensor([5.1970e-01, 8.1983e-02, 4.4537e-01, 7.1350e-01, 2.5333e-01, 1.7870e-01])\n",
            "tensor([7.4113e-01, 8.2417e-01, 7.6998e-01, 3.1138e-01, 5.5564e-01, 3.9925e-01])\n",
            "tensor([5.3260e-01, 2.2829e-01, 8.6174e-01, 9.6716e-01, 7.3818e-02, 7.4617e-01])\n"
          ]
        }
      ]
    },
    {
      "cell_type": "code",
      "source": [
        "class pNet(nn.Module):\n",
        "  def __init__(self):\n",
        "    super(pNet, self).__init__()\n",
        "    self.fc1 = nn.Linear(6, 300)\n",
        "    self.fc2 = nn.Linear(300, 300)\n",
        "    self.fc3 = nn.Linear(300, 300)\n",
        "    self.fc4 = nn.Linear(300, 300)\n",
        "    self.fc5 = nn.Linear(300, 300)\n",
        "    self.fc6 = nn.Linear(300, 300)\n",
        "    self.fc7 = nn.Linear(300, 300)\n",
        "    self.fc8 = nn.Linear(300, 300)\n",
        "    self.fc9 = nn.Linear(300, 300)\n",
        "    self.fc10 = nn.Linear(300, 300)\n",
        "    self.fc11 = nn.Linear(300,81)\n",
        "\n",
        "  def forward(self, x):\n",
        "    x = F.leaky_relu(self.fc1(x))\n",
        "    x = F.leaky_relu(self.fc2(x))\n",
        "    x = F.leaky_relu(self.fc3(x))\n",
        "    x = F.leaky_relu(self.fc4(x))\n",
        "    x = F.leaky_relu(self.fc5(x))\n",
        "    x = F.leaky_relu(self.fc6(x))\n",
        "    x = F.leaky_relu(self.fc7(x))\n",
        "    x = F.leaky_relu(self.fc8(x))\n",
        "    x = F.leaky_relu(self.fc9(x))\n",
        "    x = F.leaky_relu(self.fc10(x))\n",
        "    return self.fc11(x)\n",
        "\n",
        "n_node = 0\n",
        "if fully_connected == 0:\n",
        "  n_node = 1\n",
        "if fully_connected == 1:\n",
        "  if do_data_distort != 2:\n",
        "    print(\"Warning: Not all four variables are distorted, but connected to transfer layer.\")\n",
        "  n_node = 4\n",
        "\n",
        "if type_tNet == 1:\n",
        "  class tNet(nn.Module):\n",
        "    def __init__(self):\n",
        "      super(tNet, self).__init__()\n",
        "      self.fc1 = nn.Linear(n_node, 100)\n",
        "      self.fc2 = nn.Linear(100, 100)\n",
        "      self.fc3 = nn.Linear(100, 100)\n",
        "      self.fc4 = nn.Linear(100, 100)\n",
        "      self.fc5 = nn.Linear(100,n_node)\n",
        "\n",
        "    def forward(self, x):\n",
        "      x = F.leaky_relu(self.fc1(x))\n",
        "      x = F.leaky_relu(self.fc2(x))\n",
        "      x = F.leaky_relu(self.fc3(x))\n",
        "      x = F.leaky_relu(self.fc4(x))\n",
        "      x = torch.sigmoid(self.fc5(x))\n",
        "      return x\n",
        "\n",
        "if type_tNet == 2:\n",
        "  class tNet(nn.Module):\n",
        "    def __init__(self):\n",
        "      super(tNet, self).__init__()\n",
        "      self.fc1 = nn.Linear(n_node, 100)\n",
        "      self.fc2 = nn.Linear(100, 100)\n",
        "      self.fc3 = nn.Linear(100,n_node)\n",
        "\n",
        "    def forward(self, x):\n",
        "      x = F.leaky_relu(self.fc1(x))\n",
        "      x = F.leaky_relu(self.fc2(x))\n",
        "      x = torch.sigmoid(self.fc3(x))\n",
        "      return x\n",
        "\n",
        "if type_tNet == 3:\n",
        "  class tNet(nn.Module):\n",
        "    def __init__(self):\n",
        "      super(tNet, self).__init__()\n",
        "      self.fc1 = nn.Linear(n_node, 50)\n",
        "      self.fc2 = nn.Linear(50, 50)\n",
        "      self.fc3 = nn.Linear(50, 50)\n",
        "      self.fc4 = nn.Linear(50, 50)\n",
        "      self.fc5 = nn.Linear(50,n_node)\n",
        "\n",
        "    def forward(self, x):\n",
        "      x = F.leaky_relu(self.fc1(x))\n",
        "      x = F.leaky_relu(self.fc2(x))\n",
        "      x = F.leaky_relu(self.fc3(x))\n",
        "      x = F.leaky_relu(self.fc4(x))\n",
        "      x = torch.sigmoid(self.fc5(x))\n",
        "      return x\n",
        "\n",
        "if type_tNet == 4:\n",
        "  class tNet(nn.Module):\n",
        "    def __init__(self):\n",
        "      super(tNet, self).__init__()\n",
        "      self.fc1 = nn.Linear(n_node, 100)\n",
        "      self.fc2 = nn.Linear(100, 100)\n",
        "      self.fc3 = nn.Linear(100, 100)\n",
        "      self.fc4 = nn.Linear(100,n_node)\n",
        "\n",
        "    def forward(self, x):\n",
        "      x = F.leaky_relu(self.fc1(x))\n",
        "      x = F.leaky_relu(self.fc2(x))\n",
        "      x = F.leaky_relu(self.fc3(x))\n",
        "      x = torch.sigmoid(self.fc4(x))\n",
        "      return x\n",
        "\n",
        "if type_tNet == 5:\n",
        "  class tNet(nn.Module):\n",
        "    def __init__(self):\n",
        "      super(tNet, self).__init__()\n",
        "      self.fc1 = nn.Linear(n_node, 30)\n",
        "      self.fc2 = nn.Linear(30, 30)\n",
        "      self.fc3 = nn.Linear(30, 30)\n",
        "      self.fc4 = nn.Linear(30, 30)\n",
        "      self.fc5 = nn.Linear(30,n_node)\n",
        "\n",
        "    def forward(self, x):\n",
        "      x = F.leaky_relu(self.fc1(x))\n",
        "      x = F.leaky_relu(self.fc2(x))\n",
        "      x = F.leaky_relu(self.fc3(x))\n",
        "      x = F.leaky_relu(self.fc4(x))\n",
        "      x = torch.sigmoid(self.fc5(x))\n",
        "      return x\n",
        "\n",
        "modelPre = pNet()\n",
        "modelPre.load_state_dict(torch.load(preNN_PATH,map_location=torch.device('cpu')))\n",
        "for param in modelPre.parameters():\n",
        "  param.requires_grad = False\n",
        "\n",
        "if do_data_distort == 2 and fully_connected == 0:\n",
        "  class Net(nn.Module):\n",
        "    def __init__(self):\n",
        "      super(Net,self).__init__()\n",
        "      self.h1_tNet = tNet()\n",
        "      self.h2_tNet = tNet()\n",
        "      self.h3_tNet = tNet()\n",
        "      self.h4_tNet = tNet()\n",
        "\n",
        "    def forward(self,hstar):\n",
        "      h1 = self.h1_tNet(hstar[:,0:1])\n",
        "      h2 = self.h2_tNet(hstar[:,1:2])\n",
        "      h3 = self.h3_tNet(hstar[:,2:3])\n",
        "      h4 = self.h4_tNet(hstar[:,3:4])\n",
        "      hcat = torch.cat((h1,h2,h3,h4),1)\n",
        "      ncat = hstar[:,4:6]\n",
        "      x = torch.cat((hcat,ncat),1)\n",
        "      x = modelPre(x)\n",
        "      return x\n",
        "\n",
        "if fully_connected == 1:\n",
        "  class Net(nn.Module):\n",
        "    def __init__(self):\n",
        "      super(Net,self).__init__()\n",
        "      self.subNet = tNet()\n",
        "    \n",
        "    def forward(self,hstar):\n",
        "      h = self.subNet(hstar[:,0:4])\n",
        "      h = torch.cat((h,hstar[:,4:6]),1)\n",
        "      h = modelPre(h)\n",
        "      return h\n",
        "\n",
        "print(Net())"
      ],
      "metadata": {
        "id": "AXqixLerzGGw",
        "colab": {
          "base_uri": "https://localhost:8080/"
        },
        "outputId": "c106f8b4-fc42-4fd9-bbc4-9378e59a095b"
      },
      "execution_count": null,
      "outputs": [
        {
          "output_type": "stream",
          "name": "stdout",
          "text": [
            "Net(\n",
            "  (h1_tNet): tNet(\n",
            "    (fc1): Linear(in_features=1, out_features=100, bias=True)\n",
            "    (fc2): Linear(in_features=100, out_features=100, bias=True)\n",
            "    (fc3): Linear(in_features=100, out_features=100, bias=True)\n",
            "    (fc4): Linear(in_features=100, out_features=1, bias=True)\n",
            "  )\n",
            "  (h2_tNet): tNet(\n",
            "    (fc1): Linear(in_features=1, out_features=100, bias=True)\n",
            "    (fc2): Linear(in_features=100, out_features=100, bias=True)\n",
            "    (fc3): Linear(in_features=100, out_features=100, bias=True)\n",
            "    (fc4): Linear(in_features=100, out_features=1, bias=True)\n",
            "  )\n",
            "  (h3_tNet): tNet(\n",
            "    (fc1): Linear(in_features=1, out_features=100, bias=True)\n",
            "    (fc2): Linear(in_features=100, out_features=100, bias=True)\n",
            "    (fc3): Linear(in_features=100, out_features=100, bias=True)\n",
            "    (fc4): Linear(in_features=100, out_features=1, bias=True)\n",
            "  )\n",
            "  (h4_tNet): tNet(\n",
            "    (fc1): Linear(in_features=1, out_features=100, bias=True)\n",
            "    (fc2): Linear(in_features=100, out_features=100, bias=True)\n",
            "    (fc3): Linear(in_features=100, out_features=100, bias=True)\n",
            "    (fc4): Linear(in_features=100, out_features=1, bias=True)\n",
            "  )\n",
            ")\n"
          ]
        }
      ]
    },
    {
      "cell_type": "code",
      "source": [
        "x_train, x_valid, y_train, y_valid = train_test_split(input, output, test_size=0.2, shuffle=True, random_state=34)\n",
        "\n",
        "dataset_train = TensorDataset(x_train, y_train)\n",
        "dataset_test = TensorDataset(x_valid, y_valid)\n",
        "\n",
        "# Shuffle argument controls data shuffling for stochastic gradient descent\n",
        "train_loader = torch.utils.data.DataLoader(dataset=dataset_train, batch_size=batch_size, shuffle=True)\n",
        "test_loader = torch.utils.data.DataLoader(dataset=dataset_test, batch_size=batch_size, shuffle=False)"
      ],
      "metadata": {
        "id": "15NNXXBS7BBm"
      },
      "execution_count": null,
      "outputs": []
    },
    {
      "cell_type": "code",
      "source": [
        "#*(1-0.1*monotone_score(model,10))\n",
        "def train(model, device, train_loader, optimizer, criterion):\n",
        "    # The layers of our model which uses dropout, batch-normalization should behave differently depending on the current phase(training or evaluation)\n",
        "    model.train() # training mode \n",
        "    \n",
        "    losses_batch = []\n",
        "\n",
        "    for idx, (inputs, labels) in enumerate(train_loader):\n",
        "        inputs, labels = inputs.to(device), labels.to(device) #Move data to gpu if we can use gpu\n",
        "        optimizer.zero_grad()             # clear out the gradients to avoid accumulating with the gradients computed in previous step. \n",
        "        outputs = model(inputs)           # 1) Proceed forward pass\n",
        "        loss = criterion(outputs, labels)*(1-1*unitydistance(model,10)) # 2) Compute the loss by comparing the predictive outputs and the actual labels\n",
        "        losses_batch.append(loss)\n",
        "        loss.backward()                   # 3) Compute a gradient of a loss function by backpropagation\n",
        "        optimizer.step()                  # 4) Update the weight by gradient descent according to the method(SGD or SGD with momentum or Adam) we defined earlier\n",
        "\n",
        "    loss_epoch = sum(losses_batch)/len(losses_batch)\n",
        "\n",
        "    return loss_epoch\n",
        "\n",
        "def eval(model, device, test_loader):\n",
        "     \n",
        "    model.eval() # evaluation mode\n",
        "    total = 0\n",
        "    correct = 0\n",
        "    losses_batch = []\n",
        "\n",
        "    with torch.no_grad(): # Deactivate the autograd engine # Note that in testing time, we don't need the gradient.\n",
        "        for inputs, labels in test_loader:\n",
        "            inputs, labels = inputs.to(device), labels.to(device) #Move data to gpu if we can use gpu\n",
        "            outputs = model(inputs)                               # Obtain the outputs from model\n",
        "\n",
        "            #print(outputs.shape)    #(64,81)\n",
        "            #print(labels.shape)     #(64,81)\n",
        "            loss = criterion(outputs, labels)\n",
        "            losses_batch.append(loss)\n",
        "\n",
        "    loss_epoch = sum(losses_batch)/len(losses_batch)\n",
        "\n",
        "    print('loss epoch: {:.8f}'.format(loss_epoch))\n",
        "    return loss_epoch"
      ],
      "metadata": {
        "id": "fohUUcjR7KNT"
      },
      "execution_count": null,
      "outputs": []
    },
    {
      "cell_type": "code",
      "source": [
        "torch.manual_seed(2020) # Sets the seed for reproducibility\n",
        "\n",
        "train_loss_epoch = []\n",
        "test_acc_epoch = []"
      ],
      "metadata": {
        "id": "U0YF0AOt7PUH"
      },
      "execution_count": null,
      "outputs": []
    },
    {
      "cell_type": "code",
      "source": [
        "#Make a model defined above\n",
        "model1 = Net()\n",
        "model1.to(device) # Move our model to gpu if we can use gpu\n",
        "print(':model1 is:')\n",
        "print(model1)\n",
        "\n",
        "#Choose an optimizer for you to use and set learning rate\n",
        "num_epoch = 200\n",
        "optimizer = optim.Adam(model1.parameters(), lr=0.003*r, betas = (0.9,0.999),eps = 1e-08, weight_decay =0, amsgrad = False)\n",
        "for epoch in tqdm(range(num_epoch)):\n",
        "    train_loss_epoch.append(train(model1, device, train_loader, optimizer, criterion))\n",
        "    test_acc_epoch.append(eval(model1, device, test_loader))\n",
        "\n",
        "num_epoch = 100\n",
        "optimizer = optim.Adam(model1.parameters(), lr=0.0001*r, betas = (0.9,0.999),eps = 1e-08, weight_decay =0, amsgrad = False)\n",
        "for epoch in tqdm(range(num_epoch)):\n",
        "    train_loss_epoch.append(train(model1, device, train_loader, optimizer, criterion))\n",
        "    test_acc_epoch.append(eval(model1, device, test_loader))"
      ],
      "metadata": {
        "id": "83RH_Hle8gcW",
        "colab": {
          "base_uri": "https://localhost:8080/"
        },
        "outputId": "e06645a1-eae5-4331-b03b-2854a9d0af6a"
      },
      "execution_count": null,
      "outputs": [
        {
          "output_type": "stream",
          "name": "stdout",
          "text": [
            ":model1 is:\n",
            "Net(\n",
            "  (h1_tNet): tNet(\n",
            "    (fc1): Linear(in_features=1, out_features=100, bias=True)\n",
            "    (fc2): Linear(in_features=100, out_features=100, bias=True)\n",
            "    (fc3): Linear(in_features=100, out_features=100, bias=True)\n",
            "    (fc4): Linear(in_features=100, out_features=1, bias=True)\n",
            "  )\n",
            "  (h2_tNet): tNet(\n",
            "    (fc1): Linear(in_features=1, out_features=100, bias=True)\n",
            "    (fc2): Linear(in_features=100, out_features=100, bias=True)\n",
            "    (fc3): Linear(in_features=100, out_features=100, bias=True)\n",
            "    (fc4): Linear(in_features=100, out_features=1, bias=True)\n",
            "  )\n",
            "  (h3_tNet): tNet(\n",
            "    (fc1): Linear(in_features=1, out_features=100, bias=True)\n",
            "    (fc2): Linear(in_features=100, out_features=100, bias=True)\n",
            "    (fc3): Linear(in_features=100, out_features=100, bias=True)\n",
            "    (fc4): Linear(in_features=100, out_features=1, bias=True)\n",
            "  )\n",
            "  (h4_tNet): tNet(\n",
            "    (fc1): Linear(in_features=1, out_features=100, bias=True)\n",
            "    (fc2): Linear(in_features=100, out_features=100, bias=True)\n",
            "    (fc3): Linear(in_features=100, out_features=100, bias=True)\n",
            "    (fc4): Linear(in_features=100, out_features=1, bias=True)\n",
            "  )\n",
            ")\n"
          ]
        },
        {
          "output_type": "stream",
          "name": "stderr",
          "text": [
            "  0%|          | 1/200 [00:00<01:30,  2.20it/s]"
          ]
        },
        {
          "output_type": "stream",
          "name": "stdout",
          "text": [
            "loss epoch: 0.01705373\n"
          ]
        },
        {
          "output_type": "stream",
          "name": "stderr",
          "text": [
            "\r  1%|          | 2/200 [00:00<01:34,  2.10it/s]"
          ]
        },
        {
          "output_type": "stream",
          "name": "stdout",
          "text": [
            "loss epoch: 0.01761075\n"
          ]
        },
        {
          "output_type": "stream",
          "name": "stderr",
          "text": [
            "\r  2%|▏         | 3/200 [00:01<01:31,  2.16it/s]"
          ]
        },
        {
          "output_type": "stream",
          "name": "stdout",
          "text": [
            "loss epoch: 0.01780444\n"
          ]
        },
        {
          "output_type": "stream",
          "name": "stderr",
          "text": [
            "\r  2%|▏         | 4/200 [00:01<01:31,  2.15it/s]"
          ]
        },
        {
          "output_type": "stream",
          "name": "stdout",
          "text": [
            "loss epoch: 0.03107574\n"
          ]
        },
        {
          "output_type": "stream",
          "name": "stderr",
          "text": [
            "\r  2%|▎         | 5/200 [00:02<01:30,  2.17it/s]"
          ]
        },
        {
          "output_type": "stream",
          "name": "stdout",
          "text": [
            "loss epoch: 0.04097719\n"
          ]
        },
        {
          "output_type": "stream",
          "name": "stderr",
          "text": [
            "\r  3%|▎         | 6/200 [00:02<01:29,  2.16it/s]"
          ]
        },
        {
          "output_type": "stream",
          "name": "stdout",
          "text": [
            "loss epoch: 0.04113181\n"
          ]
        },
        {
          "output_type": "stream",
          "name": "stderr",
          "text": [
            "\r  4%|▎         | 7/200 [00:03<01:29,  2.17it/s]"
          ]
        },
        {
          "output_type": "stream",
          "name": "stdout",
          "text": [
            "loss epoch: 0.04098747\n"
          ]
        },
        {
          "output_type": "stream",
          "name": "stderr",
          "text": [
            "\r  4%|▍         | 8/200 [00:03<01:30,  2.12it/s]"
          ]
        },
        {
          "output_type": "stream",
          "name": "stdout",
          "text": [
            "loss epoch: 0.04110054\n"
          ]
        },
        {
          "output_type": "stream",
          "name": "stderr",
          "text": [
            "\r  4%|▍         | 9/200 [00:04<01:28,  2.15it/s]"
          ]
        },
        {
          "output_type": "stream",
          "name": "stdout",
          "text": [
            "loss epoch: 0.04130564\n"
          ]
        },
        {
          "output_type": "stream",
          "name": "stderr",
          "text": [
            "\r  5%|▌         | 10/200 [00:04<01:28,  2.15it/s]"
          ]
        },
        {
          "output_type": "stream",
          "name": "stdout",
          "text": [
            "loss epoch: 0.04146566\n"
          ]
        },
        {
          "output_type": "stream",
          "name": "stderr",
          "text": [
            "\r  6%|▌         | 11/200 [00:05<01:28,  2.13it/s]"
          ]
        },
        {
          "output_type": "stream",
          "name": "stdout",
          "text": [
            "loss epoch: 0.04135942\n"
          ]
        },
        {
          "output_type": "stream",
          "name": "stderr",
          "text": [
            "\r  6%|▌         | 12/200 [00:05<01:27,  2.16it/s]"
          ]
        },
        {
          "output_type": "stream",
          "name": "stdout",
          "text": [
            "loss epoch: 0.04163432\n"
          ]
        },
        {
          "output_type": "stream",
          "name": "stderr",
          "text": [
            "\r  6%|▋         | 13/200 [00:06<01:26,  2.16it/s]"
          ]
        },
        {
          "output_type": "stream",
          "name": "stdout",
          "text": [
            "loss epoch: 0.04174638\n"
          ]
        },
        {
          "output_type": "stream",
          "name": "stderr",
          "text": [
            "\r  7%|▋         | 14/200 [00:06<01:26,  2.16it/s]"
          ]
        },
        {
          "output_type": "stream",
          "name": "stdout",
          "text": [
            "loss epoch: 0.04171323\n"
          ]
        },
        {
          "output_type": "stream",
          "name": "stderr",
          "text": [
            "\r  8%|▊         | 15/200 [00:06<01:25,  2.16it/s]"
          ]
        },
        {
          "output_type": "stream",
          "name": "stdout",
          "text": [
            "loss epoch: 0.04172211\n"
          ]
        },
        {
          "output_type": "stream",
          "name": "stderr",
          "text": [
            "\r  8%|▊         | 16/200 [00:07<01:24,  2.17it/s]"
          ]
        },
        {
          "output_type": "stream",
          "name": "stdout",
          "text": [
            "loss epoch: 0.04173936\n"
          ]
        },
        {
          "output_type": "stream",
          "name": "stderr",
          "text": [
            "\r  8%|▊         | 17/200 [00:07<01:24,  2.15it/s]"
          ]
        },
        {
          "output_type": "stream",
          "name": "stdout",
          "text": [
            "loss epoch: 0.04177028\n"
          ]
        },
        {
          "output_type": "stream",
          "name": "stderr",
          "text": [
            "\r  9%|▉         | 18/200 [00:08<01:25,  2.13it/s]"
          ]
        },
        {
          "output_type": "stream",
          "name": "stdout",
          "text": [
            "loss epoch: 0.04177339\n"
          ]
        },
        {
          "output_type": "stream",
          "name": "stderr",
          "text": [
            "\r 10%|▉         | 19/200 [00:08<01:27,  2.07it/s]"
          ]
        },
        {
          "output_type": "stream",
          "name": "stdout",
          "text": [
            "loss epoch: 0.04180155\n"
          ]
        },
        {
          "output_type": "stream",
          "name": "stderr",
          "text": [
            "\r 10%|█         | 20/200 [00:09<01:27,  2.07it/s]"
          ]
        },
        {
          "output_type": "stream",
          "name": "stdout",
          "text": [
            "loss epoch: 0.04195557\n"
          ]
        },
        {
          "output_type": "stream",
          "name": "stderr",
          "text": [
            "\r 10%|█         | 21/200 [00:09<01:26,  2.08it/s]"
          ]
        },
        {
          "output_type": "stream",
          "name": "stdout",
          "text": [
            "loss epoch: 0.04198558\n"
          ]
        },
        {
          "output_type": "stream",
          "name": "stderr",
          "text": [
            "\r 11%|█         | 22/200 [00:10<01:24,  2.11it/s]"
          ]
        },
        {
          "output_type": "stream",
          "name": "stdout",
          "text": [
            "loss epoch: 0.04200542\n"
          ]
        },
        {
          "output_type": "stream",
          "name": "stderr",
          "text": [
            "\r 12%|█▏        | 23/200 [00:10<01:24,  2.10it/s]"
          ]
        },
        {
          "output_type": "stream",
          "name": "stdout",
          "text": [
            "loss epoch: 0.04172160\n"
          ]
        },
        {
          "output_type": "stream",
          "name": "stderr",
          "text": [
            "\r 12%|█▏        | 24/200 [00:11<01:23,  2.11it/s]"
          ]
        },
        {
          "output_type": "stream",
          "name": "stdout",
          "text": [
            "loss epoch: 0.04200235\n"
          ]
        },
        {
          "output_type": "stream",
          "name": "stderr",
          "text": [
            "\r 12%|█▎        | 25/200 [00:11<01:22,  2.12it/s]"
          ]
        },
        {
          "output_type": "stream",
          "name": "stdout",
          "text": [
            "loss epoch: 0.04186776\n"
          ]
        },
        {
          "output_type": "stream",
          "name": "stderr",
          "text": [
            "\r 13%|█▎        | 26/200 [00:12<01:21,  2.13it/s]"
          ]
        },
        {
          "output_type": "stream",
          "name": "stdout",
          "text": [
            "loss epoch: 0.04189631\n"
          ]
        },
        {
          "output_type": "stream",
          "name": "stderr",
          "text": [
            "\r 14%|█▎        | 27/200 [00:12<01:30,  1.92it/s]"
          ]
        },
        {
          "output_type": "stream",
          "name": "stdout",
          "text": [
            "loss epoch: 0.04197124\n"
          ]
        },
        {
          "output_type": "stream",
          "name": "stderr",
          "text": [
            "\r 14%|█▍        | 28/200 [00:13<01:39,  1.72it/s]"
          ]
        },
        {
          "output_type": "stream",
          "name": "stdout",
          "text": [
            "loss epoch: 0.04198087\n"
          ]
        },
        {
          "output_type": "stream",
          "name": "stderr",
          "text": [
            "\r 14%|█▍        | 29/200 [00:14<01:33,  1.83it/s]"
          ]
        },
        {
          "output_type": "stream",
          "name": "stdout",
          "text": [
            "loss epoch: 0.04200033\n"
          ]
        },
        {
          "output_type": "stream",
          "name": "stderr",
          "text": [
            "\r 15%|█▌        | 30/200 [00:14<01:29,  1.90it/s]"
          ]
        },
        {
          "output_type": "stream",
          "name": "stdout",
          "text": [
            "loss epoch: 0.04201005\n"
          ]
        },
        {
          "output_type": "stream",
          "name": "stderr",
          "text": [
            "\r 16%|█▌        | 31/200 [00:14<01:26,  1.95it/s]"
          ]
        },
        {
          "output_type": "stream",
          "name": "stdout",
          "text": [
            "loss epoch: 0.04166728\n"
          ]
        },
        {
          "output_type": "stream",
          "name": "stderr",
          "text": [
            "\r 16%|█▌        | 32/200 [00:15<01:23,  2.01it/s]"
          ]
        },
        {
          "output_type": "stream",
          "name": "stdout",
          "text": [
            "loss epoch: 0.04200621\n"
          ]
        },
        {
          "output_type": "stream",
          "name": "stderr",
          "text": [
            "\r 16%|█▋        | 33/200 [00:15<01:21,  2.04it/s]"
          ]
        },
        {
          "output_type": "stream",
          "name": "stdout",
          "text": [
            "loss epoch: 0.04204624\n"
          ]
        },
        {
          "output_type": "stream",
          "name": "stderr",
          "text": [
            "\r 17%|█▋        | 34/200 [00:16<01:20,  2.06it/s]"
          ]
        },
        {
          "output_type": "stream",
          "name": "stdout",
          "text": [
            "loss epoch: 0.04201023\n"
          ]
        },
        {
          "output_type": "stream",
          "name": "stderr",
          "text": [
            "\r 18%|█▊        | 35/200 [00:16<01:19,  2.09it/s]"
          ]
        },
        {
          "output_type": "stream",
          "name": "stdout",
          "text": [
            "loss epoch: 0.04205418\n"
          ]
        },
        {
          "output_type": "stream",
          "name": "stderr",
          "text": [
            "\r 18%|█▊        | 36/200 [00:17<01:17,  2.10it/s]"
          ]
        },
        {
          "output_type": "stream",
          "name": "stdout",
          "text": [
            "loss epoch: 0.04170167\n"
          ]
        },
        {
          "output_type": "stream",
          "name": "stderr",
          "text": [
            "\r 18%|█▊        | 37/200 [00:17<01:17,  2.11it/s]"
          ]
        },
        {
          "output_type": "stream",
          "name": "stdout",
          "text": [
            "loss epoch: 0.04207368\n"
          ]
        },
        {
          "output_type": "stream",
          "name": "stderr",
          "text": [
            "\r 19%|█▉        | 38/200 [00:18<01:16,  2.12it/s]"
          ]
        },
        {
          "output_type": "stream",
          "name": "stdout",
          "text": [
            "loss epoch: 0.04205041\n"
          ]
        },
        {
          "output_type": "stream",
          "name": "stderr",
          "text": [
            "\r 20%|█▉        | 39/200 [00:18<01:17,  2.08it/s]"
          ]
        },
        {
          "output_type": "stream",
          "name": "stdout",
          "text": [
            "loss epoch: 0.04197312\n"
          ]
        },
        {
          "output_type": "stream",
          "name": "stderr",
          "text": [
            "\r 20%|██        | 40/200 [00:19<01:16,  2.09it/s]"
          ]
        },
        {
          "output_type": "stream",
          "name": "stdout",
          "text": [
            "loss epoch: 0.04207393\n"
          ]
        },
        {
          "output_type": "stream",
          "name": "stderr",
          "text": [
            "\r 20%|██        | 41/200 [00:19<01:15,  2.11it/s]"
          ]
        },
        {
          "output_type": "stream",
          "name": "stdout",
          "text": [
            "loss epoch: 0.04204871\n"
          ]
        },
        {
          "output_type": "stream",
          "name": "stderr",
          "text": [
            "\r 21%|██        | 42/200 [00:20<01:14,  2.11it/s]"
          ]
        },
        {
          "output_type": "stream",
          "name": "stdout",
          "text": [
            "loss epoch: 0.04201998\n"
          ]
        },
        {
          "output_type": "stream",
          "name": "stderr",
          "text": [
            "\r 22%|██▏       | 43/200 [00:20<01:13,  2.14it/s]"
          ]
        },
        {
          "output_type": "stream",
          "name": "stdout",
          "text": [
            "loss epoch: 0.04197019\n"
          ]
        },
        {
          "output_type": "stream",
          "name": "stderr",
          "text": [
            "\r 22%|██▏       | 44/200 [00:21<01:13,  2.12it/s]"
          ]
        },
        {
          "output_type": "stream",
          "name": "stdout",
          "text": [
            "loss epoch: 0.04200950\n"
          ]
        },
        {
          "output_type": "stream",
          "name": "stderr",
          "text": [
            "\r 22%|██▎       | 45/200 [00:21<01:13,  2.12it/s]"
          ]
        },
        {
          "output_type": "stream",
          "name": "stdout",
          "text": [
            "loss epoch: 0.04208399\n"
          ]
        },
        {
          "output_type": "stream",
          "name": "stderr",
          "text": [
            "\r 23%|██▎       | 46/200 [00:22<01:12,  2.13it/s]"
          ]
        },
        {
          "output_type": "stream",
          "name": "stdout",
          "text": [
            "loss epoch: 0.04205508\n"
          ]
        },
        {
          "output_type": "stream",
          "name": "stderr",
          "text": [
            "\r 24%|██▎       | 47/200 [00:22<01:11,  2.13it/s]"
          ]
        },
        {
          "output_type": "stream",
          "name": "stdout",
          "text": [
            "loss epoch: 0.04186705\n"
          ]
        },
        {
          "output_type": "stream",
          "name": "stderr",
          "text": [
            "\r 24%|██▍       | 48/200 [00:22<01:11,  2.13it/s]"
          ]
        },
        {
          "output_type": "stream",
          "name": "stdout",
          "text": [
            "loss epoch: 0.04195584\n"
          ]
        },
        {
          "output_type": "stream",
          "name": "stderr",
          "text": [
            "\r 24%|██▍       | 49/200 [00:23<01:11,  2.12it/s]"
          ]
        },
        {
          "output_type": "stream",
          "name": "stdout",
          "text": [
            "loss epoch: 0.04207319\n"
          ]
        },
        {
          "output_type": "stream",
          "name": "stderr",
          "text": [
            "\r 25%|██▌       | 50/200 [00:23<01:10,  2.13it/s]"
          ]
        },
        {
          "output_type": "stream",
          "name": "stdout",
          "text": [
            "loss epoch: 0.04210103\n"
          ]
        },
        {
          "output_type": "stream",
          "name": "stderr",
          "text": [
            "\r 26%|██▌       | 51/200 [00:24<01:10,  2.12it/s]"
          ]
        },
        {
          "output_type": "stream",
          "name": "stdout",
          "text": [
            "loss epoch: 0.04209790\n"
          ]
        },
        {
          "output_type": "stream",
          "name": "stderr",
          "text": [
            "\r 26%|██▌       | 52/200 [00:24<01:09,  2.13it/s]"
          ]
        },
        {
          "output_type": "stream",
          "name": "stdout",
          "text": [
            "loss epoch: 0.04209406\n"
          ]
        },
        {
          "output_type": "stream",
          "name": "stderr",
          "text": [
            "\r 26%|██▋       | 53/200 [00:25<01:09,  2.13it/s]"
          ]
        },
        {
          "output_type": "stream",
          "name": "stdout",
          "text": [
            "loss epoch: 0.04209795\n"
          ]
        },
        {
          "output_type": "stream",
          "name": "stderr",
          "text": [
            "\r 27%|██▋       | 54/200 [00:25<01:08,  2.13it/s]"
          ]
        },
        {
          "output_type": "stream",
          "name": "stdout",
          "text": [
            "loss epoch: 0.04211207\n"
          ]
        },
        {
          "output_type": "stream",
          "name": "stderr",
          "text": [
            "\r 28%|██▊       | 55/200 [00:26<01:07,  2.14it/s]"
          ]
        },
        {
          "output_type": "stream",
          "name": "stdout",
          "text": [
            "loss epoch: 0.04201188\n"
          ]
        },
        {
          "output_type": "stream",
          "name": "stderr",
          "text": [
            "\r 28%|██▊       | 56/200 [00:26<01:07,  2.14it/s]"
          ]
        },
        {
          "output_type": "stream",
          "name": "stdout",
          "text": [
            "loss epoch: 0.04214151\n"
          ]
        },
        {
          "output_type": "stream",
          "name": "stderr",
          "text": [
            "\r 28%|██▊       | 57/200 [00:27<01:06,  2.15it/s]"
          ]
        },
        {
          "output_type": "stream",
          "name": "stdout",
          "text": [
            "loss epoch: 0.04212180\n"
          ]
        },
        {
          "output_type": "stream",
          "name": "stderr",
          "text": [
            "\r 29%|██▉       | 58/200 [00:27<01:06,  2.13it/s]"
          ]
        },
        {
          "output_type": "stream",
          "name": "stdout",
          "text": [
            "loss epoch: 0.04170971\n"
          ]
        },
        {
          "output_type": "stream",
          "name": "stderr",
          "text": [
            "\r 30%|██▉       | 59/200 [00:28<01:06,  2.12it/s]"
          ]
        },
        {
          "output_type": "stream",
          "name": "stdout",
          "text": [
            "loss epoch: 0.04196347\n"
          ]
        },
        {
          "output_type": "stream",
          "name": "stderr",
          "text": [
            "\r 30%|███       | 60/200 [00:28<01:06,  2.12it/s]"
          ]
        },
        {
          "output_type": "stream",
          "name": "stdout",
          "text": [
            "loss epoch: 0.04202770\n"
          ]
        },
        {
          "output_type": "stream",
          "name": "stderr",
          "text": [
            "\r 30%|███       | 61/200 [00:29<01:06,  2.09it/s]"
          ]
        },
        {
          "output_type": "stream",
          "name": "stdout",
          "text": [
            "loss epoch: 0.04185465\n"
          ]
        },
        {
          "output_type": "stream",
          "name": "stderr",
          "text": [
            "\r 31%|███       | 62/200 [00:29<01:06,  2.09it/s]"
          ]
        },
        {
          "output_type": "stream",
          "name": "stdout",
          "text": [
            "loss epoch: 0.04203316\n"
          ]
        },
        {
          "output_type": "stream",
          "name": "stderr",
          "text": [
            "\r 32%|███▏      | 63/200 [00:30<01:04,  2.11it/s]"
          ]
        },
        {
          "output_type": "stream",
          "name": "stdout",
          "text": [
            "loss epoch: 0.04209974\n"
          ]
        },
        {
          "output_type": "stream",
          "name": "stderr",
          "text": [
            "\r 32%|███▏      | 64/200 [00:30<01:04,  2.11it/s]"
          ]
        },
        {
          "output_type": "stream",
          "name": "stdout",
          "text": [
            "loss epoch: 0.04212644\n"
          ]
        },
        {
          "output_type": "stream",
          "name": "stderr",
          "text": [
            "\r 32%|███▎      | 65/200 [00:31<01:04,  2.11it/s]"
          ]
        },
        {
          "output_type": "stream",
          "name": "stdout",
          "text": [
            "loss epoch: 0.04206673\n"
          ]
        },
        {
          "output_type": "stream",
          "name": "stderr",
          "text": [
            "\r 33%|███▎      | 66/200 [00:31<01:03,  2.12it/s]"
          ]
        },
        {
          "output_type": "stream",
          "name": "stdout",
          "text": [
            "loss epoch: 0.04204255\n"
          ]
        },
        {
          "output_type": "stream",
          "name": "stderr",
          "text": [
            "\r 34%|███▎      | 67/200 [00:31<01:02,  2.12it/s]"
          ]
        },
        {
          "output_type": "stream",
          "name": "stdout",
          "text": [
            "loss epoch: 0.04185823\n"
          ]
        },
        {
          "output_type": "stream",
          "name": "stderr",
          "text": [
            "\r 34%|███▍      | 68/200 [00:32<01:02,  2.12it/s]"
          ]
        },
        {
          "output_type": "stream",
          "name": "stdout",
          "text": [
            "loss epoch: 0.04223982\n"
          ]
        },
        {
          "output_type": "stream",
          "name": "stderr",
          "text": [
            "\r 34%|███▍      | 69/200 [00:32<01:02,  2.11it/s]"
          ]
        },
        {
          "output_type": "stream",
          "name": "stdout",
          "text": [
            "loss epoch: 0.04209787\n"
          ]
        },
        {
          "output_type": "stream",
          "name": "stderr",
          "text": [
            "\r 35%|███▌      | 70/200 [00:33<01:00,  2.13it/s]"
          ]
        },
        {
          "output_type": "stream",
          "name": "stdout",
          "text": [
            "loss epoch: 0.04219642\n"
          ]
        },
        {
          "output_type": "stream",
          "name": "stderr",
          "text": [
            "\r 36%|███▌      | 71/200 [00:33<01:00,  2.13it/s]"
          ]
        },
        {
          "output_type": "stream",
          "name": "stdout",
          "text": [
            "loss epoch: 0.04221487\n"
          ]
        },
        {
          "output_type": "stream",
          "name": "stderr",
          "text": [
            "\r 36%|███▌      | 72/200 [00:34<00:59,  2.14it/s]"
          ]
        },
        {
          "output_type": "stream",
          "name": "stdout",
          "text": [
            "loss epoch: 0.04228570\n"
          ]
        },
        {
          "output_type": "stream",
          "name": "stderr",
          "text": [
            "\r 36%|███▋      | 73/200 [00:34<00:59,  2.13it/s]"
          ]
        },
        {
          "output_type": "stream",
          "name": "stdout",
          "text": [
            "loss epoch: 0.04221219\n"
          ]
        },
        {
          "output_type": "stream",
          "name": "stderr",
          "text": [
            "\r 37%|███▋      | 74/200 [00:35<00:58,  2.14it/s]"
          ]
        },
        {
          "output_type": "stream",
          "name": "stdout",
          "text": [
            "loss epoch: 0.04218889\n"
          ]
        },
        {
          "output_type": "stream",
          "name": "stderr",
          "text": [
            "\r 38%|███▊      | 75/200 [00:35<00:58,  2.12it/s]"
          ]
        },
        {
          "output_type": "stream",
          "name": "stdout",
          "text": [
            "loss epoch: 0.04229624\n"
          ]
        },
        {
          "output_type": "stream",
          "name": "stderr",
          "text": [
            "\r 38%|███▊      | 76/200 [00:36<00:58,  2.13it/s]"
          ]
        },
        {
          "output_type": "stream",
          "name": "stdout",
          "text": [
            "loss epoch: 0.04221810\n"
          ]
        },
        {
          "output_type": "stream",
          "name": "stderr",
          "text": [
            "\r 38%|███▊      | 77/200 [00:36<00:58,  2.10it/s]"
          ]
        },
        {
          "output_type": "stream",
          "name": "stdout",
          "text": [
            "loss epoch: 0.04228659\n"
          ]
        },
        {
          "output_type": "stream",
          "name": "stderr",
          "text": [
            "\r 39%|███▉      | 78/200 [00:37<00:57,  2.11it/s]"
          ]
        },
        {
          "output_type": "stream",
          "name": "stdout",
          "text": [
            "loss epoch: 0.04207956\n"
          ]
        },
        {
          "output_type": "stream",
          "name": "stderr",
          "text": [
            "\r 40%|███▉      | 79/200 [00:37<00:57,  2.11it/s]"
          ]
        },
        {
          "output_type": "stream",
          "name": "stdout",
          "text": [
            "loss epoch: 0.04222188\n"
          ]
        },
        {
          "output_type": "stream",
          "name": "stderr",
          "text": [
            "\r 40%|████      | 80/200 [00:38<00:57,  2.10it/s]"
          ]
        },
        {
          "output_type": "stream",
          "name": "stdout",
          "text": [
            "loss epoch: 0.04231668\n"
          ]
        },
        {
          "output_type": "stream",
          "name": "stderr",
          "text": [
            "\r 40%|████      | 81/200 [00:38<00:56,  2.11it/s]"
          ]
        },
        {
          "output_type": "stream",
          "name": "stdout",
          "text": [
            "loss epoch: 0.04240398\n"
          ]
        },
        {
          "output_type": "stream",
          "name": "stderr",
          "text": [
            "\r 41%|████      | 82/200 [00:39<00:57,  2.07it/s]"
          ]
        },
        {
          "output_type": "stream",
          "name": "stdout",
          "text": [
            "loss epoch: 0.04206906\n"
          ]
        },
        {
          "output_type": "stream",
          "name": "stderr",
          "text": [
            "\r 42%|████▏     | 83/200 [00:39<00:56,  2.06it/s]"
          ]
        },
        {
          "output_type": "stream",
          "name": "stdout",
          "text": [
            "loss epoch: 0.04227138\n"
          ]
        },
        {
          "output_type": "stream",
          "name": "stderr",
          "text": [
            "\r 42%|████▏     | 84/200 [00:40<00:56,  2.06it/s]"
          ]
        },
        {
          "output_type": "stream",
          "name": "stdout",
          "text": [
            "loss epoch: 0.04228460\n"
          ]
        },
        {
          "output_type": "stream",
          "name": "stderr",
          "text": [
            "\r 42%|████▎     | 85/200 [00:40<00:55,  2.08it/s]"
          ]
        },
        {
          "output_type": "stream",
          "name": "stdout",
          "text": [
            "loss epoch: 0.04229409\n"
          ]
        },
        {
          "output_type": "stream",
          "name": "stderr",
          "text": [
            "\r 43%|████▎     | 86/200 [00:40<00:54,  2.09it/s]"
          ]
        },
        {
          "output_type": "stream",
          "name": "stdout",
          "text": [
            "loss epoch: 0.04218999\n"
          ]
        },
        {
          "output_type": "stream",
          "name": "stderr",
          "text": [
            "\r 44%|████▎     | 87/200 [00:41<00:53,  2.12it/s]"
          ]
        },
        {
          "output_type": "stream",
          "name": "stdout",
          "text": [
            "loss epoch: 0.04231745\n"
          ]
        },
        {
          "output_type": "stream",
          "name": "stderr",
          "text": [
            "\r 44%|████▍     | 88/200 [00:41<00:52,  2.12it/s]"
          ]
        },
        {
          "output_type": "stream",
          "name": "stdout",
          "text": [
            "loss epoch: 0.04221896\n"
          ]
        },
        {
          "output_type": "stream",
          "name": "stderr",
          "text": [
            "\r 44%|████▍     | 89/200 [00:42<00:52,  2.12it/s]"
          ]
        },
        {
          "output_type": "stream",
          "name": "stdout",
          "text": [
            "loss epoch: 0.04232085\n"
          ]
        },
        {
          "output_type": "stream",
          "name": "stderr",
          "text": [
            "\r 45%|████▌     | 90/200 [00:42<00:52,  2.10it/s]"
          ]
        },
        {
          "output_type": "stream",
          "name": "stdout",
          "text": [
            "loss epoch: 0.04230729\n"
          ]
        },
        {
          "output_type": "stream",
          "name": "stderr",
          "text": [
            "\r 46%|████▌     | 91/200 [00:43<00:51,  2.10it/s]"
          ]
        },
        {
          "output_type": "stream",
          "name": "stdout",
          "text": [
            "loss epoch: 0.04227186\n"
          ]
        },
        {
          "output_type": "stream",
          "name": "stderr",
          "text": [
            "\r 46%|████▌     | 92/200 [00:43<00:51,  2.08it/s]"
          ]
        },
        {
          "output_type": "stream",
          "name": "stdout",
          "text": [
            "loss epoch: 0.04205526\n"
          ]
        },
        {
          "output_type": "stream",
          "name": "stderr",
          "text": [
            "\r 46%|████▋     | 93/200 [00:44<00:51,  2.09it/s]"
          ]
        },
        {
          "output_type": "stream",
          "name": "stdout",
          "text": [
            "loss epoch: 0.04217064\n"
          ]
        },
        {
          "output_type": "stream",
          "name": "stderr",
          "text": [
            "\r 47%|████▋     | 94/200 [00:44<00:50,  2.08it/s]"
          ]
        },
        {
          "output_type": "stream",
          "name": "stdout",
          "text": [
            "loss epoch: 0.04226834\n"
          ]
        },
        {
          "output_type": "stream",
          "name": "stderr",
          "text": [
            "\r 48%|████▊     | 95/200 [00:45<00:50,  2.09it/s]"
          ]
        },
        {
          "output_type": "stream",
          "name": "stdout",
          "text": [
            "loss epoch: 0.04224702\n"
          ]
        },
        {
          "output_type": "stream",
          "name": "stderr",
          "text": [
            "\r 48%|████▊     | 96/200 [00:45<00:49,  2.10it/s]"
          ]
        },
        {
          "output_type": "stream",
          "name": "stdout",
          "text": [
            "loss epoch: 0.04220993\n"
          ]
        },
        {
          "output_type": "stream",
          "name": "stderr",
          "text": [
            "\r 48%|████▊     | 97/200 [00:46<00:48,  2.11it/s]"
          ]
        },
        {
          "output_type": "stream",
          "name": "stdout",
          "text": [
            "loss epoch: 0.04224776\n"
          ]
        },
        {
          "output_type": "stream",
          "name": "stderr",
          "text": [
            "\r 49%|████▉     | 98/200 [00:46<00:48,  2.12it/s]"
          ]
        },
        {
          "output_type": "stream",
          "name": "stdout",
          "text": [
            "loss epoch: 0.04225654\n"
          ]
        },
        {
          "output_type": "stream",
          "name": "stderr",
          "text": [
            "\r 50%|████▉     | 99/200 [00:47<00:47,  2.11it/s]"
          ]
        },
        {
          "output_type": "stream",
          "name": "stdout",
          "text": [
            "loss epoch: 0.04255882\n"
          ]
        },
        {
          "output_type": "stream",
          "name": "stderr",
          "text": [
            "\r 50%|█████     | 100/200 [00:47<00:47,  2.11it/s]"
          ]
        },
        {
          "output_type": "stream",
          "name": "stdout",
          "text": [
            "loss epoch: 0.05085904\n"
          ]
        },
        {
          "output_type": "stream",
          "name": "stderr",
          "text": [
            "\r 50%|█████     | 101/200 [00:48<00:47,  2.09it/s]"
          ]
        },
        {
          "output_type": "stream",
          "name": "stdout",
          "text": [
            "loss epoch: 0.05274266\n"
          ]
        },
        {
          "output_type": "stream",
          "name": "stderr",
          "text": [
            "\r 51%|█████     | 102/200 [00:48<00:46,  2.12it/s]"
          ]
        },
        {
          "output_type": "stream",
          "name": "stdout",
          "text": [
            "loss epoch: 0.05264360\n"
          ]
        },
        {
          "output_type": "stream",
          "name": "stderr",
          "text": [
            "\r 52%|█████▏    | 103/200 [00:49<00:46,  2.10it/s]"
          ]
        },
        {
          "output_type": "stream",
          "name": "stdout",
          "text": [
            "loss epoch: 0.05312465\n"
          ]
        },
        {
          "output_type": "stream",
          "name": "stderr",
          "text": [
            "\r 52%|█████▏    | 104/200 [00:49<00:45,  2.12it/s]"
          ]
        },
        {
          "output_type": "stream",
          "name": "stdout",
          "text": [
            "loss epoch: 0.05162039\n"
          ]
        },
        {
          "output_type": "stream",
          "name": "stderr",
          "text": [
            "\r 52%|█████▎    | 105/200 [00:50<00:45,  2.08it/s]"
          ]
        },
        {
          "output_type": "stream",
          "name": "stdout",
          "text": [
            "loss epoch: 0.05271647\n"
          ]
        },
        {
          "output_type": "stream",
          "name": "stderr",
          "text": [
            "\r 53%|█████▎    | 106/200 [00:50<00:44,  2.11it/s]"
          ]
        },
        {
          "output_type": "stream",
          "name": "stdout",
          "text": [
            "loss epoch: 0.05355912\n"
          ]
        },
        {
          "output_type": "stream",
          "name": "stderr",
          "text": [
            "\r 54%|█████▎    | 107/200 [00:50<00:44,  2.09it/s]"
          ]
        },
        {
          "output_type": "stream",
          "name": "stdout",
          "text": [
            "loss epoch: 0.05376873\n"
          ]
        },
        {
          "output_type": "stream",
          "name": "stderr",
          "text": [
            "\r 54%|█████▍    | 108/200 [00:51<00:43,  2.12it/s]"
          ]
        },
        {
          "output_type": "stream",
          "name": "stdout",
          "text": [
            "loss epoch: 0.05345981\n"
          ]
        },
        {
          "output_type": "stream",
          "name": "stderr",
          "text": [
            "\r 55%|█████▍    | 109/200 [00:51<00:43,  2.11it/s]"
          ]
        },
        {
          "output_type": "stream",
          "name": "stdout",
          "text": [
            "loss epoch: 0.05386261\n"
          ]
        },
        {
          "output_type": "stream",
          "name": "stderr",
          "text": [
            "\r 55%|█████▌    | 110/200 [00:52<00:42,  2.10it/s]"
          ]
        },
        {
          "output_type": "stream",
          "name": "stdout",
          "text": [
            "loss epoch: 0.05294492\n"
          ]
        },
        {
          "output_type": "stream",
          "name": "stderr",
          "text": [
            "\r 56%|█████▌    | 111/200 [00:52<00:42,  2.09it/s]"
          ]
        },
        {
          "output_type": "stream",
          "name": "stdout",
          "text": [
            "loss epoch: 0.05246961\n"
          ]
        },
        {
          "output_type": "stream",
          "name": "stderr",
          "text": [
            "\r 56%|█████▌    | 112/200 [00:53<00:42,  2.06it/s]"
          ]
        },
        {
          "output_type": "stream",
          "name": "stdout",
          "text": [
            "loss epoch: 0.05308734\n"
          ]
        },
        {
          "output_type": "stream",
          "name": "stderr",
          "text": [
            "\r 56%|█████▋    | 113/200 [00:53<00:41,  2.08it/s]"
          ]
        },
        {
          "output_type": "stream",
          "name": "stdout",
          "text": [
            "loss epoch: 0.05395643\n"
          ]
        },
        {
          "output_type": "stream",
          "name": "stderr",
          "text": [
            "\r 57%|█████▋    | 114/200 [00:54<00:41,  2.08it/s]"
          ]
        },
        {
          "output_type": "stream",
          "name": "stdout",
          "text": [
            "loss epoch: 0.05321041\n"
          ]
        },
        {
          "output_type": "stream",
          "name": "stderr",
          "text": [
            "\r 57%|█████▊    | 115/200 [00:54<00:40,  2.08it/s]"
          ]
        },
        {
          "output_type": "stream",
          "name": "stdout",
          "text": [
            "loss epoch: 0.05338397\n"
          ]
        },
        {
          "output_type": "stream",
          "name": "stderr",
          "text": [
            "\r 58%|█████▊    | 116/200 [00:55<00:40,  2.08it/s]"
          ]
        },
        {
          "output_type": "stream",
          "name": "stdout",
          "text": [
            "loss epoch: 0.05255257\n"
          ]
        },
        {
          "output_type": "stream",
          "name": "stderr",
          "text": [
            "\r 58%|█████▊    | 117/200 [00:55<00:39,  2.08it/s]"
          ]
        },
        {
          "output_type": "stream",
          "name": "stdout",
          "text": [
            "loss epoch: 0.05206357\n"
          ]
        },
        {
          "output_type": "stream",
          "name": "stderr",
          "text": [
            "\r 59%|█████▉    | 118/200 [00:56<00:39,  2.09it/s]"
          ]
        },
        {
          "output_type": "stream",
          "name": "stdout",
          "text": [
            "loss epoch: 0.06957285\n"
          ]
        },
        {
          "output_type": "stream",
          "name": "stderr",
          "text": [
            "\r 60%|█████▉    | 119/200 [00:56<00:38,  2.10it/s]"
          ]
        },
        {
          "output_type": "stream",
          "name": "stdout",
          "text": [
            "loss epoch: 0.07045517\n"
          ]
        },
        {
          "output_type": "stream",
          "name": "stderr",
          "text": [
            "\r 60%|██████    | 120/200 [00:57<00:39,  2.03it/s]"
          ]
        },
        {
          "output_type": "stream",
          "name": "stdout",
          "text": [
            "loss epoch: 0.07045937\n"
          ]
        },
        {
          "output_type": "stream",
          "name": "stderr",
          "text": [
            "\r 60%|██████    | 121/200 [00:57<00:38,  2.05it/s]"
          ]
        },
        {
          "output_type": "stream",
          "name": "stdout",
          "text": [
            "loss epoch: 0.07045943\n"
          ]
        },
        {
          "output_type": "stream",
          "name": "stderr",
          "text": [
            "\r 61%|██████    | 122/200 [00:58<00:37,  2.06it/s]"
          ]
        },
        {
          "output_type": "stream",
          "name": "stdout",
          "text": [
            "loss epoch: 0.07045945\n"
          ]
        },
        {
          "output_type": "stream",
          "name": "stderr",
          "text": [
            "\r 62%|██████▏   | 123/200 [00:58<00:37,  2.05it/s]"
          ]
        },
        {
          "output_type": "stream",
          "name": "stdout",
          "text": [
            "loss epoch: 0.07045947\n"
          ]
        },
        {
          "output_type": "stream",
          "name": "stderr",
          "text": [
            "\r 62%|██████▏   | 124/200 [00:59<00:36,  2.09it/s]"
          ]
        },
        {
          "output_type": "stream",
          "name": "stdout",
          "text": [
            "loss epoch: 0.07045948\n"
          ]
        },
        {
          "output_type": "stream",
          "name": "stderr",
          "text": [
            "\r 62%|██████▎   | 125/200 [00:59<00:35,  2.10it/s]"
          ]
        },
        {
          "output_type": "stream",
          "name": "stdout",
          "text": [
            "loss epoch: 0.07045949\n"
          ]
        },
        {
          "output_type": "stream",
          "name": "stderr",
          "text": [
            "\r 63%|██████▎   | 126/200 [01:00<00:35,  2.09it/s]"
          ]
        },
        {
          "output_type": "stream",
          "name": "stdout",
          "text": [
            "loss epoch: 0.07045950\n"
          ]
        },
        {
          "output_type": "stream",
          "name": "stderr",
          "text": [
            "\r 64%|██████▎   | 127/200 [01:00<00:34,  2.09it/s]"
          ]
        },
        {
          "output_type": "stream",
          "name": "stdout",
          "text": [
            "loss epoch: 0.07045951\n"
          ]
        },
        {
          "output_type": "stream",
          "name": "stderr",
          "text": [
            "\r 64%|██████▍   | 128/200 [01:01<00:34,  2.10it/s]"
          ]
        },
        {
          "output_type": "stream",
          "name": "stdout",
          "text": [
            "loss epoch: 0.07045951\n"
          ]
        },
        {
          "output_type": "stream",
          "name": "stderr",
          "text": [
            "\r 64%|██████▍   | 129/200 [01:01<00:33,  2.10it/s]"
          ]
        },
        {
          "output_type": "stream",
          "name": "stdout",
          "text": [
            "loss epoch: 0.07045951\n"
          ]
        },
        {
          "output_type": "stream",
          "name": "stderr",
          "text": [
            "\r 65%|██████▌   | 130/200 [01:01<00:33,  2.11it/s]"
          ]
        },
        {
          "output_type": "stream",
          "name": "stdout",
          "text": [
            "loss epoch: 0.07045951\n"
          ]
        },
        {
          "output_type": "stream",
          "name": "stderr",
          "text": [
            "\r 66%|██████▌   | 131/200 [01:02<00:32,  2.11it/s]"
          ]
        },
        {
          "output_type": "stream",
          "name": "stdout",
          "text": [
            "loss epoch: 0.07045951\n"
          ]
        },
        {
          "output_type": "stream",
          "name": "stderr",
          "text": [
            "\r 66%|██████▌   | 132/200 [01:02<00:32,  2.11it/s]"
          ]
        },
        {
          "output_type": "stream",
          "name": "stdout",
          "text": [
            "loss epoch: 0.07045952\n"
          ]
        },
        {
          "output_type": "stream",
          "name": "stderr",
          "text": [
            "\r 66%|██████▋   | 133/200 [01:03<00:31,  2.12it/s]"
          ]
        },
        {
          "output_type": "stream",
          "name": "stdout",
          "text": [
            "loss epoch: 0.07045952\n"
          ]
        },
        {
          "output_type": "stream",
          "name": "stderr",
          "text": [
            "\r 67%|██████▋   | 134/200 [01:03<00:31,  2.09it/s]"
          ]
        },
        {
          "output_type": "stream",
          "name": "stdout",
          "text": [
            "loss epoch: 0.07045952\n"
          ]
        },
        {
          "output_type": "stream",
          "name": "stderr",
          "text": [
            "\r 68%|██████▊   | 135/200 [01:04<00:30,  2.10it/s]"
          ]
        },
        {
          "output_type": "stream",
          "name": "stdout",
          "text": [
            "loss epoch: 0.07045953\n"
          ]
        },
        {
          "output_type": "stream",
          "name": "stderr",
          "text": [
            "\r 68%|██████▊   | 136/200 [01:04<00:30,  2.09it/s]"
          ]
        },
        {
          "output_type": "stream",
          "name": "stdout",
          "text": [
            "loss epoch: 0.07045953\n"
          ]
        },
        {
          "output_type": "stream",
          "name": "stderr",
          "text": [
            "\r 68%|██████▊   | 137/200 [01:05<00:29,  2.11it/s]"
          ]
        },
        {
          "output_type": "stream",
          "name": "stdout",
          "text": [
            "loss epoch: 0.07045953\n"
          ]
        },
        {
          "output_type": "stream",
          "name": "stderr",
          "text": [
            "\r 69%|██████▉   | 138/200 [01:05<00:29,  2.07it/s]"
          ]
        },
        {
          "output_type": "stream",
          "name": "stdout",
          "text": [
            "loss epoch: 0.07045953\n"
          ]
        },
        {
          "output_type": "stream",
          "name": "stderr",
          "text": [
            "\r 70%|██████▉   | 139/200 [01:06<00:28,  2.10it/s]"
          ]
        },
        {
          "output_type": "stream",
          "name": "stdout",
          "text": [
            "loss epoch: 0.07045953\n"
          ]
        },
        {
          "output_type": "stream",
          "name": "stderr",
          "text": [
            "\r 70%|███████   | 140/200 [01:06<00:28,  2.09it/s]"
          ]
        },
        {
          "output_type": "stream",
          "name": "stdout",
          "text": [
            "loss epoch: 0.07045954\n"
          ]
        },
        {
          "output_type": "stream",
          "name": "stderr",
          "text": [
            "\r 70%|███████   | 141/200 [01:07<00:28,  2.11it/s]"
          ]
        },
        {
          "output_type": "stream",
          "name": "stdout",
          "text": [
            "loss epoch: 0.07045954\n"
          ]
        },
        {
          "output_type": "stream",
          "name": "stderr",
          "text": [
            "\r 71%|███████   | 142/200 [01:07<00:27,  2.09it/s]"
          ]
        },
        {
          "output_type": "stream",
          "name": "stdout",
          "text": [
            "loss epoch: 0.07045954\n"
          ]
        },
        {
          "output_type": "stream",
          "name": "stderr",
          "text": [
            "\r 72%|███████▏  | 143/200 [01:08<00:27,  2.09it/s]"
          ]
        },
        {
          "output_type": "stream",
          "name": "stdout",
          "text": [
            "loss epoch: 0.07045954\n"
          ]
        },
        {
          "output_type": "stream",
          "name": "stderr",
          "text": [
            "\r 72%|███████▏  | 144/200 [01:08<00:26,  2.09it/s]"
          ]
        },
        {
          "output_type": "stream",
          "name": "stdout",
          "text": [
            "loss epoch: 0.07045954\n"
          ]
        },
        {
          "output_type": "stream",
          "name": "stderr",
          "text": [
            "\r 72%|███████▎  | 145/200 [01:09<00:26,  2.11it/s]"
          ]
        },
        {
          "output_type": "stream",
          "name": "stdout",
          "text": [
            "loss epoch: 0.07045954\n"
          ]
        },
        {
          "output_type": "stream",
          "name": "stderr",
          "text": [
            "\r 73%|███████▎  | 146/200 [01:09<00:26,  2.07it/s]"
          ]
        },
        {
          "output_type": "stream",
          "name": "stdout",
          "text": [
            "loss epoch: 0.07045954\n"
          ]
        },
        {
          "output_type": "stream",
          "name": "stderr",
          "text": [
            "\r 74%|███████▎  | 147/200 [01:10<00:25,  2.09it/s]"
          ]
        },
        {
          "output_type": "stream",
          "name": "stdout",
          "text": [
            "loss epoch: 0.07045954\n"
          ]
        },
        {
          "output_type": "stream",
          "name": "stderr",
          "text": [
            "\r 74%|███████▍  | 148/200 [01:10<00:25,  2.07it/s]"
          ]
        },
        {
          "output_type": "stream",
          "name": "stdout",
          "text": [
            "loss epoch: 0.07045954\n"
          ]
        },
        {
          "output_type": "stream",
          "name": "stderr",
          "text": [
            "\r 74%|███████▍  | 149/200 [01:11<00:24,  2.08it/s]"
          ]
        },
        {
          "output_type": "stream",
          "name": "stdout",
          "text": [
            "loss epoch: 0.07045954\n"
          ]
        },
        {
          "output_type": "stream",
          "name": "stderr",
          "text": [
            "\r 75%|███████▌  | 150/200 [01:11<00:23,  2.09it/s]"
          ]
        },
        {
          "output_type": "stream",
          "name": "stdout",
          "text": [
            "loss epoch: 0.07045954\n"
          ]
        },
        {
          "output_type": "stream",
          "name": "stderr",
          "text": [
            "\r 76%|███████▌  | 151/200 [01:12<00:23,  2.09it/s]"
          ]
        },
        {
          "output_type": "stream",
          "name": "stdout",
          "text": [
            "loss epoch: 0.07045954\n"
          ]
        },
        {
          "output_type": "stream",
          "name": "stderr",
          "text": [
            "\r 76%|███████▌  | 152/200 [01:12<00:22,  2.09it/s]"
          ]
        },
        {
          "output_type": "stream",
          "name": "stdout",
          "text": [
            "loss epoch: 0.07045954\n"
          ]
        },
        {
          "output_type": "stream",
          "name": "stderr",
          "text": [
            "\r 76%|███████▋  | 153/200 [01:12<00:22,  2.10it/s]"
          ]
        },
        {
          "output_type": "stream",
          "name": "stdout",
          "text": [
            "loss epoch: 0.07045954\n"
          ]
        },
        {
          "output_type": "stream",
          "name": "stderr",
          "text": [
            "\r 77%|███████▋  | 154/200 [01:13<00:21,  2.12it/s]"
          ]
        },
        {
          "output_type": "stream",
          "name": "stdout",
          "text": [
            "loss epoch: 0.07045955\n"
          ]
        },
        {
          "output_type": "stream",
          "name": "stderr",
          "text": [
            "\r 78%|███████▊  | 155/200 [01:13<00:21,  2.11it/s]"
          ]
        },
        {
          "output_type": "stream",
          "name": "stdout",
          "text": [
            "loss epoch: 0.07045955\n"
          ]
        },
        {
          "output_type": "stream",
          "name": "stderr",
          "text": [
            "\r 78%|███████▊  | 156/200 [01:14<00:20,  2.14it/s]"
          ]
        },
        {
          "output_type": "stream",
          "name": "stdout",
          "text": [
            "loss epoch: 0.07045955\n"
          ]
        },
        {
          "output_type": "stream",
          "name": "stderr",
          "text": [
            "\r 78%|███████▊  | 157/200 [01:14<00:20,  2.11it/s]"
          ]
        },
        {
          "output_type": "stream",
          "name": "stdout",
          "text": [
            "loss epoch: 0.07045955\n"
          ]
        },
        {
          "output_type": "stream",
          "name": "stderr",
          "text": [
            "\r 79%|███████▉  | 158/200 [01:15<00:19,  2.12it/s]"
          ]
        },
        {
          "output_type": "stream",
          "name": "stdout",
          "text": [
            "loss epoch: 0.07045955\n"
          ]
        },
        {
          "output_type": "stream",
          "name": "stderr",
          "text": [
            "\r 80%|███████▉  | 159/200 [01:15<00:19,  2.11it/s]"
          ]
        },
        {
          "output_type": "stream",
          "name": "stdout",
          "text": [
            "loss epoch: 0.07045955\n"
          ]
        },
        {
          "output_type": "stream",
          "name": "stderr",
          "text": [
            "\r 80%|████████  | 160/200 [01:16<00:18,  2.13it/s]"
          ]
        },
        {
          "output_type": "stream",
          "name": "stdout",
          "text": [
            "loss epoch: 0.07045955\n"
          ]
        },
        {
          "output_type": "stream",
          "name": "stderr",
          "text": [
            "\r 80%|████████  | 161/200 [01:16<00:18,  2.12it/s]"
          ]
        },
        {
          "output_type": "stream",
          "name": "stdout",
          "text": [
            "loss epoch: 0.07045955\n"
          ]
        },
        {
          "output_type": "stream",
          "name": "stderr",
          "text": [
            "\r 81%|████████  | 162/200 [01:17<00:17,  2.13it/s]"
          ]
        },
        {
          "output_type": "stream",
          "name": "stdout",
          "text": [
            "loss epoch: 0.07045955\n"
          ]
        },
        {
          "output_type": "stream",
          "name": "stderr",
          "text": [
            "\r 82%|████████▏ | 163/200 [01:17<00:17,  2.12it/s]"
          ]
        },
        {
          "output_type": "stream",
          "name": "stdout",
          "text": [
            "loss epoch: 0.07045955\n"
          ]
        },
        {
          "output_type": "stream",
          "name": "stderr",
          "text": [
            "\r 82%|████████▏ | 164/200 [01:18<00:16,  2.12it/s]"
          ]
        },
        {
          "output_type": "stream",
          "name": "stdout",
          "text": [
            "loss epoch: 0.07045955\n"
          ]
        },
        {
          "output_type": "stream",
          "name": "stderr",
          "text": [
            "\r 82%|████████▎ | 165/200 [01:18<00:16,  2.11it/s]"
          ]
        },
        {
          "output_type": "stream",
          "name": "stdout",
          "text": [
            "loss epoch: 0.07045955\n"
          ]
        },
        {
          "output_type": "stream",
          "name": "stderr",
          "text": [
            "\r 83%|████████▎ | 166/200 [01:19<00:16,  2.11it/s]"
          ]
        },
        {
          "output_type": "stream",
          "name": "stdout",
          "text": [
            "loss epoch: 0.07045955\n"
          ]
        },
        {
          "output_type": "stream",
          "name": "stderr",
          "text": [
            "\r 84%|████████▎ | 167/200 [01:19<00:15,  2.13it/s]"
          ]
        },
        {
          "output_type": "stream",
          "name": "stdout",
          "text": [
            "loss epoch: 0.07045955\n"
          ]
        },
        {
          "output_type": "stream",
          "name": "stderr",
          "text": [
            "\r 84%|████████▍ | 168/200 [01:20<00:15,  2.12it/s]"
          ]
        },
        {
          "output_type": "stream",
          "name": "stdout",
          "text": [
            "loss epoch: 0.07045955\n"
          ]
        },
        {
          "output_type": "stream",
          "name": "stderr",
          "text": [
            "\r 84%|████████▍ | 169/200 [01:20<00:14,  2.11it/s]"
          ]
        },
        {
          "output_type": "stream",
          "name": "stdout",
          "text": [
            "loss epoch: 0.07045955\n"
          ]
        },
        {
          "output_type": "stream",
          "name": "stderr",
          "text": [
            "\r 85%|████████▌ | 170/200 [01:20<00:14,  2.09it/s]"
          ]
        },
        {
          "output_type": "stream",
          "name": "stdout",
          "text": [
            "loss epoch: 0.07045955\n"
          ]
        },
        {
          "output_type": "stream",
          "name": "stderr",
          "text": [
            "\r 86%|████████▌ | 171/200 [01:21<00:13,  2.12it/s]"
          ]
        },
        {
          "output_type": "stream",
          "name": "stdout",
          "text": [
            "loss epoch: 0.07045955\n"
          ]
        },
        {
          "output_type": "stream",
          "name": "stderr",
          "text": [
            "\r 86%|████████▌ | 172/200 [01:21<00:13,  2.12it/s]"
          ]
        },
        {
          "output_type": "stream",
          "name": "stdout",
          "text": [
            "loss epoch: 0.07045955\n"
          ]
        },
        {
          "output_type": "stream",
          "name": "stderr",
          "text": [
            "\r 86%|████████▋ | 173/200 [01:22<00:13,  2.05it/s]"
          ]
        },
        {
          "output_type": "stream",
          "name": "stdout",
          "text": [
            "loss epoch: 0.07045955\n"
          ]
        },
        {
          "output_type": "stream",
          "name": "stderr",
          "text": [
            "\r 87%|████████▋ | 174/200 [01:22<00:12,  2.04it/s]"
          ]
        },
        {
          "output_type": "stream",
          "name": "stdout",
          "text": [
            "loss epoch: 0.07045955\n"
          ]
        },
        {
          "output_type": "stream",
          "name": "stderr",
          "text": [
            "\r 88%|████████▊ | 175/200 [01:23<00:11,  2.08it/s]"
          ]
        },
        {
          "output_type": "stream",
          "name": "stdout",
          "text": [
            "loss epoch: 0.07045955\n"
          ]
        },
        {
          "output_type": "stream",
          "name": "stderr",
          "text": [
            "\r 88%|████████▊ | 176/200 [01:23<00:11,  2.07it/s]"
          ]
        },
        {
          "output_type": "stream",
          "name": "stdout",
          "text": [
            "loss epoch: 0.07045955\n"
          ]
        },
        {
          "output_type": "stream",
          "name": "stderr",
          "text": [
            "\r 88%|████████▊ | 177/200 [01:24<00:11,  2.08it/s]"
          ]
        },
        {
          "output_type": "stream",
          "name": "stdout",
          "text": [
            "loss epoch: 0.07045955\n"
          ]
        },
        {
          "output_type": "stream",
          "name": "stderr",
          "text": [
            "\r 89%|████████▉ | 178/200 [01:24<00:10,  2.02it/s]"
          ]
        },
        {
          "output_type": "stream",
          "name": "stdout",
          "text": [
            "loss epoch: 0.07045955\n"
          ]
        },
        {
          "output_type": "stream",
          "name": "stderr",
          "text": [
            "\r 90%|████████▉ | 179/200 [01:25<00:11,  1.75it/s]"
          ]
        },
        {
          "output_type": "stream",
          "name": "stdout",
          "text": [
            "loss epoch: 0.07045955\n"
          ]
        },
        {
          "output_type": "stream",
          "name": "stderr",
          "text": [
            "\r 90%|█████████ | 180/200 [01:26<00:12,  1.62it/s]"
          ]
        },
        {
          "output_type": "stream",
          "name": "stdout",
          "text": [
            "loss epoch: 0.07045955\n"
          ]
        },
        {
          "output_type": "stream",
          "name": "stderr",
          "text": [
            "\r 90%|█████████ | 181/200 [01:27<00:12,  1.53it/s]"
          ]
        },
        {
          "output_type": "stream",
          "name": "stdout",
          "text": [
            "loss epoch: 0.07045955\n"
          ]
        },
        {
          "output_type": "stream",
          "name": "stderr",
          "text": [
            "\r 91%|█████████ | 182/200 [01:27<00:12,  1.48it/s]"
          ]
        },
        {
          "output_type": "stream",
          "name": "stdout",
          "text": [
            "loss epoch: 0.07045955\n"
          ]
        },
        {
          "output_type": "stream",
          "name": "stderr",
          "text": [
            "\r 92%|█████████▏| 183/200 [01:28<00:11,  1.45it/s]"
          ]
        },
        {
          "output_type": "stream",
          "name": "stdout",
          "text": [
            "loss epoch: 0.07045955\n"
          ]
        },
        {
          "output_type": "stream",
          "name": "stderr",
          "text": [
            "\r 92%|█████████▏| 184/200 [01:29<00:10,  1.49it/s]"
          ]
        },
        {
          "output_type": "stream",
          "name": "stdout",
          "text": [
            "loss epoch: 0.07045955\n"
          ]
        },
        {
          "output_type": "stream",
          "name": "stderr",
          "text": [
            "\r 92%|█████████▎| 185/200 [01:29<00:09,  1.64it/s]"
          ]
        },
        {
          "output_type": "stream",
          "name": "stdout",
          "text": [
            "loss epoch: 0.07045955\n"
          ]
        },
        {
          "output_type": "stream",
          "name": "stderr",
          "text": [
            "\r 93%|█████████▎| 186/200 [01:30<00:07,  1.76it/s]"
          ]
        },
        {
          "output_type": "stream",
          "name": "stdout",
          "text": [
            "loss epoch: 0.07045955\n"
          ]
        },
        {
          "output_type": "stream",
          "name": "stderr",
          "text": [
            "\r 94%|█████████▎| 187/200 [01:30<00:07,  1.82it/s]"
          ]
        },
        {
          "output_type": "stream",
          "name": "stdout",
          "text": [
            "loss epoch: 0.07045955\n"
          ]
        },
        {
          "output_type": "stream",
          "name": "stderr",
          "text": [
            "\r 94%|█████████▍| 188/200 [01:31<00:06,  1.87it/s]"
          ]
        },
        {
          "output_type": "stream",
          "name": "stdout",
          "text": [
            "loss epoch: 0.07045955\n"
          ]
        },
        {
          "output_type": "stream",
          "name": "stderr",
          "text": [
            "\r 94%|█████████▍| 189/200 [01:31<00:05,  1.95it/s]"
          ]
        },
        {
          "output_type": "stream",
          "name": "stdout",
          "text": [
            "loss epoch: 0.07045955\n"
          ]
        },
        {
          "output_type": "stream",
          "name": "stderr",
          "text": [
            "\r 95%|█████████▌| 190/200 [01:32<00:04,  2.00it/s]"
          ]
        },
        {
          "output_type": "stream",
          "name": "stdout",
          "text": [
            "loss epoch: 0.07045955\n"
          ]
        },
        {
          "output_type": "stream",
          "name": "stderr",
          "text": [
            "\r 96%|█████████▌| 191/200 [01:32<00:04,  2.04it/s]"
          ]
        },
        {
          "output_type": "stream",
          "name": "stdout",
          "text": [
            "loss epoch: 0.07045955\n"
          ]
        },
        {
          "output_type": "stream",
          "name": "stderr",
          "text": [
            "\r 96%|█████████▌| 192/200 [01:32<00:03,  2.06it/s]"
          ]
        },
        {
          "output_type": "stream",
          "name": "stdout",
          "text": [
            "loss epoch: 0.07045955\n"
          ]
        },
        {
          "output_type": "stream",
          "name": "stderr",
          "text": [
            "\r 96%|█████████▋| 193/200 [01:33<00:03,  2.09it/s]"
          ]
        },
        {
          "output_type": "stream",
          "name": "stdout",
          "text": [
            "loss epoch: 0.07045955\n"
          ]
        },
        {
          "output_type": "stream",
          "name": "stderr",
          "text": [
            "\r 97%|█████████▋| 194/200 [01:33<00:02,  2.10it/s]"
          ]
        },
        {
          "output_type": "stream",
          "name": "stdout",
          "text": [
            "loss epoch: 0.07045955\n"
          ]
        },
        {
          "output_type": "stream",
          "name": "stderr",
          "text": [
            "\r 98%|█████████▊| 195/200 [01:34<00:02,  2.11it/s]"
          ]
        },
        {
          "output_type": "stream",
          "name": "stdout",
          "text": [
            "loss epoch: 0.07045955\n"
          ]
        },
        {
          "output_type": "stream",
          "name": "stderr",
          "text": [
            "\r 98%|█████████▊| 196/200 [01:34<00:01,  2.12it/s]"
          ]
        },
        {
          "output_type": "stream",
          "name": "stdout",
          "text": [
            "loss epoch: 0.07045955\n"
          ]
        },
        {
          "output_type": "stream",
          "name": "stderr",
          "text": [
            "\r 98%|█████████▊| 197/200 [01:35<00:01,  2.13it/s]"
          ]
        },
        {
          "output_type": "stream",
          "name": "stdout",
          "text": [
            "loss epoch: 0.07045955\n"
          ]
        },
        {
          "output_type": "stream",
          "name": "stderr",
          "text": [
            "\r 99%|█████████▉| 198/200 [01:35<00:00,  2.11it/s]"
          ]
        },
        {
          "output_type": "stream",
          "name": "stdout",
          "text": [
            "loss epoch: 0.07045955\n"
          ]
        },
        {
          "output_type": "stream",
          "name": "stderr",
          "text": [
            "\r100%|█████████▉| 199/200 [01:36<00:00,  2.10it/s]"
          ]
        },
        {
          "output_type": "stream",
          "name": "stdout",
          "text": [
            "loss epoch: 0.07045955\n"
          ]
        },
        {
          "output_type": "stream",
          "name": "stderr",
          "text": [
            "100%|██████████| 200/200 [01:36<00:00,  2.07it/s]\n"
          ]
        },
        {
          "output_type": "stream",
          "name": "stdout",
          "text": [
            "loss epoch: 0.07045955\n"
          ]
        },
        {
          "output_type": "stream",
          "name": "stderr",
          "text": [
            "  1%|          | 1/100 [00:00<00:49,  2.00it/s]"
          ]
        },
        {
          "output_type": "stream",
          "name": "stdout",
          "text": [
            "loss epoch: 0.07045955\n"
          ]
        },
        {
          "output_type": "stream",
          "name": "stderr",
          "text": [
            "\r  2%|▏         | 2/100 [00:00<00:48,  2.03it/s]"
          ]
        },
        {
          "output_type": "stream",
          "name": "stdout",
          "text": [
            "loss epoch: 0.07045955\n"
          ]
        },
        {
          "output_type": "stream",
          "name": "stderr",
          "text": [
            "\r  3%|▎         | 3/100 [00:01<00:47,  2.03it/s]"
          ]
        },
        {
          "output_type": "stream",
          "name": "stdout",
          "text": [
            "loss epoch: 0.07045955\n"
          ]
        },
        {
          "output_type": "stream",
          "name": "stderr",
          "text": [
            "\r  4%|▍         | 4/100 [00:01<00:46,  2.05it/s]"
          ]
        },
        {
          "output_type": "stream",
          "name": "stdout",
          "text": [
            "loss epoch: 0.07045955\n"
          ]
        },
        {
          "output_type": "stream",
          "name": "stderr",
          "text": [
            "\r  5%|▌         | 5/100 [00:02<00:46,  2.05it/s]"
          ]
        },
        {
          "output_type": "stream",
          "name": "stdout",
          "text": [
            "loss epoch: 0.07045955\n"
          ]
        },
        {
          "output_type": "stream",
          "name": "stderr",
          "text": [
            "\r  6%|▌         | 6/100 [00:02<00:47,  1.98it/s]"
          ]
        },
        {
          "output_type": "stream",
          "name": "stdout",
          "text": [
            "loss epoch: 0.07045955\n"
          ]
        },
        {
          "output_type": "stream",
          "name": "stderr",
          "text": [
            "\r  7%|▋         | 7/100 [00:03<00:46,  1.99it/s]"
          ]
        },
        {
          "output_type": "stream",
          "name": "stdout",
          "text": [
            "loss epoch: 0.07045955\n"
          ]
        },
        {
          "output_type": "stream",
          "name": "stderr",
          "text": [
            "\r  8%|▊         | 8/100 [00:03<00:46,  1.99it/s]"
          ]
        },
        {
          "output_type": "stream",
          "name": "stdout",
          "text": [
            "loss epoch: 0.07045955\n"
          ]
        },
        {
          "output_type": "stream",
          "name": "stderr",
          "text": [
            "\r  9%|▉         | 9/100 [00:04<00:45,  1.99it/s]"
          ]
        },
        {
          "output_type": "stream",
          "name": "stdout",
          "text": [
            "loss epoch: 0.07045955\n"
          ]
        },
        {
          "output_type": "stream",
          "name": "stderr",
          "text": [
            "\r 10%|█         | 10/100 [00:04<00:44,  2.02it/s]"
          ]
        },
        {
          "output_type": "stream",
          "name": "stdout",
          "text": [
            "loss epoch: 0.07045955\n"
          ]
        },
        {
          "output_type": "stream",
          "name": "stderr",
          "text": [
            "\r 11%|█         | 11/100 [00:05<00:43,  2.04it/s]"
          ]
        },
        {
          "output_type": "stream",
          "name": "stdout",
          "text": [
            "loss epoch: 0.07045955\n"
          ]
        },
        {
          "output_type": "stream",
          "name": "stderr",
          "text": [
            "\r 12%|█▏        | 12/100 [00:05<00:43,  2.04it/s]"
          ]
        },
        {
          "output_type": "stream",
          "name": "stdout",
          "text": [
            "loss epoch: 0.07045955\n"
          ]
        },
        {
          "output_type": "stream",
          "name": "stderr",
          "text": [
            "\r 13%|█▎        | 13/100 [00:06<00:42,  2.05it/s]"
          ]
        },
        {
          "output_type": "stream",
          "name": "stdout",
          "text": [
            "loss epoch: 0.07045955\n"
          ]
        },
        {
          "output_type": "stream",
          "name": "stderr",
          "text": [
            "\r 14%|█▍        | 14/100 [00:06<00:41,  2.05it/s]"
          ]
        },
        {
          "output_type": "stream",
          "name": "stdout",
          "text": [
            "loss epoch: 0.07045955\n"
          ]
        },
        {
          "output_type": "stream",
          "name": "stderr",
          "text": [
            "\r 15%|█▌        | 15/100 [00:07<00:41,  2.06it/s]"
          ]
        },
        {
          "output_type": "stream",
          "name": "stdout",
          "text": [
            "loss epoch: 0.07045955\n"
          ]
        },
        {
          "output_type": "stream",
          "name": "stderr",
          "text": [
            "\r 16%|█▌        | 16/100 [00:07<00:40,  2.06it/s]"
          ]
        },
        {
          "output_type": "stream",
          "name": "stdout",
          "text": [
            "loss epoch: 0.07045955\n"
          ]
        },
        {
          "output_type": "stream",
          "name": "stderr",
          "text": [
            "\r 17%|█▋        | 17/100 [00:08<00:40,  2.05it/s]"
          ]
        },
        {
          "output_type": "stream",
          "name": "stdout",
          "text": [
            "loss epoch: 0.07045955\n"
          ]
        },
        {
          "output_type": "stream",
          "name": "stderr",
          "text": [
            "\r 18%|█▊        | 18/100 [00:08<00:40,  2.04it/s]"
          ]
        },
        {
          "output_type": "stream",
          "name": "stdout",
          "text": [
            "loss epoch: 0.07045955\n"
          ]
        },
        {
          "output_type": "stream",
          "name": "stderr",
          "text": [
            "\r 19%|█▉        | 19/100 [00:09<00:39,  2.06it/s]"
          ]
        },
        {
          "output_type": "stream",
          "name": "stdout",
          "text": [
            "loss epoch: 0.07045955\n"
          ]
        },
        {
          "output_type": "stream",
          "name": "stderr",
          "text": [
            "\r 20%|██        | 20/100 [00:09<00:38,  2.05it/s]"
          ]
        },
        {
          "output_type": "stream",
          "name": "stdout",
          "text": [
            "loss epoch: 0.07045955\n"
          ]
        },
        {
          "output_type": "stream",
          "name": "stderr",
          "text": [
            "\r 21%|██        | 21/100 [00:10<00:38,  2.06it/s]"
          ]
        },
        {
          "output_type": "stream",
          "name": "stdout",
          "text": [
            "loss epoch: 0.07045955\n"
          ]
        },
        {
          "output_type": "stream",
          "name": "stderr",
          "text": [
            "\r 22%|██▏       | 22/100 [00:10<00:38,  2.05it/s]"
          ]
        },
        {
          "output_type": "stream",
          "name": "stdout",
          "text": [
            "loss epoch: 0.07045955\n"
          ]
        },
        {
          "output_type": "stream",
          "name": "stderr",
          "text": [
            "\r 23%|██▎       | 23/100 [00:11<00:37,  2.05it/s]"
          ]
        },
        {
          "output_type": "stream",
          "name": "stdout",
          "text": [
            "loss epoch: 0.07045955\n"
          ]
        },
        {
          "output_type": "stream",
          "name": "stderr",
          "text": [
            "\r 24%|██▍       | 24/100 [00:11<00:37,  2.04it/s]"
          ]
        },
        {
          "output_type": "stream",
          "name": "stdout",
          "text": [
            "loss epoch: 0.07045955\n"
          ]
        },
        {
          "output_type": "stream",
          "name": "stderr",
          "text": [
            "\r 25%|██▌       | 25/100 [00:12<00:36,  2.05it/s]"
          ]
        },
        {
          "output_type": "stream",
          "name": "stdout",
          "text": [
            "loss epoch: 0.07045955\n"
          ]
        },
        {
          "output_type": "stream",
          "name": "stderr",
          "text": [
            "\r 26%|██▌       | 26/100 [00:12<00:36,  2.05it/s]"
          ]
        },
        {
          "output_type": "stream",
          "name": "stdout",
          "text": [
            "loss epoch: 0.07045955\n"
          ]
        },
        {
          "output_type": "stream",
          "name": "stderr",
          "text": [
            "\r 27%|██▋       | 27/100 [00:13<00:35,  2.06it/s]"
          ]
        },
        {
          "output_type": "stream",
          "name": "stdout",
          "text": [
            "loss epoch: 0.07045955\n"
          ]
        },
        {
          "output_type": "stream",
          "name": "stderr",
          "text": [
            "\r 28%|██▊       | 28/100 [00:13<00:34,  2.06it/s]"
          ]
        },
        {
          "output_type": "stream",
          "name": "stdout",
          "text": [
            "loss epoch: 0.07045955\n"
          ]
        },
        {
          "output_type": "stream",
          "name": "stderr",
          "text": [
            "\r 29%|██▉       | 29/100 [00:14<00:34,  2.06it/s]"
          ]
        },
        {
          "output_type": "stream",
          "name": "stdout",
          "text": [
            "loss epoch: 0.07045955\n"
          ]
        },
        {
          "output_type": "stream",
          "name": "stderr",
          "text": [
            "\r 30%|███       | 30/100 [00:14<00:33,  2.06it/s]"
          ]
        },
        {
          "output_type": "stream",
          "name": "stdout",
          "text": [
            "loss epoch: 0.07045955\n"
          ]
        },
        {
          "output_type": "stream",
          "name": "stderr",
          "text": [
            "\r 31%|███       | 31/100 [00:15<00:33,  2.05it/s]"
          ]
        },
        {
          "output_type": "stream",
          "name": "stdout",
          "text": [
            "loss epoch: 0.07045955\n"
          ]
        },
        {
          "output_type": "stream",
          "name": "stderr",
          "text": [
            "\r 32%|███▏      | 32/100 [00:15<00:32,  2.07it/s]"
          ]
        },
        {
          "output_type": "stream",
          "name": "stdout",
          "text": [
            "loss epoch: 0.07045955\n"
          ]
        },
        {
          "output_type": "stream",
          "name": "stderr",
          "text": [
            "\r 33%|███▎      | 33/100 [00:16<00:32,  2.05it/s]"
          ]
        },
        {
          "output_type": "stream",
          "name": "stdout",
          "text": [
            "loss epoch: 0.07045955\n"
          ]
        },
        {
          "output_type": "stream",
          "name": "stderr",
          "text": [
            "\r 34%|███▍      | 34/100 [00:16<00:31,  2.07it/s]"
          ]
        },
        {
          "output_type": "stream",
          "name": "stdout",
          "text": [
            "loss epoch: 0.07045955\n"
          ]
        },
        {
          "output_type": "stream",
          "name": "stderr",
          "text": [
            "\r 35%|███▌      | 35/100 [00:17<00:31,  2.04it/s]"
          ]
        },
        {
          "output_type": "stream",
          "name": "stdout",
          "text": [
            "loss epoch: 0.07045955\n"
          ]
        },
        {
          "output_type": "stream",
          "name": "stderr",
          "text": [
            "\r 36%|███▌      | 36/100 [00:17<00:30,  2.07it/s]"
          ]
        },
        {
          "output_type": "stream",
          "name": "stdout",
          "text": [
            "loss epoch: 0.07045955\n"
          ]
        },
        {
          "output_type": "stream",
          "name": "stderr",
          "text": [
            "\r 37%|███▋      | 37/100 [00:18<00:30,  2.04it/s]"
          ]
        },
        {
          "output_type": "stream",
          "name": "stdout",
          "text": [
            "loss epoch: 0.07045955\n"
          ]
        },
        {
          "output_type": "stream",
          "name": "stderr",
          "text": [
            "\r 38%|███▊      | 38/100 [00:18<00:30,  2.04it/s]"
          ]
        },
        {
          "output_type": "stream",
          "name": "stdout",
          "text": [
            "loss epoch: 0.07045955\n"
          ]
        },
        {
          "output_type": "stream",
          "name": "stderr",
          "text": [
            "\r 39%|███▉      | 39/100 [00:19<00:29,  2.03it/s]"
          ]
        },
        {
          "output_type": "stream",
          "name": "stdout",
          "text": [
            "loss epoch: 0.07045955\n"
          ]
        },
        {
          "output_type": "stream",
          "name": "stderr",
          "text": [
            "\r 40%|████      | 40/100 [00:19<00:29,  2.05it/s]"
          ]
        },
        {
          "output_type": "stream",
          "name": "stdout",
          "text": [
            "loss epoch: 0.07045955\n"
          ]
        },
        {
          "output_type": "stream",
          "name": "stderr",
          "text": [
            "\r 41%|████      | 41/100 [00:20<00:28,  2.04it/s]"
          ]
        },
        {
          "output_type": "stream",
          "name": "stdout",
          "text": [
            "loss epoch: 0.07045955\n"
          ]
        },
        {
          "output_type": "stream",
          "name": "stderr",
          "text": [
            "\r 42%|████▏     | 42/100 [00:20<00:28,  2.06it/s]"
          ]
        },
        {
          "output_type": "stream",
          "name": "stdout",
          "text": [
            "loss epoch: 0.07045955\n"
          ]
        },
        {
          "output_type": "stream",
          "name": "stderr",
          "text": [
            "\r 43%|████▎     | 43/100 [00:21<00:27,  2.05it/s]"
          ]
        },
        {
          "output_type": "stream",
          "name": "stdout",
          "text": [
            "loss epoch: 0.07045955\n"
          ]
        },
        {
          "output_type": "stream",
          "name": "stderr",
          "text": [
            "\r 44%|████▍     | 44/100 [00:21<00:27,  2.07it/s]"
          ]
        },
        {
          "output_type": "stream",
          "name": "stdout",
          "text": [
            "loss epoch: 0.07045955\n"
          ]
        },
        {
          "output_type": "stream",
          "name": "stderr",
          "text": [
            "\r 45%|████▌     | 45/100 [00:22<00:27,  2.03it/s]"
          ]
        },
        {
          "output_type": "stream",
          "name": "stdout",
          "text": [
            "loss epoch: 0.07045955\n"
          ]
        },
        {
          "output_type": "stream",
          "name": "stderr",
          "text": [
            "\r 46%|████▌     | 46/100 [00:22<00:26,  2.03it/s]"
          ]
        },
        {
          "output_type": "stream",
          "name": "stdout",
          "text": [
            "loss epoch: 0.07045955\n"
          ]
        },
        {
          "output_type": "stream",
          "name": "stderr",
          "text": [
            "\r 47%|████▋     | 47/100 [00:22<00:26,  2.03it/s]"
          ]
        },
        {
          "output_type": "stream",
          "name": "stdout",
          "text": [
            "loss epoch: 0.07045955\n"
          ]
        },
        {
          "output_type": "stream",
          "name": "stderr",
          "text": [
            "\r 48%|████▊     | 48/100 [00:23<00:25,  2.05it/s]"
          ]
        },
        {
          "output_type": "stream",
          "name": "stdout",
          "text": [
            "loss epoch: 0.07045955\n"
          ]
        },
        {
          "output_type": "stream",
          "name": "stderr",
          "text": [
            "\r 49%|████▉     | 49/100 [00:23<00:25,  2.03it/s]"
          ]
        },
        {
          "output_type": "stream",
          "name": "stdout",
          "text": [
            "loss epoch: 0.07045955\n"
          ]
        },
        {
          "output_type": "stream",
          "name": "stderr",
          "text": [
            "\r 50%|█████     | 50/100 [00:24<00:24,  2.06it/s]"
          ]
        },
        {
          "output_type": "stream",
          "name": "stdout",
          "text": [
            "loss epoch: 0.07045955\n"
          ]
        },
        {
          "output_type": "stream",
          "name": "stderr",
          "text": [
            "\r 51%|█████     | 51/100 [00:24<00:23,  2.05it/s]"
          ]
        },
        {
          "output_type": "stream",
          "name": "stdout",
          "text": [
            "loss epoch: 0.07045955\n"
          ]
        },
        {
          "output_type": "stream",
          "name": "stderr",
          "text": [
            "\r 52%|█████▏    | 52/100 [00:25<00:23,  2.04it/s]"
          ]
        },
        {
          "output_type": "stream",
          "name": "stdout",
          "text": [
            "loss epoch: 0.07045955\n"
          ]
        },
        {
          "output_type": "stream",
          "name": "stderr",
          "text": [
            "\r 53%|█████▎    | 53/100 [00:25<00:23,  2.04it/s]"
          ]
        },
        {
          "output_type": "stream",
          "name": "stdout",
          "text": [
            "loss epoch: 0.07045955\n"
          ]
        },
        {
          "output_type": "stream",
          "name": "stderr",
          "text": [
            "\r 54%|█████▍    | 54/100 [00:26<00:22,  2.04it/s]"
          ]
        },
        {
          "output_type": "stream",
          "name": "stdout",
          "text": [
            "loss epoch: 0.07045955\n"
          ]
        },
        {
          "output_type": "stream",
          "name": "stderr",
          "text": [
            "\r 55%|█████▌    | 55/100 [00:26<00:21,  2.05it/s]"
          ]
        },
        {
          "output_type": "stream",
          "name": "stdout",
          "text": [
            "loss epoch: 0.07045955\n"
          ]
        },
        {
          "output_type": "stream",
          "name": "stderr",
          "text": [
            "\r 56%|█████▌    | 56/100 [00:27<00:21,  2.03it/s]"
          ]
        },
        {
          "output_type": "stream",
          "name": "stdout",
          "text": [
            "loss epoch: 0.07045955\n"
          ]
        },
        {
          "output_type": "stream",
          "name": "stderr",
          "text": [
            "\r 57%|█████▋    | 57/100 [00:27<00:20,  2.05it/s]"
          ]
        },
        {
          "output_type": "stream",
          "name": "stdout",
          "text": [
            "loss epoch: 0.07045955\n"
          ]
        },
        {
          "output_type": "stream",
          "name": "stderr",
          "text": [
            "\r 58%|█████▊    | 58/100 [00:28<00:20,  2.03it/s]"
          ]
        },
        {
          "output_type": "stream",
          "name": "stdout",
          "text": [
            "loss epoch: 0.07045955\n"
          ]
        },
        {
          "output_type": "stream",
          "name": "stderr",
          "text": [
            "\r 59%|█████▉    | 59/100 [00:28<00:20,  2.04it/s]"
          ]
        },
        {
          "output_type": "stream",
          "name": "stdout",
          "text": [
            "loss epoch: 0.07045955\n"
          ]
        },
        {
          "output_type": "stream",
          "name": "stderr",
          "text": [
            "\r 60%|██████    | 60/100 [00:29<00:19,  2.05it/s]"
          ]
        },
        {
          "output_type": "stream",
          "name": "stdout",
          "text": [
            "loss epoch: 0.07045955\n"
          ]
        },
        {
          "output_type": "stream",
          "name": "stderr",
          "text": [
            "\r 61%|██████    | 61/100 [00:29<00:19,  2.04it/s]"
          ]
        },
        {
          "output_type": "stream",
          "name": "stdout",
          "text": [
            "loss epoch: 0.07045955\n"
          ]
        },
        {
          "output_type": "stream",
          "name": "stderr",
          "text": [
            "\r 62%|██████▏   | 62/100 [00:30<00:18,  2.02it/s]"
          ]
        },
        {
          "output_type": "stream",
          "name": "stdout",
          "text": [
            "loss epoch: 0.07045955\n"
          ]
        },
        {
          "output_type": "stream",
          "name": "stderr",
          "text": [
            "\r 63%|██████▎   | 63/100 [00:30<00:18,  2.04it/s]"
          ]
        },
        {
          "output_type": "stream",
          "name": "stdout",
          "text": [
            "loss epoch: 0.07045955\n"
          ]
        },
        {
          "output_type": "stream",
          "name": "stderr",
          "text": [
            "\r 64%|██████▍   | 64/100 [00:31<00:17,  2.03it/s]"
          ]
        },
        {
          "output_type": "stream",
          "name": "stdout",
          "text": [
            "loss epoch: 0.07045955\n"
          ]
        },
        {
          "output_type": "stream",
          "name": "stderr",
          "text": [
            "\r 65%|██████▌   | 65/100 [00:31<00:17,  2.06it/s]"
          ]
        },
        {
          "output_type": "stream",
          "name": "stdout",
          "text": [
            "loss epoch: 0.07045955\n"
          ]
        },
        {
          "output_type": "stream",
          "name": "stderr",
          "text": [
            "\r 66%|██████▌   | 66/100 [00:32<00:16,  2.05it/s]"
          ]
        },
        {
          "output_type": "stream",
          "name": "stdout",
          "text": [
            "loss epoch: 0.07045955\n"
          ]
        },
        {
          "output_type": "stream",
          "name": "stderr",
          "text": [
            "\r 67%|██████▋   | 67/100 [00:32<00:15,  2.07it/s]"
          ]
        },
        {
          "output_type": "stream",
          "name": "stdout",
          "text": [
            "loss epoch: 0.07045955\n"
          ]
        },
        {
          "output_type": "stream",
          "name": "stderr",
          "text": [
            "\r 68%|██████▊   | 68/100 [00:33<00:15,  2.05it/s]"
          ]
        },
        {
          "output_type": "stream",
          "name": "stdout",
          "text": [
            "loss epoch: 0.07045955\n"
          ]
        },
        {
          "output_type": "stream",
          "name": "stderr",
          "text": [
            "\r 69%|██████▉   | 69/100 [00:33<00:14,  2.08it/s]"
          ]
        },
        {
          "output_type": "stream",
          "name": "stdout",
          "text": [
            "loss epoch: 0.07045955\n"
          ]
        },
        {
          "output_type": "stream",
          "name": "stderr",
          "text": [
            "\r 70%|███████   | 70/100 [00:34<00:14,  2.03it/s]"
          ]
        },
        {
          "output_type": "stream",
          "name": "stdout",
          "text": [
            "loss epoch: 0.07045955\n"
          ]
        },
        {
          "output_type": "stream",
          "name": "stderr",
          "text": [
            "\r 71%|███████   | 71/100 [00:34<00:14,  2.05it/s]"
          ]
        },
        {
          "output_type": "stream",
          "name": "stdout",
          "text": [
            "loss epoch: 0.07045955\n"
          ]
        },
        {
          "output_type": "stream",
          "name": "stderr",
          "text": [
            "\r 72%|███████▏  | 72/100 [00:35<00:13,  2.04it/s]"
          ]
        },
        {
          "output_type": "stream",
          "name": "stdout",
          "text": [
            "loss epoch: 0.07045955\n"
          ]
        },
        {
          "output_type": "stream",
          "name": "stderr",
          "text": [
            "\r 73%|███████▎  | 73/100 [00:35<00:13,  2.00it/s]"
          ]
        },
        {
          "output_type": "stream",
          "name": "stdout",
          "text": [
            "loss epoch: 0.07045955\n"
          ]
        },
        {
          "output_type": "stream",
          "name": "stderr",
          "text": [
            "\r 74%|███████▍  | 74/100 [00:36<00:12,  2.01it/s]"
          ]
        },
        {
          "output_type": "stream",
          "name": "stdout",
          "text": [
            "loss epoch: 0.07045955\n"
          ]
        },
        {
          "output_type": "stream",
          "name": "stderr",
          "text": [
            "\r 75%|███████▌  | 75/100 [00:36<00:12,  2.02it/s]"
          ]
        },
        {
          "output_type": "stream",
          "name": "stdout",
          "text": [
            "loss epoch: 0.07045955\n"
          ]
        },
        {
          "output_type": "stream",
          "name": "stderr",
          "text": [
            "\r 76%|███████▌  | 76/100 [00:37<00:11,  2.02it/s]"
          ]
        },
        {
          "output_type": "stream",
          "name": "stdout",
          "text": [
            "loss epoch: 0.07045955\n"
          ]
        },
        {
          "output_type": "stream",
          "name": "stderr",
          "text": [
            "\r 77%|███████▋  | 77/100 [00:37<00:11,  2.04it/s]"
          ]
        },
        {
          "output_type": "stream",
          "name": "stdout",
          "text": [
            "loss epoch: 0.07045955\n"
          ]
        },
        {
          "output_type": "stream",
          "name": "stderr",
          "text": [
            "\r 78%|███████▊  | 78/100 [00:38<00:10,  2.02it/s]"
          ]
        },
        {
          "output_type": "stream",
          "name": "stdout",
          "text": [
            "loss epoch: 0.07045955\n"
          ]
        },
        {
          "output_type": "stream",
          "name": "stderr",
          "text": [
            "\r 79%|███████▉  | 79/100 [00:38<00:10,  2.03it/s]"
          ]
        },
        {
          "output_type": "stream",
          "name": "stdout",
          "text": [
            "loss epoch: 0.07045955\n"
          ]
        },
        {
          "output_type": "stream",
          "name": "stderr",
          "text": [
            "\r 80%|████████  | 80/100 [00:39<00:09,  2.03it/s]"
          ]
        },
        {
          "output_type": "stream",
          "name": "stdout",
          "text": [
            "loss epoch: 0.07045955\n"
          ]
        },
        {
          "output_type": "stream",
          "name": "stderr",
          "text": [
            "\r 81%|████████  | 81/100 [00:39<00:09,  2.04it/s]"
          ]
        },
        {
          "output_type": "stream",
          "name": "stdout",
          "text": [
            "loss epoch: 0.07045955\n"
          ]
        },
        {
          "output_type": "stream",
          "name": "stderr",
          "text": [
            "\r 82%|████████▏ | 82/100 [00:40<00:08,  2.03it/s]"
          ]
        },
        {
          "output_type": "stream",
          "name": "stdout",
          "text": [
            "loss epoch: 0.07045955\n"
          ]
        },
        {
          "output_type": "stream",
          "name": "stderr",
          "text": [
            "\r 83%|████████▎ | 83/100 [00:40<00:08,  2.04it/s]"
          ]
        },
        {
          "output_type": "stream",
          "name": "stdout",
          "text": [
            "loss epoch: 0.07045955\n"
          ]
        },
        {
          "output_type": "stream",
          "name": "stderr",
          "text": [
            "\r 84%|████████▍ | 84/100 [00:41<00:07,  2.01it/s]"
          ]
        },
        {
          "output_type": "stream",
          "name": "stdout",
          "text": [
            "loss epoch: 0.07045955\n"
          ]
        },
        {
          "output_type": "stream",
          "name": "stderr",
          "text": [
            "\r 85%|████████▌ | 85/100 [00:41<00:07,  2.02it/s]"
          ]
        },
        {
          "output_type": "stream",
          "name": "stdout",
          "text": [
            "loss epoch: 0.07045955\n"
          ]
        },
        {
          "output_type": "stream",
          "name": "stderr",
          "text": [
            "\r 86%|████████▌ | 86/100 [00:42<00:06,  2.03it/s]"
          ]
        },
        {
          "output_type": "stream",
          "name": "stdout",
          "text": [
            "loss epoch: 0.07045955\n"
          ]
        },
        {
          "output_type": "stream",
          "name": "stderr",
          "text": [
            "\r 87%|████████▋ | 87/100 [00:42<00:06,  2.00it/s]"
          ]
        },
        {
          "output_type": "stream",
          "name": "stdout",
          "text": [
            "loss epoch: 0.07045955\n"
          ]
        },
        {
          "output_type": "stream",
          "name": "stderr",
          "text": [
            "\r 88%|████████▊ | 88/100 [00:43<00:05,  2.00it/s]"
          ]
        },
        {
          "output_type": "stream",
          "name": "stdout",
          "text": [
            "loss epoch: 0.07045955\n"
          ]
        },
        {
          "output_type": "stream",
          "name": "stderr",
          "text": [
            "\r 89%|████████▉ | 89/100 [00:43<00:05,  2.03it/s]"
          ]
        },
        {
          "output_type": "stream",
          "name": "stdout",
          "text": [
            "loss epoch: 0.07045955\n"
          ]
        },
        {
          "output_type": "stream",
          "name": "stderr",
          "text": [
            "\r 90%|█████████ | 90/100 [00:44<00:04,  2.03it/s]"
          ]
        },
        {
          "output_type": "stream",
          "name": "stdout",
          "text": [
            "loss epoch: 0.07045955\n"
          ]
        },
        {
          "output_type": "stream",
          "name": "stderr",
          "text": [
            "\r 91%|█████████ | 91/100 [00:44<00:04,  2.02it/s]"
          ]
        },
        {
          "output_type": "stream",
          "name": "stdout",
          "text": [
            "loss epoch: 0.07045955\n"
          ]
        },
        {
          "output_type": "stream",
          "name": "stderr",
          "text": [
            "\r 92%|█████████▏| 92/100 [00:45<00:03,  2.04it/s]"
          ]
        },
        {
          "output_type": "stream",
          "name": "stdout",
          "text": [
            "loss epoch: 0.07045955\n"
          ]
        },
        {
          "output_type": "stream",
          "name": "stderr",
          "text": [
            "\r 93%|█████████▎| 93/100 [00:45<00:03,  2.04it/s]"
          ]
        },
        {
          "output_type": "stream",
          "name": "stdout",
          "text": [
            "loss epoch: 0.07045955\n"
          ]
        },
        {
          "output_type": "stream",
          "name": "stderr",
          "text": [
            "\r 94%|█████████▍| 94/100 [00:46<00:02,  2.02it/s]"
          ]
        },
        {
          "output_type": "stream",
          "name": "stdout",
          "text": [
            "loss epoch: 0.07045955\n"
          ]
        },
        {
          "output_type": "stream",
          "name": "stderr",
          "text": [
            "\r 95%|█████████▌| 95/100 [00:46<00:02,  2.04it/s]"
          ]
        },
        {
          "output_type": "stream",
          "name": "stdout",
          "text": [
            "loss epoch: 0.07045955\n"
          ]
        },
        {
          "output_type": "stream",
          "name": "stderr",
          "text": [
            "\r 96%|█████████▌| 96/100 [00:47<00:01,  2.05it/s]"
          ]
        },
        {
          "output_type": "stream",
          "name": "stdout",
          "text": [
            "loss epoch: 0.07045955\n"
          ]
        },
        {
          "output_type": "stream",
          "name": "stderr",
          "text": [
            "\r 97%|█████████▋| 97/100 [00:47<00:01,  2.05it/s]"
          ]
        },
        {
          "output_type": "stream",
          "name": "stdout",
          "text": [
            "loss epoch: 0.07045955\n"
          ]
        },
        {
          "output_type": "stream",
          "name": "stderr",
          "text": [
            "\r 98%|█████████▊| 98/100 [00:48<00:00,  2.04it/s]"
          ]
        },
        {
          "output_type": "stream",
          "name": "stdout",
          "text": [
            "loss epoch: 0.07045955\n"
          ]
        },
        {
          "output_type": "stream",
          "name": "stderr",
          "text": [
            "\r 99%|█████████▉| 99/100 [00:48<00:00,  2.04it/s]"
          ]
        },
        {
          "output_type": "stream",
          "name": "stdout",
          "text": [
            "loss epoch: 0.07045955\n"
          ]
        },
        {
          "output_type": "stream",
          "name": "stderr",
          "text": [
            "100%|██████████| 100/100 [00:49<00:00,  2.04it/s]"
          ]
        },
        {
          "output_type": "stream",
          "name": "stdout",
          "text": [
            "loss epoch: 0.07045955\n"
          ]
        },
        {
          "output_type": "stream",
          "name": "stderr",
          "text": [
            "\n"
          ]
        }
      ]
    },
    {
      "cell_type": "code",
      "source": [
        "import matplotlib.pyplot as plt\n",
        "N = 100 # plot N dots\n",
        "\n",
        "x_grid = np.linspace(0, 1, N+1)\n",
        "x_grid = x_grid[:-1]\n",
        "y_grid = np.zeros(N)\n",
        "ytrue = [myfun(x_grid[i]) for i in range(N)]\n",
        "\n",
        "y_predict = model1(x_valid.to(device))\n",
        "y_predict = y_predict.cpu()\n",
        "y_predict = y_predict.detach().numpy()\n",
        "\n",
        "MSE = 0\n",
        "r = 0.1\n",
        "a = np.array([[r]])\n",
        "\n",
        "for i in range(N):\n",
        "  actual = ytrue[i]\n",
        "  a[0][0] = i/N\n",
        "  t = torch.from_numpy(a).float()\n",
        "  predicted = model1.h3_tNet(t).detach().numpy()[0][0]\n",
        "  differences = actual-predicted\n",
        "  squared_differences = differences**2\n",
        "  MSE = MSE + squared_differences\n",
        "\n",
        "MSE = MSE/N\n",
        "\n",
        "print(\"MSE is : \"+str(MSE))"
      ],
      "metadata": {
        "colab": {
          "base_uri": "https://localhost:8080/"
        },
        "id": "3i0LLUxHU6PV",
        "outputId": "3187fe16-e34a-4337-b43d-4e493c35b055"
      },
      "execution_count": null,
      "outputs": [
        {
          "output_type": "stream",
          "name": "stdout",
          "text": [
            "MSE is : 0.49499999989090193\n"
          ]
        }
      ]
    },
    {
      "cell_type": "code",
      "source": [
        "# Single connected 4개 경우의 scatter plot.\n",
        "import matplotlib.pyplot as plt\n",
        "N = 10000 # plot N dots\n",
        "\n",
        "x_grid = np.linspace(0, 1, N+1)\n",
        "x_grid = x_grid[:-1]\n",
        "y_grid = np.zeros(N)\n",
        "ytrue = [amyfun(x_grid[i]) for i in range(N)]\n",
        "\n",
        "y_predict = model1(x_valid.to(device))\n",
        "y_predict = y_predict.cpu()\n",
        "y_predict = y_predict.detach().numpy()\n",
        "\n",
        "for i in range(N):\n",
        "  a = np.random.rand(1,1)\n",
        "  a[0][0] = i/N\n",
        "  t = torch.from_numpy(a).float()\n",
        "  y_grid[i] = model1.h1_tNet(t).detach().numpy()[0][0]\n",
        "\n",
        "ymin = 0\n",
        "ymax = 1.2\n",
        "ax = plt.gca()\n",
        "ax.set_ylim([ymin, ymax])\n",
        "\n",
        "plt.figure(figsize=(10,6))\n",
        "plt.plot(x_grid,ytrue,linewidth=3,color='red',zorder=5)  \n",
        "plt.scatter(x_grid, y_grid,s=12,zorder=10)\n",
        "  \n",
        "plt.title('Variable h1 with '+str(len_data)+' samples')\n",
        "plt.xticks([0,0.1,0.2,0.3,0.4,0.5,0.6,0.7,0.8,0.9,1],fontsize = 15)\n",
        "plt.yticks(fontsize = 15)\n",
        "plt.show()\n",
        "\n",
        "for i in range(N):\n",
        "  a = np.random.rand(1,1)\n",
        "  a[0][0] = i/N\n",
        "  t = torch.from_numpy(a).float()\n",
        "  y_grid[i] = model1.h2_tNet(t).detach().numpy()[0][0]\n",
        "\n",
        "ymin = 0\n",
        "ymax = 1.2\n",
        "ax.set_ylim([ymin, ymax])\n",
        "\n",
        "plt.figure(figsize=(10,6))\n",
        "plt.plot(x_grid,ytrue,linewidth=3,color='red',zorder=5) \n",
        "plt.scatter(x_grid, y_grid,s=12,zorder=10)\n",
        "   \n",
        "plt.title('Variable h2 with '+str(len_data)+' samples')\n",
        "plt.xticks([0,0.1,0.2,0.3,0.4,0.5,0.6,0.7,0.8,0.9,1],fontsize = 15)\n",
        "plt.yticks(fontsize = 15)\n",
        "plt.show()\n",
        "\n",
        "for i in range(N):\n",
        "  a = np.random.rand(1,1)\n",
        "  a[0][0] = i/N\n",
        "  t = torch.from_numpy(a).float()\n",
        "  y_grid[i] = model1.h3_tNet(t).detach().numpy()[0][0]\n",
        "\n",
        "ymin = 0\n",
        "ymax = 1.2\n",
        "ax.set_ylim([ymin, ymax])\n",
        "\n",
        "plt.figure(figsize=(10,6))\n",
        "plt.plot(x_grid,ytrue,linewidth=3,color='red')   \n",
        "\n",
        "plt.scatter(x_grid, y_grid,s=12,zorder=10)\n",
        " \n",
        "plt.title('Variable h3 with '+str(len_data)+' samples',zorder=5)\n",
        "plt.xticks([0,0.1,0.2,0.3,0.4,0.5,0.6,0.7,0.8,0.9,1],fontsize = 15)\n",
        "plt.yticks(fontsize = 15)\n",
        "plt.show()\n",
        "\n",
        "for i in range(N):\n",
        "  a = np.random.rand(1,1)\n",
        "  a[0][0] = i/N\n",
        "  t = torch.from_numpy(a).float()\n",
        "  y_grid[i] = model1.h4_tNet(t).detach().numpy()[0][0]\n",
        "\n",
        "ymin = 0\n",
        "ymax = 1.2\n",
        "ax.set_ylim([ymin, ymax])\n",
        "\n",
        "plt.figure(figsize=(10,6))\n",
        "plt.plot(x_grid,ytrue,linewidth=3,color='red',zorder=5)    \n",
        "plt.scatter(x_grid, y_grid,s=12,zorder=10)\n",
        "\n",
        "plt.title('Variable h4 with '+str(len_data)+' samples')\n",
        "plt.xticks([0,0.1,0.2,0.3,0.4,0.5,0.6,0.7,0.8,0.9,1],fontsize = 15)\n",
        "plt.yticks(fontsize = 15)\n",
        "plt.show()\n",
        "\n",
        "\n"
      ],
      "metadata": {
        "id": "Dh05PiWV_TZ6",
        "colab": {
          "base_uri": "https://localhost:8080/",
          "height": 1000
        },
        "outputId": "c78f07c7-4f28-4fd1-d013-3c8c6fe29411"
      },
      "execution_count": null,
      "outputs": [
        {
          "output_type": "display_data",
          "data": {
            "text/plain": [
              "<Figure size 432x288 with 1 Axes>"
            ],
            "image/png": "[encoded data removed]"
          },
          "metadata": {
            "needs_background": "light"
          }
        },
        {
          "output_type": "display_data",
          "data": {
            "text/plain": [
              "<Figure size 720x432 with 1 Axes>"
            ],
            "image/png": "[encoded data removed]"
          },
          "metadata": {
            "needs_background": "light"
          }
        },
        {
          "output_type": "display_data",
          "data": {
            "text/plain": [
              "<Figure size 720x432 with 1 Axes>"
            ],
            "image/png": "[encoded data removed]"
          },
          "metadata": {
            "needs_background": "light"
          }
        },
        {
          "output_type": "display_data",
          "data": {
            "text/plain": [
              "<Figure size 720x432 with 1 Axes>"
            ],
            "image/png": "[encoded data removed]"
          },
          "metadata": {
            "needs_background": "light"
          }
        },
        {
          "output_type": "display_data",
          "data": {
            "text/plain": [
              "<Figure size 720x432 with 1 Axes>"
            ],
            "image/png": "[encoded data removed]"
          },
          "metadata": {
            "needs_background": "light"
          }
        }
      ]
    },
    {
      "cell_type": "code",
      "source": [],
      "metadata": {
        "id": "-td7sj_b0ld7"
      },
      "execution_count": null,
      "outputs": []
    }
  ]
}