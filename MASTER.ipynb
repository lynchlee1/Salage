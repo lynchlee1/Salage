{
  "nbformat": 4,
  "nbformat_minor": 0,
  "metadata": {
    "colab": {
      "provenance": [],
      "collapsed_sections": [],
      "include_colab_link": true
    },
    "kernelspec": {
      "name": "python3",
      "display_name": "Python 3"
    },
    "language_info": {
      "name": "python"
    }
  },
  "cells": [
    {
      "cell_type": "markdown",
      "metadata": {
        "id": "view-in-github",
        "colab_type": "text"
      },
      "source": [
        "<a href=\"https://colab.research.google.com/github/lynchlee1/Salage/blob/main/MASTER.ipynb\" target=\"_parent\"><img src=\"https://colab.research.google.com/assets/colab-badge.svg\" alt=\"Open In Colab\"/></a>"
      ]
    },
    {
      "cell_type": "code",
      "source": [
        "# Mount drive\n",
        "from google.colab import drive \n",
        "drive.mount('/content/drive')"
      ],
      "metadata": {
        "colab": {
          "base_uri": "https://localhost:8080/"
        },
        "id": "bkbhsLmavm4Z",
        "outputId": "56c00672-5b39-4bdd-bfc0-7586c54153f9"
      },
      "execution_count": 1,
      "outputs": [
        {
          "output_type": "stream",
          "name": "stdout",
          "text": [
            "Mounted at /content/drive\n"
          ]
        }
      ]
    },
    {
      "cell_type": "code",
      "execution_count": 2,
      "metadata": {
        "id": "CoS6kGWdvW6R"
      },
      "outputs": [],
      "source": [
        "# Data upload section\n",
        "input_data_PATH  = '/content/drive/MyDrive/toy project/데이터/64man_inputs.csv'\n",
        "output_data_PATH = '/content/drive/MyDrive/toy project/데이터/64man_outputs.csv'\n",
        "preNN_PATH = '/content/drive/MyDrive/toy project/데이터/LGD Project/LEEv1.pt'"
      ]
    },
    {
      "cell_type": "code",
      "source": [
        "import numpy as np\n",
        "import pandas as pd\n",
        "\n",
        "import torch\n",
        "import torchvision\n",
        "from torchvision import datasets, transforms\n",
        "import torch.nn as nn\n",
        "import torch.nn.functional as F\n",
        "from torch.utils.data import Dataset\n",
        "from torch.utils.data import DataLoader\n",
        "from torch.utils.data import TensorDataset\n",
        "import torch.optim as optim\n",
        "\n",
        "from sklearn.model_selection import train_test_split\n",
        "from tqdm import tqdm"
      ],
      "metadata": {
        "id": "1vjqnwSqj0q0"
      },
      "execution_count": 13,
      "outputs": []
    },
    {
      "cell_type": "code",
      "source": [
        "# Variable section\n",
        "r=1\n",
        "\n",
        "len_data = 2000 # length of data to read\n",
        "batch_size = int(64)\n",
        "\n",
        "# negative: custom function\n",
        "# -1: all distort\n",
        "# -2: h3 distort\n",
        "do_data_distort = 2 # 0: None(or pre-train), 1: h3 single distort, 2: all distort, 3: h1 single distort, 4: h2 single distort, 5: h4 single distort\n",
        "\n",
        "type_tNet = 2 # 1: Four 100*100 layers, 2: Two 100*100 layers, 3: Four 50*50 layers, 4: Three 100*100 layers, 5: Four 30*30 layers,\n",
        "fully_connected = 0 # 0: Not fully connected, 1: Fully connected\n",
        "\n",
        "# Subvariable section\n",
        "n_distort_show = 6\n",
        "criterion = nn.MSELoss()\n",
        "device = 'cpu'"
      ],
      "metadata": {
        "id": "UYCT4xWowKwe"
      },
      "execution_count": 14,
      "outputs": []
    },
    {
      "cell_type": "code",
      "source": [
        "def myfun(x):\n",
        "  y = np.sqrt(x)\n",
        "  return y\n",
        "\n",
        "def amyfun(x):\n",
        "  y = np.square(x)\n",
        "  return y\n",
        "\n",
        "myfun_v = np.vectorize(myfun)"
      ],
      "metadata": {
        "id": "wJRQQe6Ycb4F"
      },
      "execution_count": 15,
      "outputs": []
    },
    {
      "cell_type": "code",
      "source": [
        "input = np.array(pd.read_csv(input_data_PATH, header=None, nrows=len_data, skiprows=100000))\n",
        "input = torch.Tensor(input)\n",
        "\n",
        "output   = np.array(pd.read_csv(output_data_PATH, header=None, nrows=len_data, skiprows=100000))\n",
        "output = torch.Tensor(output)\n",
        "\n",
        "torch.set_printoptions(sci_mode=True)\n",
        "print('Input is...')\n",
        "for i in range(n_distort_show): print(input[i,:])\n",
        "\n",
        "\n",
        "\n",
        "if do_data_distort != 0:\n",
        "  print('\\nDistorted input is...')\n",
        "\n",
        "if do_data_distort == -1:\n",
        "  h_var = input[:,0:4]\n",
        "  n_var = input[:,4:6]\n",
        "  h_var = torch.FloatTensor(myfun_v(h_var))\n",
        "\n",
        "  input = torch.cat((h_var,n_var),1)\n",
        "\n",
        "  print(input[0:n_distort_show,:])  \n",
        "\n",
        "if do_data_distort == -2:\n",
        "  front = input[:,0:2]\n",
        "  mid   = input[:,2:3]\n",
        "  back  = input[:,3:6]\n",
        "  mid = torch.FloatTensor(myfun_v(mid))\n",
        "\n",
        "  input = torch.cat((front,mid,back),1)\n",
        "  for i in range(n_distort_show): print(input[i,:])\n",
        "\n",
        "if do_data_distort == -3:\n",
        "  front = input[:,0:2]\n",
        "  mid1   = input[:,2:3]\n",
        "  mid2   = input[:,3:4]\n",
        "  back  = input[:,4:6]\n",
        "\n",
        "  mid1 = torch.FloatTensor(myfun_v(mid1))\n",
        "  mid2 = torch.FloatTensor(myfun_v(mid2))\n",
        "\n",
        "  input = torch.cat((front,mid1,mid2,back),1)\n",
        "  for i in range(n_distort_show): print(input[i,:])\n",
        "\n",
        "if do_data_distort == 1:\n",
        "  front = input[:,0:2]\n",
        "  mid   = input[:,2:3]\n",
        "  back  = input[:,3:6]\n",
        "  mid = torch.square(mid)\n",
        "\n",
        "  input = torch.cat((front,mid,back),1)\n",
        "  for i in range(n_distort_show): print(input[i,:])\n",
        "\n",
        "if do_data_distort == 2:\n",
        "  h_var = input[:,0:4]\n",
        "  n_var = input[:,4:6]\n",
        "  h_var = torch.square(h_var)\n",
        "\n",
        "  input = torch.cat((h_var,n_var),1)\n",
        "  for i in range(n_distort_show): print(input[i,:])\n",
        "\n",
        "if do_data_distort == 3:\n",
        "  front = input[:,0:1]\n",
        "  back  = input[:,1:6]\n",
        "  front = torch.square(front)\n",
        "\n",
        "  input = torch.cat((front,back),1)\n",
        "  for i in range(n_distort_show): print(input[i,:])\n",
        "\n",
        "if do_data_distort == 4:\n",
        "  front = input[:,0:1]\n",
        "  mid   = input[:,1:2]\n",
        "  back  = input[:,2:6]\n",
        "  mid = torch.square(mid)\n",
        "\n",
        "  input = torch.cat((front,mid,back),1)\n",
        "  for i in range(n_distort_show): print(input[i,:])\n",
        "\n",
        "if do_data_distort == 5:\n",
        "  front = input[:,0:3]\n",
        "  mid   = input[:,3:4]\n",
        "  back  = input[:,4:6]\n",
        "  mid = torch.square(mid)\n",
        "\n",
        "  input = torch.cat((front,mid,back),1)\n",
        "  for i in range(n_distort_show): print(input[i,:])"
      ],
      "metadata": {
        "colab": {
          "base_uri": "https://localhost:8080/"
        },
        "id": "klO6q1ExwJLM",
        "outputId": "6cba5694-f092-49f8-b636-f019b78e7b29"
      },
      "execution_count": 16,
      "outputs": [
        {
          "output_type": "stream",
          "name": "stdout",
          "text": [
            "Input is...\n",
            "tensor([5.5789e-01, 8.2268e-01, 2.9159e-01, 2.8634e-01, 8.7753e-01, 4.8819e-02])\n",
            "tensor([1.8428e-01, 8.1901e-01, 9.7393e-02, 1.8173e-01, 6.3006e-01, 3.8485e-01])\n",
            "tensor([8.7323e-02, 5.2606e-01, 7.3805e-01, 1.1024e-01, 6.2367e-01, 7.0853e-01])\n",
            "tensor([2.7008e-01, 6.7212e-03, 1.9836e-01, 5.0909e-01, 2.5333e-01, 1.7870e-01])\n",
            "tensor([5.4928e-01, 6.7925e-01, 5.9287e-01, 9.6958e-02, 5.5564e-01, 3.9925e-01])\n",
            "tensor([2.8366e-01, 5.2116e-02, 7.4260e-01, 9.3541e-01, 7.3818e-02, 7.4617e-01])\n",
            "\n",
            "Distorted input is...\n",
            "tensor([3.1124e-01, 6.7681e-01, 8.5023e-02, 8.1990e-02, 8.7753e-01, 4.8819e-02])\n",
            "tensor([3.3960e-02, 6.7078e-01, 9.4854e-03, 3.3026e-02, 6.3006e-01, 3.8485e-01])\n",
            "tensor([7.6252e-03, 2.7674e-01, 5.4471e-01, 1.2152e-02, 6.2367e-01, 7.0853e-01])\n",
            "tensor([7.2945e-02, 4.5174e-05, 3.9346e-02, 2.5917e-01, 2.5333e-01, 1.7870e-01])\n",
            "tensor([3.0171e-01, 4.6138e-01, 3.5149e-01, 9.4009e-03, 5.5564e-01, 3.9925e-01])\n",
            "tensor([8.0462e-02, 2.7160e-03, 5.5145e-01, 8.7498e-01, 7.3818e-02, 7.4617e-01])\n"
          ]
        }
      ]
    },
    {
      "cell_type": "code",
      "source": [
        "class pNet(nn.Module):\n",
        "  def __init__(self):\n",
        "    super(pNet, self).__init__()\n",
        "    self.fc1 = nn.Linear(6, 300)\n",
        "    self.fc2 = nn.Linear(300, 300)\n",
        "    self.fc3 = nn.Linear(300, 300)\n",
        "    self.fc4 = nn.Linear(300, 300)\n",
        "    self.fc5 = nn.Linear(300, 300)\n",
        "    self.fc6 = nn.Linear(300, 300)\n",
        "    self.fc7 = nn.Linear(300, 300)\n",
        "    self.fc8 = nn.Linear(300, 300)\n",
        "    self.fc9 = nn.Linear(300, 300)\n",
        "    self.fc10 = nn.Linear(300, 300)\n",
        "    self.fc11 = nn.Linear(300,81)\n",
        "\n",
        "  def forward(self, x):\n",
        "    x = F.leaky_relu(self.fc1(x))\n",
        "    x = F.leaky_relu(self.fc2(x))\n",
        "    x = F.leaky_relu(self.fc3(x))\n",
        "    x = F.leaky_relu(self.fc4(x))\n",
        "    x = F.leaky_relu(self.fc5(x))\n",
        "    x = F.leaky_relu(self.fc6(x))\n",
        "    x = F.leaky_relu(self.fc7(x))\n",
        "    x = F.leaky_relu(self.fc8(x))\n",
        "    x = F.leaky_relu(self.fc9(x))\n",
        "    x = F.leaky_relu(self.fc10(x))\n",
        "    return self.fc11(x)\n",
        "\n",
        "n_node = 0\n",
        "if fully_connected == 0:\n",
        "  n_node = 1\n",
        "if fully_connected == 1:\n",
        "  if do_data_distort != 2:\n",
        "    print(\"Warning: Not all four variables are distorted, but connected to transfer layer.\")\n",
        "  n_node = 4\n",
        "\n",
        "if type_tNet == 1:\n",
        "  class tNet(nn.Module):\n",
        "    def __init__(self):\n",
        "      super(tNet, self).__init__()\n",
        "      self.fc1 = nn.Linear(n_node, 100)\n",
        "      self.fc2 = nn.Linear(100, 100)\n",
        "      self.fc3 = nn.Linear(100, 100)\n",
        "      self.fc4 = nn.Linear(100, 100)\n",
        "      self.fc5 = nn.Linear(100,n_node)\n",
        "\n",
        "    def forward(self, x):\n",
        "      x = F.leaky_relu(self.fc1(x))\n",
        "      x = F.leaky_relu(self.fc2(x))\n",
        "      x = F.leaky_relu(self.fc3(x))\n",
        "      x = F.leaky_relu(self.fc4(x))\n",
        "      x = torch.sigmoid(self.fc5(x))\n",
        "      return x\n",
        "\n",
        "if type_tNet == 2:\n",
        "  class tNet(nn.Module):\n",
        "    def __init__(self):\n",
        "      super(tNet, self).__init__()\n",
        "      self.fc1 = nn.Linear(n_node, 100)\n",
        "      self.fc2 = nn.Linear(100, 100)\n",
        "      self.fc3 = nn.Linear(100,n_node)\n",
        "\n",
        "    def forward(self, x):\n",
        "      x = F.leaky_relu(self.fc1(x))\n",
        "      x = F.leaky_relu(self.fc2(x))\n",
        "      x = torch.sigmoid(self.fc3(x))\n",
        "      return x\n",
        "\n",
        "if type_tNet == 3:\n",
        "  class tNet(nn.Module):\n",
        "    def __init__(self):\n",
        "      super(tNet, self).__init__()\n",
        "      self.fc1 = nn.Linear(n_node, 50)\n",
        "      self.fc2 = nn.Linear(50, 50)\n",
        "      self.fc3 = nn.Linear(50, 50)\n",
        "      self.fc4 = nn.Linear(50, 50)\n",
        "      self.fc5 = nn.Linear(50,n_node)\n",
        "\n",
        "    def forward(self, x):\n",
        "      x = F.leaky_relu(self.fc1(x))\n",
        "      x = F.leaky_relu(self.fc2(x))\n",
        "      x = F.leaky_relu(self.fc3(x))\n",
        "      x = F.leaky_relu(self.fc4(x))\n",
        "      x = torch.sigmoid(self.fc5(x))\n",
        "      return x\n",
        "\n",
        "if type_tNet == 4:\n",
        "  class tNet(nn.Module):\n",
        "    def __init__(self):\n",
        "      super(tNet, self).__init__()\n",
        "      self.fc1 = nn.Linear(n_node, 100)\n",
        "      self.fc2 = nn.Linear(100, 100)\n",
        "      self.fc3 = nn.Linear(100, 100)\n",
        "      self.fc4 = nn.Linear(100,n_node)\n",
        "\n",
        "    def forward(self, x):\n",
        "      x = F.leaky_relu(self.fc1(x))\n",
        "      x = F.leaky_relu(self.fc2(x))\n",
        "      x = F.leaky_relu(self.fc3(x))\n",
        "      x = torch.sigmoid(self.fc4(x))\n",
        "      return x\n",
        "\n",
        "if type_tNet == 5:\n",
        "  class tNet(nn.Module):\n",
        "    def __init__(self):\n",
        "      super(tNet, self).__init__()\n",
        "      self.fc1 = nn.Linear(n_node, 30)\n",
        "      self.fc2 = nn.Linear(30, 30)\n",
        "      self.fc3 = nn.Linear(30, 30)\n",
        "      self.fc4 = nn.Linear(30, 30)\n",
        "      self.fc5 = nn.Linear(30,n_node)\n",
        "\n",
        "    def forward(self, x):\n",
        "      x = F.leaky_relu(self.fc1(x))\n",
        "      x = F.leaky_relu(self.fc2(x))\n",
        "      x = F.leaky_relu(self.fc3(x))\n",
        "      x = F.leaky_relu(self.fc4(x))\n",
        "      x = torch.sigmoid(self.fc5(x))\n",
        "      return x\n",
        "\n",
        "modelPre = pNet()\n",
        "modelPre.load_state_dict(torch.load(preNN_PATH,map_location=torch.device('cpu')))\n",
        "for param in modelPre.parameters():\n",
        "  param.requires_grad = False\n",
        "\n",
        "if do_data_distort == -1 and fully_connected == 0:\n",
        "  class Net(nn.Module):\n",
        "    def __init__(self):\n",
        "      super(Net,self).__init__()\n",
        "      self.h1_tNet = tNet()\n",
        "      self.h2_tNet = tNet()\n",
        "      self.h3_tNet = tNet()\n",
        "      self.h4_tNet = tNet()\n",
        "\n",
        "    def forward(self,hstar):\n",
        "      h1 = self.h1_tNet(hstar[:,0:1])\n",
        "      h2 = self.h2_tNet(hstar[:,1:2])\n",
        "      h3 = self.h3_tNet(hstar[:,2:3])\n",
        "      h4 = self.h4_tNet(hstar[:,3:4])\n",
        "      hcat = torch.cat((h1,h2,h3,h4),1)\n",
        "      ncat = hstar[:,4:6]\n",
        "      x = torch.cat((hcat,ncat),1)\n",
        "      x = modelPre(x)\n",
        "      return x\n",
        "\n",
        "if do_data_distort == -2 and fully_connected == 0:\n",
        "  class Net(nn.Module):\n",
        "    def __init__(self):\n",
        "      super(Net,self).__init__()\n",
        "      self.h3_tNet = tNet()\n",
        "\n",
        "    def forward(self,hstar):\n",
        "      h3 = self.h3_tNet(hstar[:,2:3])\n",
        "      hcat = torch.cat((hstar[:,0:2],h3,hstar[:,3:4]),1)\n",
        "      ncat = hstar[:,4:6]\n",
        "      x = torch.cat((hcat,ncat),1)\n",
        "      x = modelPre(x)\n",
        "      return x\n",
        "\n",
        "if do_data_distort == -3 and fully_connected == 0:\n",
        "  class Net(nn.Module):\n",
        "    def __init__(self):\n",
        "      super(Net,self).__init__()\n",
        "      self.h3_tNet = tNet()\n",
        "      self.h4_tNet = tNet()\n",
        "\n",
        "    def forward(self,hstar):\n",
        "      h3 = self.h3_tNet(hstar[:,2:3])\n",
        "      h4 = self.h4_tNet(hstar[:,3:4])\n",
        "      hcat = torch.cat((hstar[:,0:2],h3,h4),1)\n",
        "      ncat = hstar[:,4:6]\n",
        "      x = torch.cat((hcat,ncat),1)\n",
        "      x = modelPre(x)\n",
        "      return x\n",
        "\n",
        "if do_data_distort == 1 and fully_connected == 0:\n",
        "  class Net(nn.Module):\n",
        "    def __init__(self):\n",
        "      super(Net,self).__init__()\n",
        "      self.h3_tNet = tNet()\n",
        "\n",
        "    def forward(self,hstar):\n",
        "      h3 = self.h3_tNet(hstar[:,2:3])\n",
        "      hcat = torch.cat((hstar[:,0:2],h3,hstar[:,3:4]),1)\n",
        "      ncat = hstar[:,4:6]\n",
        "      x = torch.cat((hcat,ncat),1)\n",
        "      x = modelPre(x)\n",
        "      return x\n",
        "\n",
        "if do_data_distort == 2 and fully_connected == 0:\n",
        "  class Net(nn.Module):\n",
        "    def __init__(self):\n",
        "      super(Net,self).__init__()\n",
        "      self.h1_tNet = tNet()\n",
        "      self.h2_tNet = tNet()\n",
        "      self.h3_tNet = tNet()\n",
        "      self.h4_tNet = tNet()\n",
        "\n",
        "    def forward(self,hstar):\n",
        "      h1 = self.h1_tNet(hstar[:,0:1])\n",
        "      h2 = self.h2_tNet(hstar[:,1:2])\n",
        "      h3 = self.h3_tNet(hstar[:,2:3])\n",
        "      h4 = self.h4_tNet(hstar[:,3:4])\n",
        "      hcat = torch.cat((h1,h2,h3,h4),1)\n",
        "      ncat = hstar[:,4:6]\n",
        "      x = torch.cat((hcat,ncat),1)\n",
        "      x = modelPre(x)\n",
        "      return x\n",
        "\n",
        "if do_data_distort == 3 and fully_connected == 0:\n",
        "  class Net(nn.Module):\n",
        "    def __init__(self):\n",
        "      super(Net,self).__init__()\n",
        "      self.h1_tNet = tNet()\n",
        "\n",
        "    def forward(self,hstar):\n",
        "      h1 = self.h1_tNet(hstar[:,0:1])\n",
        "      hcat = torch.cat((h1,hstar[:,1:4]),1)\n",
        "      ncat = hstar[:,4:6]\n",
        "      x = torch.cat((hcat,ncat),1)\n",
        "      x = modelPre(x)\n",
        "      return x\n",
        "\n",
        "if do_data_distort == 4 and fully_connected == 0:\n",
        "  class Net(nn.Module):\n",
        "    def __init__(self):\n",
        "      super(Net,self).__init__()\n",
        "      self.h2_tNet = tNet()\n",
        "\n",
        "    def forward(self,hstar):\n",
        "      h2 = self.h2_tNet(hstar[:,1:2])\n",
        "      hcat = torch.cat((hstar[:,0:1],h2,hstar[:,2:4]),1)\n",
        "      ncat = hstar[:,4:6]\n",
        "      x = torch.cat((hcat,ncat),1)\n",
        "      x = modelPre(x)\n",
        "      return x\n",
        "\n",
        "if do_data_distort == 5 and fully_connected == 0:\n",
        "  class Net(nn.Module):\n",
        "    def __init__(self):\n",
        "      super(Net,self).__init__()\n",
        "      self.h4_tNet = tNet()\n",
        "\n",
        "    def forward(self,hstar):\n",
        "      h4 = self.h4_tNet(hstar[:,3:4])\n",
        "      hcat = torch.cat((hstar[:,0:3],h4),1)\n",
        "      ncat = hstar[:,4:6]\n",
        "      x = torch.cat((hcat,ncat),1)\n",
        "      x = modelPre(x)\n",
        "      return x\n",
        "\n",
        "if fully_connected == 1:\n",
        "  class Net(nn.Module):\n",
        "    def __init__(self):\n",
        "      super(Net,self).__init__()\n",
        "      self.subNet = tNet()\n",
        "    \n",
        "    def forward(self,hstar):\n",
        "      h = self.subNet(hstar[:,0:4])\n",
        "      h = torch.cat((h,hstar[:,4:6]),1)\n",
        "      h = modelPre(h)\n",
        "      return h\n",
        "\n",
        "print(Net())"
      ],
      "metadata": {
        "id": "AXqixLerzGGw",
        "colab": {
          "base_uri": "https://localhost:8080/"
        },
        "outputId": "b15e717f-ae0f-4516-9396-a2fd5d21b885"
      },
      "execution_count": 17,
      "outputs": [
        {
          "output_type": "stream",
          "name": "stdout",
          "text": [
            "Net(\n",
            "  (h1_tNet): tNet(\n",
            "    (fc1): Linear(in_features=1, out_features=100, bias=True)\n",
            "    (fc2): Linear(in_features=100, out_features=100, bias=True)\n",
            "    (fc3): Linear(in_features=100, out_features=1, bias=True)\n",
            "  )\n",
            "  (h2_tNet): tNet(\n",
            "    (fc1): Linear(in_features=1, out_features=100, bias=True)\n",
            "    (fc2): Linear(in_features=100, out_features=100, bias=True)\n",
            "    (fc3): Linear(in_features=100, out_features=1, bias=True)\n",
            "  )\n",
            "  (h3_tNet): tNet(\n",
            "    (fc1): Linear(in_features=1, out_features=100, bias=True)\n",
            "    (fc2): Linear(in_features=100, out_features=100, bias=True)\n",
            "    (fc3): Linear(in_features=100, out_features=1, bias=True)\n",
            "  )\n",
            "  (h4_tNet): tNet(\n",
            "    (fc1): Linear(in_features=1, out_features=100, bias=True)\n",
            "    (fc2): Linear(in_features=100, out_features=100, bias=True)\n",
            "    (fc3): Linear(in_features=100, out_features=1, bias=True)\n",
            "  )\n",
            ")\n"
          ]
        }
      ]
    },
    {
      "cell_type": "code",
      "source": [
        "x_train, x_valid, y_train, y_valid = train_test_split(input, output, test_size=0.2, shuffle=True, random_state=34)\n",
        "\n",
        "dataset_train = TensorDataset(x_train, y_train)\n",
        "dataset_test = TensorDataset(x_valid, y_valid)\n",
        "\n",
        "# Shuffle argument controls data shuffling for stochastic gradient descent\n",
        "train_loader = torch.utils.data.DataLoader(dataset=dataset_train, batch_size=batch_size, shuffle=True)\n",
        "test_loader = torch.utils.data.DataLoader(dataset=dataset_test, batch_size=batch_size, shuffle=False)\n",
        "\n",
        "print('\\nThis is trainset')\n",
        "print(dataset_train[0])\n",
        "print('\\nThis is testset')\n",
        "print(dataset_test[0])"
      ],
      "metadata": {
        "id": "15NNXXBS7BBm",
        "colab": {
          "base_uri": "https://localhost:8080/"
        },
        "outputId": "96a0f262-46a3-4944-e44a-d5f56840f7a1"
      },
      "execution_count": 18,
      "outputs": [
        {
          "output_type": "stream",
          "name": "stdout",
          "text": [
            "\n",
            "This is trainset\n",
            "(tensor([2.1638e-03, 2.2997e-01, 3.8159e-01, 9.0425e-01, 9.0644e-01, 2.5185e-02]), tensor([2.1654e-01, 2.1417e-01, 2.1170e-01, 2.1000e-01, 2.0931e-01, 2.1190e-01, 2.4292e-01, 2.7626e-01, 2.5331e-01,\n",
            "        2.2340e-01, 1.9968e-01, 1.8831e-01, 1.8685e-01, 1.8922e-01, 1.9627e-01, 2.0817e-01, 2.2213e-01, 2.3797e-01,\n",
            "        2.5075e-01, 2.6160e-01, 2.7134e-01, 2.8160e-01, 2.9071e-01, 2.9762e-01, 3.0574e-01, 3.1137e-01, 3.1687e-01,\n",
            "        3.2114e-01, 3.2349e-01, 3.2435e-01, 3.2417e-01, 3.2342e-01, 3.2202e-01, 3.1644e-01, 3.0812e-01, 2.9884e-01,\n",
            "        2.8946e-01, 2.8049e-01, 2.7302e-01, 2.6669e-01, 2.6190e-01, 2.5821e-01, 2.5552e-01, 2.5330e-01, 2.5162e-01,\n",
            "        2.5008e-01, 2.4874e-01, 2.4748e-01, 2.4639e-01, 2.4522e-01, 2.4401e-01, 2.4282e-01, 2.4164e-01, 2.4040e-01,\n",
            "        2.3939e-01, 2.3873e-01, 2.3826e-01, 2.3815e-01, 2.3857e-01, 2.3917e-01, 2.3908e-01, 2.3750e-01, 2.3461e-01,\n",
            "        2.3061e-01, 2.2609e-01, 2.2103e-01, 2.1560e-01, 2.1000e-01, 2.0415e-01, 1.9811e-01, 1.9196e-01, 1.8590e-01,\n",
            "        1.7972e-01, 1.7338e-01, 1.6695e-01, 1.6044e-01, 1.5387e-01, 1.4736e-01, 1.4091e-01, 1.3461e-01, 1.2910e-01]))\n",
            "\n",
            "This is testset\n",
            "(tensor([4.3857e-02, 7.0180e-01, 4.6106e-01, 9.4367e-01, 3.0010e-01, 4.5640e-01]), tensor([2.3282e-01, 2.3126e-01, 2.2888e-01, 2.2435e-01, 2.1645e-01, 2.0842e-01, 2.1351e-01, 2.3711e-01, 2.6394e-01,\n",
            "        2.8955e-01, 2.9561e-01, 2.8586e-01, 2.7244e-01, 2.6274e-01, 2.5908e-01, 2.6077e-01, 2.6409e-01, 2.6852e-01,\n",
            "        2.7364e-01, 2.7914e-01, 2.8513e-01, 2.9151e-01, 2.9918e-01, 3.0967e-01, 3.2309e-01, 3.3272e-01, 3.4070e-01,\n",
            "        3.4773e-01, 3.5449e-01, 3.6036e-01, 3.6536e-01, 3.6832e-01, 3.6987e-01, 3.6816e-01, 3.6277e-01, 3.5723e-01,\n",
            "        3.5200e-01, 3.4556e-01, 3.3853e-01, 3.2997e-01, 3.2172e-01, 3.1396e-01, 3.0698e-01, 3.0052e-01, 2.9439e-01,\n",
            "        2.8873e-01, 2.8359e-01, 2.7892e-01, 2.7464e-01, 2.7044e-01, 2.6650e-01, 2.6268e-01, 2.5897e-01, 2.5527e-01,\n",
            "        2.5164e-01, 2.4821e-01, 2.4464e-01, 2.4110e-01, 2.3742e-01, 2.3378e-01, 2.2999e-01, 2.2605e-01, 2.2207e-01,\n",
            "        2.1796e-01, 2.1380e-01, 2.0955e-01, 2.0526e-01, 2.0098e-01, 1.9672e-01, 1.9244e-01, 1.8816e-01, 1.8413e-01,\n",
            "        1.8015e-01, 1.7622e-01, 1.7248e-01, 1.6893e-01, 1.6553e-01, 1.6244e-01, 1.5937e-01, 1.5607e-01, 1.5247e-01]))\n"
          ]
        }
      ]
    },
    {
      "cell_type": "code",
      "source": [
        "def train(model, device, train_loader, optimizer, criterion):\n",
        "    # The layers of our model which uses dropout, batch-normalization should behave differently depending on the current phase(training or evaluation)\n",
        "    model.train() # training mode \n",
        "    \n",
        "    losses_batch = []\n",
        "\n",
        "    for idx, (inputs, labels) in enumerate(train_loader):\n",
        "        inputs, labels = inputs.to(device), labels.to(device) #Move data to gpu if we can use gpu\n",
        "        optimizer.zero_grad()             # clear out the gradients to avoid accumulating with the gradients computed in previous step. \n",
        "        outputs = model(inputs)           # 1) Proceed forward pass\n",
        "        loss = criterion(outputs, labels) # 2) Compute the loss by comparing the predictive outputs and the actual labels\n",
        "        losses_batch.append(loss)\n",
        "        loss.backward()                   # 3) Compute a gradient of a loss function by backpropagation\n",
        "        optimizer.step()                  # 4) Update the weight by gradient descent according to the method(SGD or SGD with momentum or Adam) we defined earlier\n",
        "\n",
        "    loss_epoch = sum(losses_batch)/len(losses_batch)\n",
        "\n",
        "    return loss_epoch\n",
        "\n",
        "def eval(model, device, test_loader):\n",
        "     \n",
        "    model.eval() # evaluation mode\n",
        "    total = 0\n",
        "    correct = 0\n",
        "    losses_batch = []\n",
        "\n",
        "    with torch.no_grad(): # Deactivate the autograd engine # Note that in testing time, we don't need the gradient.\n",
        "        for inputs, labels in test_loader:\n",
        "            inputs, labels = inputs.to(device), labels.to(device) #Move data to gpu if we can use gpu\n",
        "            outputs = model(inputs)                               # Obtain the outputs from model\n",
        "\n",
        "            #print(outputs.shape)    #(64,81)\n",
        "            #print(labels.shape)     #(64,81)\n",
        "            loss = criterion(outputs, labels)\n",
        "            losses_batch.append(loss)\n",
        "\n",
        "    loss_epoch = sum(losses_batch)/len(losses_batch)\n",
        "\n",
        "    print('loss epoch: {:.8f}'.format(loss_epoch))\n",
        "    return loss_epoch"
      ],
      "metadata": {
        "id": "fohUUcjR7KNT"
      },
      "execution_count": 19,
      "outputs": []
    },
    {
      "cell_type": "code",
      "source": [
        "torch.manual_seed(2020) # Sets the seed for reproducibility\n",
        "\n",
        "train_loss_epoch = []\n",
        "test_acc_epoch = []"
      ],
      "metadata": {
        "id": "U0YF0AOt7PUH"
      },
      "execution_count": 20,
      "outputs": []
    },
    {
      "cell_type": "code",
      "source": [
        "#Make a model defined above\n",
        "model1 = Net()\n",
        "model1.to(device) # Move our model to gpu if we can use gpu\n",
        "print(':model1 is:')\n",
        "print(model1)\n",
        "\n",
        "#Choose an optimizer for you to use and set learning rate\n",
        "num_epoch = 200\n",
        "optimizer = optim.Adam(model1.parameters(), lr=0.003*r, betas = (0.9,0.999),eps = 1e-08, weight_decay =0, amsgrad = False)\n",
        "for epoch in tqdm(range(num_epoch)):\n",
        "    train_loss_epoch.append(train(model1, device, train_loader, optimizer, criterion))\n",
        "    test_acc_epoch.append(eval(model1, device, test_loader))\n",
        "\n",
        "num_epoch = 100\n",
        "optimizer = optim.Adam(model1.parameters(), lr=0.0001*r, betas = (0.9,0.999),eps = 1e-08, weight_decay =0, amsgrad = False)\n",
        "for epoch in tqdm(range(num_epoch)):\n",
        "    train_loss_epoch.append(train(model1, device, train_loader, optimizer, criterion))\n",
        "    test_acc_epoch.append(eval(model1, device, test_loader))"
      ],
      "metadata": {
        "id": "83RH_Hle8gcW",
        "colab": {
          "base_uri": "https://localhost:8080/"
        },
        "outputId": "56c6bb1e-475d-4736-e34d-b5a1abe05891"
      },
      "execution_count": 21,
      "outputs": [
        {
          "output_type": "stream",
          "name": "stdout",
          "text": [
            ":model1 is:\n",
            "Net(\n",
            "  (h1_tNet): tNet(\n",
            "    (fc1): Linear(in_features=1, out_features=100, bias=True)\n",
            "    (fc2): Linear(in_features=100, out_features=100, bias=True)\n",
            "    (fc3): Linear(in_features=100, out_features=1, bias=True)\n",
            "  )\n",
            "  (h2_tNet): tNet(\n",
            "    (fc1): Linear(in_features=1, out_features=100, bias=True)\n",
            "    (fc2): Linear(in_features=100, out_features=100, bias=True)\n",
            "    (fc3): Linear(in_features=100, out_features=1, bias=True)\n",
            "  )\n",
            "  (h3_tNet): tNet(\n",
            "    (fc1): Linear(in_features=1, out_features=100, bias=True)\n",
            "    (fc2): Linear(in_features=100, out_features=100, bias=True)\n",
            "    (fc3): Linear(in_features=100, out_features=1, bias=True)\n",
            "  )\n",
            "  (h4_tNet): tNet(\n",
            "    (fc1): Linear(in_features=1, out_features=100, bias=True)\n",
            "    (fc2): Linear(in_features=100, out_features=100, bias=True)\n",
            "    (fc3): Linear(in_features=100, out_features=1, bias=True)\n",
            "  )\n",
            ")\n"
          ]
        },
        {
          "output_type": "stream",
          "name": "stderr",
          "text": [
            "  0%|          | 1/200 [00:00<01:19,  2.50it/s]"
          ]
        },
        {
          "output_type": "stream",
          "name": "stdout",
          "text": [
            "loss epoch: 0.01177302\n"
          ]
        },
        {
          "output_type": "stream",
          "name": "stderr",
          "text": [
            "\r  1%|          | 2/200 [00:00<01:05,  3.02it/s]"
          ]
        },
        {
          "output_type": "stream",
          "name": "stdout",
          "text": [
            "loss epoch: 0.01106501\n"
          ]
        },
        {
          "output_type": "stream",
          "name": "stderr",
          "text": [
            "\r  2%|▏         | 3/200 [00:00<01:02,  3.16it/s]"
          ]
        },
        {
          "output_type": "stream",
          "name": "stdout",
          "text": [
            "loss epoch: 0.01068743\n"
          ]
        },
        {
          "output_type": "stream",
          "name": "stderr",
          "text": [
            "\r  2%|▏         | 4/200 [00:01<00:59,  3.30it/s]"
          ]
        },
        {
          "output_type": "stream",
          "name": "stdout",
          "text": [
            "loss epoch: 0.01047551\n"
          ]
        },
        {
          "output_type": "stream",
          "name": "stderr",
          "text": [
            "\r  2%|▎         | 5/200 [00:01<00:58,  3.33it/s]"
          ]
        },
        {
          "output_type": "stream",
          "name": "stdout",
          "text": [
            "loss epoch: 0.01017192\n"
          ]
        },
        {
          "output_type": "stream",
          "name": "stderr",
          "text": [
            "\r  3%|▎         | 6/200 [00:01<00:59,  3.26it/s]"
          ]
        },
        {
          "output_type": "stream",
          "name": "stdout",
          "text": [
            "loss epoch: 0.01007573\n"
          ]
        },
        {
          "output_type": "stream",
          "name": "stderr",
          "text": [
            "\r  4%|▎         | 7/200 [00:02<00:58,  3.30it/s]"
          ]
        },
        {
          "output_type": "stream",
          "name": "stdout",
          "text": [
            "loss epoch: 0.00985871\n"
          ]
        },
        {
          "output_type": "stream",
          "name": "stderr",
          "text": [
            "\r  4%|▍         | 8/200 [00:02<00:57,  3.36it/s]"
          ]
        },
        {
          "output_type": "stream",
          "name": "stdout",
          "text": [
            "loss epoch: 0.00962477\n"
          ]
        },
        {
          "output_type": "stream",
          "name": "stderr",
          "text": [
            "\r  4%|▍         | 9/200 [00:02<00:56,  3.38it/s]"
          ]
        },
        {
          "output_type": "stream",
          "name": "stdout",
          "text": [
            "loss epoch: 0.00965179\n"
          ]
        },
        {
          "output_type": "stream",
          "name": "stderr",
          "text": [
            "\r  5%|▌         | 10/200 [00:03<00:56,  3.37it/s]"
          ]
        },
        {
          "output_type": "stream",
          "name": "stdout",
          "text": [
            "loss epoch: 0.00949673\n"
          ]
        },
        {
          "output_type": "stream",
          "name": "stderr",
          "text": [
            "\r  6%|▌         | 11/200 [00:03<00:56,  3.37it/s]"
          ]
        },
        {
          "output_type": "stream",
          "name": "stdout",
          "text": [
            "loss epoch: 0.00965486\n"
          ]
        },
        {
          "output_type": "stream",
          "name": "stderr",
          "text": [
            "\r  6%|▌         | 12/200 [00:03<00:53,  3.49it/s]"
          ]
        },
        {
          "output_type": "stream",
          "name": "stdout",
          "text": [
            "loss epoch: 0.00969991\n"
          ]
        },
        {
          "output_type": "stream",
          "name": "stderr",
          "text": [
            "\r  6%|▋         | 13/200 [00:03<00:53,  3.52it/s]"
          ]
        },
        {
          "output_type": "stream",
          "name": "stdout",
          "text": [
            "loss epoch: 0.00974437\n"
          ]
        },
        {
          "output_type": "stream",
          "name": "stderr",
          "text": [
            "\r  7%|▋         | 14/200 [00:04<00:52,  3.54it/s]"
          ]
        },
        {
          "output_type": "stream",
          "name": "stdout",
          "text": [
            "loss epoch: 0.00937370\n"
          ]
        },
        {
          "output_type": "stream",
          "name": "stderr",
          "text": [
            "\r  8%|▊         | 15/200 [00:04<00:51,  3.57it/s]"
          ]
        },
        {
          "output_type": "stream",
          "name": "stdout",
          "text": [
            "loss epoch: 0.00975924\n"
          ]
        },
        {
          "output_type": "stream",
          "name": "stderr",
          "text": [
            "\r  8%|▊         | 16/200 [00:04<00:51,  3.59it/s]"
          ]
        },
        {
          "output_type": "stream",
          "name": "stdout",
          "text": [
            "loss epoch: 0.00939687\n"
          ]
        },
        {
          "output_type": "stream",
          "name": "stderr",
          "text": [
            "\r  8%|▊         | 17/200 [00:05<00:51,  3.57it/s]"
          ]
        },
        {
          "output_type": "stream",
          "name": "stdout",
          "text": [
            "loss epoch: 0.00934651\n"
          ]
        },
        {
          "output_type": "stream",
          "name": "stderr",
          "text": [
            "\r  9%|▉         | 18/200 [00:05<00:51,  3.51it/s]"
          ]
        },
        {
          "output_type": "stream",
          "name": "stdout",
          "text": [
            "loss epoch: 0.00944153\n"
          ]
        },
        {
          "output_type": "stream",
          "name": "stderr",
          "text": [
            "\r 10%|▉         | 19/200 [00:05<00:51,  3.55it/s]"
          ]
        },
        {
          "output_type": "stream",
          "name": "stdout",
          "text": [
            "loss epoch: 0.00934133\n"
          ]
        },
        {
          "output_type": "stream",
          "name": "stderr",
          "text": [
            "\r 10%|█         | 20/200 [00:05<00:50,  3.55it/s]"
          ]
        },
        {
          "output_type": "stream",
          "name": "stdout",
          "text": [
            "loss epoch: 0.00926651\n"
          ]
        },
        {
          "output_type": "stream",
          "name": "stderr",
          "text": [
            "\r 10%|█         | 21/200 [00:06<00:50,  3.55it/s]"
          ]
        },
        {
          "output_type": "stream",
          "name": "stdout",
          "text": [
            "loss epoch: 0.00921401\n"
          ]
        },
        {
          "output_type": "stream",
          "name": "stderr",
          "text": [
            "\r 11%|█         | 22/200 [00:06<00:49,  3.63it/s]"
          ]
        },
        {
          "output_type": "stream",
          "name": "stdout",
          "text": [
            "loss epoch: 0.00932315\n"
          ]
        },
        {
          "output_type": "stream",
          "name": "stderr",
          "text": [
            "\r 12%|█▏        | 23/200 [00:06<00:48,  3.62it/s]"
          ]
        },
        {
          "output_type": "stream",
          "name": "stdout",
          "text": [
            "loss epoch: 0.00924440\n"
          ]
        },
        {
          "output_type": "stream",
          "name": "stderr",
          "text": [
            "\r 12%|█▏        | 24/200 [00:06<00:49,  3.58it/s]"
          ]
        },
        {
          "output_type": "stream",
          "name": "stdout",
          "text": [
            "loss epoch: 0.00936976\n"
          ]
        },
        {
          "output_type": "stream",
          "name": "stderr",
          "text": [
            "\r 12%|█▎        | 25/200 [00:07<00:48,  3.58it/s]"
          ]
        },
        {
          "output_type": "stream",
          "name": "stdout",
          "text": [
            "loss epoch: 0.00928819\n"
          ]
        },
        {
          "output_type": "stream",
          "name": "stderr",
          "text": [
            "\r 13%|█▎        | 26/200 [00:07<00:48,  3.60it/s]"
          ]
        },
        {
          "output_type": "stream",
          "name": "stdout",
          "text": [
            "loss epoch: 0.00926887\n"
          ]
        },
        {
          "output_type": "stream",
          "name": "stderr",
          "text": [
            "\r 14%|█▎        | 27/200 [00:07<00:48,  3.60it/s]"
          ]
        },
        {
          "output_type": "stream",
          "name": "stdout",
          "text": [
            "loss epoch: 0.00919428\n"
          ]
        },
        {
          "output_type": "stream",
          "name": "stderr",
          "text": [
            "\r 14%|█▍        | 28/200 [00:08<00:47,  3.60it/s]"
          ]
        },
        {
          "output_type": "stream",
          "name": "stdout",
          "text": [
            "loss epoch: 0.00952330\n"
          ]
        },
        {
          "output_type": "stream",
          "name": "stderr",
          "text": [
            "\r 14%|█▍        | 29/200 [00:08<00:47,  3.58it/s]"
          ]
        },
        {
          "output_type": "stream",
          "name": "stdout",
          "text": [
            "loss epoch: 0.00915501\n"
          ]
        },
        {
          "output_type": "stream",
          "name": "stderr",
          "text": [
            "\r 15%|█▌        | 30/200 [00:08<00:46,  3.62it/s]"
          ]
        },
        {
          "output_type": "stream",
          "name": "stdout",
          "text": [
            "loss epoch: 0.00935154\n"
          ]
        },
        {
          "output_type": "stream",
          "name": "stderr",
          "text": [
            "\r 16%|█▌        | 31/200 [00:08<00:47,  3.59it/s]"
          ]
        },
        {
          "output_type": "stream",
          "name": "stdout",
          "text": [
            "loss epoch: 0.00933766\n"
          ]
        },
        {
          "output_type": "stream",
          "name": "stderr",
          "text": [
            "\r 16%|█▌        | 32/200 [00:09<00:47,  3.54it/s]"
          ]
        },
        {
          "output_type": "stream",
          "name": "stdout",
          "text": [
            "loss epoch: 0.00913946\n"
          ]
        },
        {
          "output_type": "stream",
          "name": "stderr",
          "text": [
            "\r 16%|█▋        | 33/200 [00:09<00:47,  3.55it/s]"
          ]
        },
        {
          "output_type": "stream",
          "name": "stdout",
          "text": [
            "loss epoch: 0.00905451\n"
          ]
        },
        {
          "output_type": "stream",
          "name": "stderr",
          "text": [
            "\r 17%|█▋        | 34/200 [00:09<00:46,  3.56it/s]"
          ]
        },
        {
          "output_type": "stream",
          "name": "stdout",
          "text": [
            "loss epoch: 0.00906927\n"
          ]
        },
        {
          "output_type": "stream",
          "name": "stderr",
          "text": [
            "\r 18%|█▊        | 35/200 [00:10<00:46,  3.57it/s]"
          ]
        },
        {
          "output_type": "stream",
          "name": "stdout",
          "text": [
            "loss epoch: 0.00900942\n"
          ]
        },
        {
          "output_type": "stream",
          "name": "stderr",
          "text": [
            "\r 18%|█▊        | 36/200 [00:10<00:46,  3.56it/s]"
          ]
        },
        {
          "output_type": "stream",
          "name": "stdout",
          "text": [
            "loss epoch: 0.00889860\n"
          ]
        },
        {
          "output_type": "stream",
          "name": "stderr",
          "text": [
            "\r 18%|█▊        | 37/200 [00:10<00:45,  3.55it/s]"
          ]
        },
        {
          "output_type": "stream",
          "name": "stdout",
          "text": [
            "loss epoch: 0.00882403\n"
          ]
        },
        {
          "output_type": "stream",
          "name": "stderr",
          "text": [
            "\r 19%|█▉        | 38/200 [00:10<00:45,  3.58it/s]"
          ]
        },
        {
          "output_type": "stream",
          "name": "stdout",
          "text": [
            "loss epoch: 0.00909343\n"
          ]
        },
        {
          "output_type": "stream",
          "name": "stderr",
          "text": [
            "\r 20%|█▉        | 39/200 [00:11<00:44,  3.59it/s]"
          ]
        },
        {
          "output_type": "stream",
          "name": "stdout",
          "text": [
            "loss epoch: 0.00874803\n"
          ]
        },
        {
          "output_type": "stream",
          "name": "stderr",
          "text": [
            "\r 20%|██        | 40/200 [00:11<00:44,  3.58it/s]"
          ]
        },
        {
          "output_type": "stream",
          "name": "stdout",
          "text": [
            "loss epoch: 0.00878227\n"
          ]
        },
        {
          "output_type": "stream",
          "name": "stderr",
          "text": [
            "\r 20%|██        | 41/200 [00:11<00:44,  3.61it/s]"
          ]
        },
        {
          "output_type": "stream",
          "name": "stdout",
          "text": [
            "loss epoch: 0.00880032\n"
          ]
        },
        {
          "output_type": "stream",
          "name": "stderr",
          "text": [
            "\r 21%|██        | 42/200 [00:11<00:43,  3.60it/s]"
          ]
        },
        {
          "output_type": "stream",
          "name": "stdout",
          "text": [
            "loss epoch: 0.00878688\n"
          ]
        },
        {
          "output_type": "stream",
          "name": "stderr",
          "text": [
            "\r 22%|██▏       | 43/200 [00:12<00:44,  3.57it/s]"
          ]
        },
        {
          "output_type": "stream",
          "name": "stdout",
          "text": [
            "loss epoch: 0.00881941\n"
          ]
        },
        {
          "output_type": "stream",
          "name": "stderr",
          "text": [
            "\r 22%|██▏       | 44/200 [00:12<00:43,  3.62it/s]"
          ]
        },
        {
          "output_type": "stream",
          "name": "stdout",
          "text": [
            "loss epoch: 0.00924414\n"
          ]
        },
        {
          "output_type": "stream",
          "name": "stderr",
          "text": [
            "\r 22%|██▎       | 45/200 [00:12<00:42,  3.61it/s]"
          ]
        },
        {
          "output_type": "stream",
          "name": "stdout",
          "text": [
            "loss epoch: 0.00874175\n"
          ]
        },
        {
          "output_type": "stream",
          "name": "stderr",
          "text": [
            "\r 23%|██▎       | 46/200 [00:13<00:42,  3.62it/s]"
          ]
        },
        {
          "output_type": "stream",
          "name": "stdout",
          "text": [
            "loss epoch: 0.00885892\n"
          ]
        },
        {
          "output_type": "stream",
          "name": "stderr",
          "text": [
            "\r 24%|██▎       | 47/200 [00:13<00:42,  3.58it/s]"
          ]
        },
        {
          "output_type": "stream",
          "name": "stdout",
          "text": [
            "loss epoch: 0.00881654\n"
          ]
        },
        {
          "output_type": "stream",
          "name": "stderr",
          "text": [
            "\r 24%|██▍       | 48/200 [00:13<00:44,  3.42it/s]"
          ]
        },
        {
          "output_type": "stream",
          "name": "stdout",
          "text": [
            "loss epoch: 0.00863925\n"
          ]
        },
        {
          "output_type": "stream",
          "name": "stderr",
          "text": [
            "\r 24%|██▍       | 49/200 [00:13<00:43,  3.46it/s]"
          ]
        },
        {
          "output_type": "stream",
          "name": "stdout",
          "text": [
            "loss epoch: 0.00868766\n"
          ]
        },
        {
          "output_type": "stream",
          "name": "stderr",
          "text": [
            "\r 25%|██▌       | 50/200 [00:14<00:43,  3.48it/s]"
          ]
        },
        {
          "output_type": "stream",
          "name": "stdout",
          "text": [
            "loss epoch: 0.00880112\n"
          ]
        },
        {
          "output_type": "stream",
          "name": "stderr",
          "text": [
            "\r 26%|██▌       | 51/200 [00:14<00:42,  3.48it/s]"
          ]
        },
        {
          "output_type": "stream",
          "name": "stdout",
          "text": [
            "loss epoch: 0.00870689\n"
          ]
        },
        {
          "output_type": "stream",
          "name": "stderr",
          "text": [
            "\r 26%|██▌       | 52/200 [00:14<00:42,  3.51it/s]"
          ]
        },
        {
          "output_type": "stream",
          "name": "stdout",
          "text": [
            "loss epoch: 0.00861780\n"
          ]
        },
        {
          "output_type": "stream",
          "name": "stderr",
          "text": [
            "\r 26%|██▋       | 53/200 [00:15<00:42,  3.47it/s]"
          ]
        },
        {
          "output_type": "stream",
          "name": "stdout",
          "text": [
            "loss epoch: 0.00884517\n"
          ]
        },
        {
          "output_type": "stream",
          "name": "stderr",
          "text": [
            "\r 27%|██▋       | 54/200 [00:15<00:41,  3.51it/s]"
          ]
        },
        {
          "output_type": "stream",
          "name": "stdout",
          "text": [
            "loss epoch: 0.00884963\n"
          ]
        },
        {
          "output_type": "stream",
          "name": "stderr",
          "text": [
            "\r 28%|██▊       | 55/200 [00:15<00:41,  3.53it/s]"
          ]
        },
        {
          "output_type": "stream",
          "name": "stdout",
          "text": [
            "loss epoch: 0.00883075\n"
          ]
        },
        {
          "output_type": "stream",
          "name": "stderr",
          "text": [
            "\r 28%|██▊       | 56/200 [00:15<00:40,  3.55it/s]"
          ]
        },
        {
          "output_type": "stream",
          "name": "stdout",
          "text": [
            "loss epoch: 0.00861237\n"
          ]
        },
        {
          "output_type": "stream",
          "name": "stderr",
          "text": [
            "\r 28%|██▊       | 57/200 [00:16<00:39,  3.59it/s]"
          ]
        },
        {
          "output_type": "stream",
          "name": "stdout",
          "text": [
            "loss epoch: 0.00889603\n"
          ]
        },
        {
          "output_type": "stream",
          "name": "stderr",
          "text": [
            "\r 29%|██▉       | 58/200 [00:16<00:39,  3.60it/s]"
          ]
        },
        {
          "output_type": "stream",
          "name": "stdout",
          "text": [
            "loss epoch: 0.00880599\n"
          ]
        },
        {
          "output_type": "stream",
          "name": "stderr",
          "text": [
            "\r 30%|██▉       | 59/200 [00:16<00:39,  3.58it/s]"
          ]
        },
        {
          "output_type": "stream",
          "name": "stdout",
          "text": [
            "loss epoch: 0.00879523\n"
          ]
        },
        {
          "output_type": "stream",
          "name": "stderr",
          "text": [
            "\r 30%|███       | 60/200 [00:17<00:38,  3.61it/s]"
          ]
        },
        {
          "output_type": "stream",
          "name": "stdout",
          "text": [
            "loss epoch: 0.00863171\n"
          ]
        },
        {
          "output_type": "stream",
          "name": "stderr",
          "text": [
            "\r 30%|███       | 61/200 [00:17<00:38,  3.64it/s]"
          ]
        },
        {
          "output_type": "stream",
          "name": "stdout",
          "text": [
            "loss epoch: 0.00889986\n"
          ]
        },
        {
          "output_type": "stream",
          "name": "stderr",
          "text": [
            "\r 31%|███       | 62/200 [00:17<00:38,  3.61it/s]"
          ]
        },
        {
          "output_type": "stream",
          "name": "stdout",
          "text": [
            "loss epoch: 0.00867775\n"
          ]
        },
        {
          "output_type": "stream",
          "name": "stderr",
          "text": [
            "\r 32%|███▏      | 63/200 [00:17<00:37,  3.64it/s]"
          ]
        },
        {
          "output_type": "stream",
          "name": "stdout",
          "text": [
            "loss epoch: 0.00896841\n"
          ]
        },
        {
          "output_type": "stream",
          "name": "stderr",
          "text": [
            "\r 32%|███▏      | 64/200 [00:18<00:37,  3.64it/s]"
          ]
        },
        {
          "output_type": "stream",
          "name": "stdout",
          "text": [
            "loss epoch: 0.00883702\n"
          ]
        },
        {
          "output_type": "stream",
          "name": "stderr",
          "text": [
            "\r 32%|███▎      | 65/200 [00:18<00:37,  3.62it/s]"
          ]
        },
        {
          "output_type": "stream",
          "name": "stdout",
          "text": [
            "loss epoch: 0.00884061\n"
          ]
        },
        {
          "output_type": "stream",
          "name": "stderr",
          "text": [
            "\r 33%|███▎      | 66/200 [00:18<00:36,  3.64it/s]"
          ]
        },
        {
          "output_type": "stream",
          "name": "stdout",
          "text": [
            "loss epoch: 0.00880673\n"
          ]
        },
        {
          "output_type": "stream",
          "name": "stderr",
          "text": [
            "\r 34%|███▎      | 67/200 [00:18<00:36,  3.63it/s]"
          ]
        },
        {
          "output_type": "stream",
          "name": "stdout",
          "text": [
            "loss epoch: 0.00886664\n"
          ]
        },
        {
          "output_type": "stream",
          "name": "stderr",
          "text": [
            "\r 34%|███▍      | 68/200 [00:19<00:36,  3.63it/s]"
          ]
        },
        {
          "output_type": "stream",
          "name": "stdout",
          "text": [
            "loss epoch: 0.00865931\n"
          ]
        },
        {
          "output_type": "stream",
          "name": "stderr",
          "text": [
            "\r 34%|███▍      | 69/200 [00:19<00:36,  3.61it/s]"
          ]
        },
        {
          "output_type": "stream",
          "name": "stdout",
          "text": [
            "loss epoch: 0.00871421\n"
          ]
        },
        {
          "output_type": "stream",
          "name": "stderr",
          "text": [
            "\r 35%|███▌      | 70/200 [00:19<00:35,  3.61it/s]"
          ]
        },
        {
          "output_type": "stream",
          "name": "stdout",
          "text": [
            "loss epoch: 0.00885163\n"
          ]
        },
        {
          "output_type": "stream",
          "name": "stderr",
          "text": [
            "\r 36%|███▌      | 71/200 [00:20<00:35,  3.61it/s]"
          ]
        },
        {
          "output_type": "stream",
          "name": "stdout",
          "text": [
            "loss epoch: 0.00848649\n"
          ]
        },
        {
          "output_type": "stream",
          "name": "stderr",
          "text": [
            "\r 36%|███▌      | 72/200 [00:20<00:35,  3.64it/s]"
          ]
        },
        {
          "output_type": "stream",
          "name": "stdout",
          "text": [
            "loss epoch: 0.00851718\n"
          ]
        },
        {
          "output_type": "stream",
          "name": "stderr",
          "text": [
            "\r 36%|███▋      | 73/200 [00:20<00:35,  3.59it/s]"
          ]
        },
        {
          "output_type": "stream",
          "name": "stdout",
          "text": [
            "loss epoch: 0.00834638\n"
          ]
        },
        {
          "output_type": "stream",
          "name": "stderr",
          "text": [
            "\r 37%|███▋      | 74/200 [00:20<00:34,  3.61it/s]"
          ]
        },
        {
          "output_type": "stream",
          "name": "stdout",
          "text": [
            "loss epoch: 0.00847023\n"
          ]
        },
        {
          "output_type": "stream",
          "name": "stderr",
          "text": [
            "\r 38%|███▊      | 75/200 [00:21<00:34,  3.63it/s]"
          ]
        },
        {
          "output_type": "stream",
          "name": "stdout",
          "text": [
            "loss epoch: 0.00839909\n"
          ]
        },
        {
          "output_type": "stream",
          "name": "stderr",
          "text": [
            "\r 38%|███▊      | 76/200 [00:21<00:34,  3.63it/s]"
          ]
        },
        {
          "output_type": "stream",
          "name": "stdout",
          "text": [
            "loss epoch: 0.00852765\n"
          ]
        },
        {
          "output_type": "stream",
          "name": "stderr",
          "text": [
            "\r 38%|███▊      | 77/200 [00:21<00:33,  3.63it/s]"
          ]
        },
        {
          "output_type": "stream",
          "name": "stdout",
          "text": [
            "loss epoch: 0.00825483\n"
          ]
        },
        {
          "output_type": "stream",
          "name": "stderr",
          "text": [
            "\r 39%|███▉      | 78/200 [00:22<00:34,  3.58it/s]"
          ]
        },
        {
          "output_type": "stream",
          "name": "stdout",
          "text": [
            "loss epoch: 0.00811455\n"
          ]
        },
        {
          "output_type": "stream",
          "name": "stderr",
          "text": [
            "\r 40%|███▉      | 79/200 [00:22<00:33,  3.60it/s]"
          ]
        },
        {
          "output_type": "stream",
          "name": "stdout",
          "text": [
            "loss epoch: 0.00834754\n"
          ]
        },
        {
          "output_type": "stream",
          "name": "stderr",
          "text": [
            "\r 40%|████      | 80/200 [00:22<00:33,  3.59it/s]"
          ]
        },
        {
          "output_type": "stream",
          "name": "stdout",
          "text": [
            "loss epoch: 0.00823170\n"
          ]
        },
        {
          "output_type": "stream",
          "name": "stderr",
          "text": [
            "\r 40%|████      | 81/200 [00:22<00:33,  3.59it/s]"
          ]
        },
        {
          "output_type": "stream",
          "name": "stdout",
          "text": [
            "loss epoch: 0.00822842\n"
          ]
        },
        {
          "output_type": "stream",
          "name": "stderr",
          "text": [
            "\r 41%|████      | 82/200 [00:23<00:32,  3.61it/s]"
          ]
        },
        {
          "output_type": "stream",
          "name": "stdout",
          "text": [
            "loss epoch: 0.00819226\n"
          ]
        },
        {
          "output_type": "stream",
          "name": "stderr",
          "text": [
            "\r 42%|████▏     | 83/200 [00:23<00:32,  3.63it/s]"
          ]
        },
        {
          "output_type": "stream",
          "name": "stdout",
          "text": [
            "loss epoch: 0.00808935\n"
          ]
        },
        {
          "output_type": "stream",
          "name": "stderr",
          "text": [
            "\r 42%|████▏     | 84/200 [00:23<00:32,  3.52it/s]"
          ]
        },
        {
          "output_type": "stream",
          "name": "stdout",
          "text": [
            "loss epoch: 0.00799790\n"
          ]
        },
        {
          "output_type": "stream",
          "name": "stderr",
          "text": [
            "\r 42%|████▎     | 85/200 [00:24<00:33,  3.47it/s]"
          ]
        },
        {
          "output_type": "stream",
          "name": "stdout",
          "text": [
            "loss epoch: 0.00831651\n"
          ]
        },
        {
          "output_type": "stream",
          "name": "stderr",
          "text": [
            "\r 43%|████▎     | 86/200 [00:24<00:33,  3.44it/s]"
          ]
        },
        {
          "output_type": "stream",
          "name": "stdout",
          "text": [
            "loss epoch: 0.00844433\n"
          ]
        },
        {
          "output_type": "stream",
          "name": "stderr",
          "text": [
            "\r 44%|████▎     | 87/200 [00:24<00:32,  3.43it/s]"
          ]
        },
        {
          "output_type": "stream",
          "name": "stdout",
          "text": [
            "loss epoch: 0.00810863\n"
          ]
        },
        {
          "output_type": "stream",
          "name": "stderr",
          "text": [
            "\r 44%|████▍     | 88/200 [00:24<00:32,  3.48it/s]"
          ]
        },
        {
          "output_type": "stream",
          "name": "stdout",
          "text": [
            "loss epoch: 0.00823005\n"
          ]
        },
        {
          "output_type": "stream",
          "name": "stderr",
          "text": [
            "\r 44%|████▍     | 89/200 [00:25<00:31,  3.53it/s]"
          ]
        },
        {
          "output_type": "stream",
          "name": "stdout",
          "text": [
            "loss epoch: 0.00852205\n"
          ]
        },
        {
          "output_type": "stream",
          "name": "stderr",
          "text": [
            "\r 45%|████▌     | 90/200 [00:25<00:30,  3.57it/s]"
          ]
        },
        {
          "output_type": "stream",
          "name": "stdout",
          "text": [
            "loss epoch: 0.00806814\n"
          ]
        },
        {
          "output_type": "stream",
          "name": "stderr",
          "text": [
            "\r 46%|████▌     | 91/200 [00:25<00:30,  3.56it/s]"
          ]
        },
        {
          "output_type": "stream",
          "name": "stdout",
          "text": [
            "loss epoch: 0.00866753\n"
          ]
        },
        {
          "output_type": "stream",
          "name": "stderr",
          "text": [
            "\r 46%|████▌     | 92/200 [00:25<00:30,  3.55it/s]"
          ]
        },
        {
          "output_type": "stream",
          "name": "stdout",
          "text": [
            "loss epoch: 0.00824983\n"
          ]
        },
        {
          "output_type": "stream",
          "name": "stderr",
          "text": [
            "\r 46%|████▋     | 93/200 [00:26<00:29,  3.59it/s]"
          ]
        },
        {
          "output_type": "stream",
          "name": "stdout",
          "text": [
            "loss epoch: 0.00814472\n"
          ]
        },
        {
          "output_type": "stream",
          "name": "stderr",
          "text": [
            "\r 47%|████▋     | 94/200 [00:26<00:29,  3.62it/s]"
          ]
        },
        {
          "output_type": "stream",
          "name": "stdout",
          "text": [
            "loss epoch: 0.00821820\n"
          ]
        },
        {
          "output_type": "stream",
          "name": "stderr",
          "text": [
            "\r 48%|████▊     | 95/200 [00:26<00:29,  3.56it/s]"
          ]
        },
        {
          "output_type": "stream",
          "name": "stdout",
          "text": [
            "loss epoch: 0.00820940\n"
          ]
        },
        {
          "output_type": "stream",
          "name": "stderr",
          "text": [
            "\r 48%|████▊     | 96/200 [00:27<00:29,  3.55it/s]"
          ]
        },
        {
          "output_type": "stream",
          "name": "stdout",
          "text": [
            "loss epoch: 0.00837930\n"
          ]
        },
        {
          "output_type": "stream",
          "name": "stderr",
          "text": [
            "\r 48%|████▊     | 97/200 [00:27<00:28,  3.58it/s]"
          ]
        },
        {
          "output_type": "stream",
          "name": "stdout",
          "text": [
            "loss epoch: 0.00852020\n"
          ]
        },
        {
          "output_type": "stream",
          "name": "stderr",
          "text": [
            "\r 49%|████▉     | 98/200 [00:27<00:28,  3.54it/s]"
          ]
        },
        {
          "output_type": "stream",
          "name": "stdout",
          "text": [
            "loss epoch: 0.00803889\n"
          ]
        },
        {
          "output_type": "stream",
          "name": "stderr",
          "text": [
            "\r 50%|████▉     | 99/200 [00:27<00:28,  3.57it/s]"
          ]
        },
        {
          "output_type": "stream",
          "name": "stdout",
          "text": [
            "loss epoch: 0.00834962\n"
          ]
        },
        {
          "output_type": "stream",
          "name": "stderr",
          "text": [
            "\r 50%|█████     | 100/200 [00:28<00:27,  3.58it/s]"
          ]
        },
        {
          "output_type": "stream",
          "name": "stdout",
          "text": [
            "loss epoch: 0.00806316\n"
          ]
        },
        {
          "output_type": "stream",
          "name": "stderr",
          "text": [
            "\r 50%|█████     | 101/200 [00:28<00:27,  3.61it/s]"
          ]
        },
        {
          "output_type": "stream",
          "name": "stdout",
          "text": [
            "loss epoch: 0.00830721\n"
          ]
        },
        {
          "output_type": "stream",
          "name": "stderr",
          "text": [
            "\r 51%|█████     | 102/200 [00:28<00:27,  3.56it/s]"
          ]
        },
        {
          "output_type": "stream",
          "name": "stdout",
          "text": [
            "loss epoch: 0.00833755\n"
          ]
        },
        {
          "output_type": "stream",
          "name": "stderr",
          "text": [
            "\r 52%|█████▏    | 103/200 [00:29<00:27,  3.47it/s]"
          ]
        },
        {
          "output_type": "stream",
          "name": "stdout",
          "text": [
            "loss epoch: 0.00790503\n"
          ]
        },
        {
          "output_type": "stream",
          "name": "stderr",
          "text": [
            "\r 52%|█████▏    | 104/200 [00:29<00:27,  3.55it/s]"
          ]
        },
        {
          "output_type": "stream",
          "name": "stdout",
          "text": [
            "loss epoch: 0.00803930\n"
          ]
        },
        {
          "output_type": "stream",
          "name": "stderr",
          "text": [
            "\r 52%|█████▎    | 105/200 [00:29<00:26,  3.59it/s]"
          ]
        },
        {
          "output_type": "stream",
          "name": "stdout",
          "text": [
            "loss epoch: 0.00804829\n"
          ]
        },
        {
          "output_type": "stream",
          "name": "stderr",
          "text": [
            "\r 53%|█████▎    | 106/200 [00:29<00:26,  3.56it/s]"
          ]
        },
        {
          "output_type": "stream",
          "name": "stdout",
          "text": [
            "loss epoch: 0.00830107\n"
          ]
        },
        {
          "output_type": "stream",
          "name": "stderr",
          "text": [
            "\r 54%|█████▎    | 107/200 [00:30<00:26,  3.57it/s]"
          ]
        },
        {
          "output_type": "stream",
          "name": "stdout",
          "text": [
            "loss epoch: 0.00784582\n"
          ]
        },
        {
          "output_type": "stream",
          "name": "stderr",
          "text": [
            "\r 54%|█████▍    | 108/200 [00:30<00:25,  3.59it/s]"
          ]
        },
        {
          "output_type": "stream",
          "name": "stdout",
          "text": [
            "loss epoch: 0.00797146\n"
          ]
        },
        {
          "output_type": "stream",
          "name": "stderr",
          "text": [
            "\r 55%|█████▍    | 109/200 [00:30<00:25,  3.58it/s]"
          ]
        },
        {
          "output_type": "stream",
          "name": "stdout",
          "text": [
            "loss epoch: 0.00802591\n"
          ]
        },
        {
          "output_type": "stream",
          "name": "stderr",
          "text": [
            "\r 55%|█████▌    | 110/200 [00:31<00:25,  3.60it/s]"
          ]
        },
        {
          "output_type": "stream",
          "name": "stdout",
          "text": [
            "loss epoch: 0.00806868\n"
          ]
        },
        {
          "output_type": "stream",
          "name": "stderr",
          "text": [
            "\r 56%|█████▌    | 111/200 [00:31<00:24,  3.58it/s]"
          ]
        },
        {
          "output_type": "stream",
          "name": "stdout",
          "text": [
            "loss epoch: 0.00790162\n"
          ]
        },
        {
          "output_type": "stream",
          "name": "stderr",
          "text": [
            "\r 56%|█████▌    | 112/200 [00:31<00:24,  3.62it/s]"
          ]
        },
        {
          "output_type": "stream",
          "name": "stdout",
          "text": [
            "loss epoch: 0.00800262\n"
          ]
        },
        {
          "output_type": "stream",
          "name": "stderr",
          "text": [
            "\r 56%|█████▋    | 113/200 [00:31<00:24,  3.57it/s]"
          ]
        },
        {
          "output_type": "stream",
          "name": "stdout",
          "text": [
            "loss epoch: 0.00779751\n"
          ]
        },
        {
          "output_type": "stream",
          "name": "stderr",
          "text": [
            "\r 57%|█████▋    | 114/200 [00:32<00:24,  3.57it/s]"
          ]
        },
        {
          "output_type": "stream",
          "name": "stdout",
          "text": [
            "loss epoch: 0.00824651\n"
          ]
        },
        {
          "output_type": "stream",
          "name": "stderr",
          "text": [
            "\r 57%|█████▊    | 115/200 [00:32<00:23,  3.61it/s]"
          ]
        },
        {
          "output_type": "stream",
          "name": "stdout",
          "text": [
            "loss epoch: 0.00812156\n"
          ]
        },
        {
          "output_type": "stream",
          "name": "stderr",
          "text": [
            "\r 58%|█████▊    | 116/200 [00:32<00:22,  3.65it/s]"
          ]
        },
        {
          "output_type": "stream",
          "name": "stdout",
          "text": [
            "loss epoch: 0.00770496\n"
          ]
        },
        {
          "output_type": "stream",
          "name": "stderr",
          "text": [
            "\r 58%|█████▊    | 117/200 [00:32<00:23,  3.60it/s]"
          ]
        },
        {
          "output_type": "stream",
          "name": "stdout",
          "text": [
            "loss epoch: 0.00789547\n"
          ]
        },
        {
          "output_type": "stream",
          "name": "stderr",
          "text": [
            "\r 59%|█████▉    | 118/200 [00:33<00:22,  3.64it/s]"
          ]
        },
        {
          "output_type": "stream",
          "name": "stdout",
          "text": [
            "loss epoch: 0.00817968\n"
          ]
        },
        {
          "output_type": "stream",
          "name": "stderr",
          "text": [
            "\r 60%|█████▉    | 119/200 [00:33<00:22,  3.67it/s]"
          ]
        },
        {
          "output_type": "stream",
          "name": "stdout",
          "text": [
            "loss epoch: 0.00788118\n"
          ]
        },
        {
          "output_type": "stream",
          "name": "stderr",
          "text": [
            "\r 60%|██████    | 120/200 [00:33<00:22,  3.52it/s]"
          ]
        },
        {
          "output_type": "stream",
          "name": "stdout",
          "text": [
            "loss epoch: 0.00793595\n"
          ]
        },
        {
          "output_type": "stream",
          "name": "stderr",
          "text": [
            "\r 60%|██████    | 121/200 [00:34<00:22,  3.49it/s]"
          ]
        },
        {
          "output_type": "stream",
          "name": "stdout",
          "text": [
            "loss epoch: 0.00813276\n"
          ]
        },
        {
          "output_type": "stream",
          "name": "stderr",
          "text": [
            "\r 61%|██████    | 122/200 [00:34<00:21,  3.56it/s]"
          ]
        },
        {
          "output_type": "stream",
          "name": "stdout",
          "text": [
            "loss epoch: 0.00795036\n"
          ]
        },
        {
          "output_type": "stream",
          "name": "stderr",
          "text": [
            "\r 62%|██████▏   | 123/200 [00:34<00:21,  3.53it/s]"
          ]
        },
        {
          "output_type": "stream",
          "name": "stdout",
          "text": [
            "loss epoch: 0.00784726\n"
          ]
        },
        {
          "output_type": "stream",
          "name": "stderr",
          "text": [
            "\r 62%|██████▏   | 124/200 [00:34<00:21,  3.52it/s]"
          ]
        },
        {
          "output_type": "stream",
          "name": "stdout",
          "text": [
            "loss epoch: 0.00805203\n"
          ]
        },
        {
          "output_type": "stream",
          "name": "stderr",
          "text": [
            "\r 62%|██████▎   | 125/200 [00:35<00:20,  3.57it/s]"
          ]
        },
        {
          "output_type": "stream",
          "name": "stdout",
          "text": [
            "loss epoch: 0.00800470\n"
          ]
        },
        {
          "output_type": "stream",
          "name": "stderr",
          "text": [
            "\r 63%|██████▎   | 126/200 [00:35<00:20,  3.62it/s]"
          ]
        },
        {
          "output_type": "stream",
          "name": "stdout",
          "text": [
            "loss epoch: 0.00784087\n"
          ]
        },
        {
          "output_type": "stream",
          "name": "stderr",
          "text": [
            "\r 64%|██████▎   | 127/200 [00:35<00:20,  3.59it/s]"
          ]
        },
        {
          "output_type": "stream",
          "name": "stdout",
          "text": [
            "loss epoch: 0.00735812\n"
          ]
        },
        {
          "output_type": "stream",
          "name": "stderr",
          "text": [
            "\r 64%|██████▍   | 128/200 [00:36<00:20,  3.58it/s]"
          ]
        },
        {
          "output_type": "stream",
          "name": "stdout",
          "text": [
            "loss epoch: 0.00788356\n"
          ]
        },
        {
          "output_type": "stream",
          "name": "stderr",
          "text": [
            "\r 64%|██████▍   | 129/200 [00:36<00:19,  3.59it/s]"
          ]
        },
        {
          "output_type": "stream",
          "name": "stdout",
          "text": [
            "loss epoch: 0.00773667\n"
          ]
        },
        {
          "output_type": "stream",
          "name": "stderr",
          "text": [
            "\r 65%|██████▌   | 130/200 [00:36<00:19,  3.62it/s]"
          ]
        },
        {
          "output_type": "stream",
          "name": "stdout",
          "text": [
            "loss epoch: 0.00767648\n"
          ]
        },
        {
          "output_type": "stream",
          "name": "stderr",
          "text": [
            "\r 66%|██████▌   | 131/200 [00:36<00:19,  3.56it/s]"
          ]
        },
        {
          "output_type": "stream",
          "name": "stdout",
          "text": [
            "loss epoch: 0.00790688\n"
          ]
        },
        {
          "output_type": "stream",
          "name": "stderr",
          "text": [
            "\r 66%|██████▌   | 132/200 [00:37<00:19,  3.58it/s]"
          ]
        },
        {
          "output_type": "stream",
          "name": "stdout",
          "text": [
            "loss epoch: 0.00726971\n"
          ]
        },
        {
          "output_type": "stream",
          "name": "stderr",
          "text": [
            "\r 66%|██████▋   | 133/200 [00:37<00:18,  3.63it/s]"
          ]
        },
        {
          "output_type": "stream",
          "name": "stdout",
          "text": [
            "loss epoch: 0.00735897\n"
          ]
        },
        {
          "output_type": "stream",
          "name": "stderr",
          "text": [
            "\r 67%|██████▋   | 134/200 [00:37<00:18,  3.65it/s]"
          ]
        },
        {
          "output_type": "stream",
          "name": "stdout",
          "text": [
            "loss epoch: 0.00752431\n"
          ]
        },
        {
          "output_type": "stream",
          "name": "stderr",
          "text": [
            "\r 68%|██████▊   | 135/200 [00:37<00:18,  3.60it/s]"
          ]
        },
        {
          "output_type": "stream",
          "name": "stdout",
          "text": [
            "loss epoch: 0.00711059\n"
          ]
        },
        {
          "output_type": "stream",
          "name": "stderr",
          "text": [
            "\r 68%|██████▊   | 136/200 [00:38<00:17,  3.62it/s]"
          ]
        },
        {
          "output_type": "stream",
          "name": "stdout",
          "text": [
            "loss epoch: 0.00741070\n"
          ]
        },
        {
          "output_type": "stream",
          "name": "stderr",
          "text": [
            "\r 68%|██████▊   | 137/200 [00:38<00:17,  3.55it/s]"
          ]
        },
        {
          "output_type": "stream",
          "name": "stdout",
          "text": [
            "loss epoch: 0.00769498\n"
          ]
        },
        {
          "output_type": "stream",
          "name": "stderr",
          "text": [
            "\r 69%|██████▉   | 138/200 [00:38<00:17,  3.46it/s]"
          ]
        },
        {
          "output_type": "stream",
          "name": "stdout",
          "text": [
            "loss epoch: 0.00729780\n"
          ]
        },
        {
          "output_type": "stream",
          "name": "stderr",
          "text": [
            "\r 70%|██████▉   | 139/200 [00:39<00:17,  3.47it/s]"
          ]
        },
        {
          "output_type": "stream",
          "name": "stdout",
          "text": [
            "loss epoch: 0.00754798\n"
          ]
        },
        {
          "output_type": "stream",
          "name": "stderr",
          "text": [
            "\r 70%|███████   | 140/200 [00:39<00:16,  3.54it/s]"
          ]
        },
        {
          "output_type": "stream",
          "name": "stdout",
          "text": [
            "loss epoch: 0.00738614\n"
          ]
        },
        {
          "output_type": "stream",
          "name": "stderr",
          "text": [
            "\r 70%|███████   | 141/200 [00:39<00:16,  3.60it/s]"
          ]
        },
        {
          "output_type": "stream",
          "name": "stdout",
          "text": [
            "loss epoch: 0.00789401\n"
          ]
        },
        {
          "output_type": "stream",
          "name": "stderr",
          "text": [
            "\r 71%|███████   | 142/200 [00:39<00:16,  3.56it/s]"
          ]
        },
        {
          "output_type": "stream",
          "name": "stdout",
          "text": [
            "loss epoch: 0.00717746\n"
          ]
        },
        {
          "output_type": "stream",
          "name": "stderr",
          "text": [
            "\r 72%|███████▏  | 143/200 [00:40<00:15,  3.58it/s]"
          ]
        },
        {
          "output_type": "stream",
          "name": "stdout",
          "text": [
            "loss epoch: 0.00755897\n"
          ]
        },
        {
          "output_type": "stream",
          "name": "stderr",
          "text": [
            "\r 72%|███████▏  | 144/200 [00:40<00:15,  3.60it/s]"
          ]
        },
        {
          "output_type": "stream",
          "name": "stdout",
          "text": [
            "loss epoch: 0.00710323\n"
          ]
        },
        {
          "output_type": "stream",
          "name": "stderr",
          "text": [
            "\r 72%|███████▎  | 145/200 [00:40<00:15,  3.58it/s]"
          ]
        },
        {
          "output_type": "stream",
          "name": "stdout",
          "text": [
            "loss epoch: 0.00693072\n"
          ]
        },
        {
          "output_type": "stream",
          "name": "stderr",
          "text": [
            "\r 73%|███████▎  | 146/200 [00:41<00:15,  3.56it/s]"
          ]
        },
        {
          "output_type": "stream",
          "name": "stdout",
          "text": [
            "loss epoch: 0.00704001\n"
          ]
        },
        {
          "output_type": "stream",
          "name": "stderr",
          "text": [
            "\r 74%|███████▎  | 147/200 [00:41<00:14,  3.60it/s]"
          ]
        },
        {
          "output_type": "stream",
          "name": "stdout",
          "text": [
            "loss epoch: 0.00740253\n"
          ]
        },
        {
          "output_type": "stream",
          "name": "stderr",
          "text": [
            "\r 74%|███████▍  | 148/200 [00:41<00:14,  3.62it/s]"
          ]
        },
        {
          "output_type": "stream",
          "name": "stdout",
          "text": [
            "loss epoch: 0.00715334\n"
          ]
        },
        {
          "output_type": "stream",
          "name": "stderr",
          "text": [
            "\r 74%|███████▍  | 149/200 [00:41<00:14,  3.62it/s]"
          ]
        },
        {
          "output_type": "stream",
          "name": "stdout",
          "text": [
            "loss epoch: 0.00746662\n"
          ]
        },
        {
          "output_type": "stream",
          "name": "stderr",
          "text": [
            "\r 75%|███████▌  | 150/200 [00:42<00:13,  3.61it/s]"
          ]
        },
        {
          "output_type": "stream",
          "name": "stdout",
          "text": [
            "loss epoch: 0.00557397\n"
          ]
        },
        {
          "output_type": "stream",
          "name": "stderr",
          "text": [
            "\r 76%|███████▌  | 151/200 [00:42<00:13,  3.62it/s]"
          ]
        },
        {
          "output_type": "stream",
          "name": "stdout",
          "text": [
            "loss epoch: 0.00559217\n"
          ]
        },
        {
          "output_type": "stream",
          "name": "stderr",
          "text": [
            "\r 76%|███████▌  | 152/200 [00:42<00:13,  3.63it/s]"
          ]
        },
        {
          "output_type": "stream",
          "name": "stdout",
          "text": [
            "loss epoch: 0.00550982\n"
          ]
        },
        {
          "output_type": "stream",
          "name": "stderr",
          "text": [
            "\r 76%|███████▋  | 153/200 [00:43<00:13,  3.58it/s]"
          ]
        },
        {
          "output_type": "stream",
          "name": "stdout",
          "text": [
            "loss epoch: 0.00545471\n"
          ]
        },
        {
          "output_type": "stream",
          "name": "stderr",
          "text": [
            "\r 77%|███████▋  | 154/200 [00:43<00:12,  3.62it/s]"
          ]
        },
        {
          "output_type": "stream",
          "name": "stdout",
          "text": [
            "loss epoch: 0.00548297\n"
          ]
        },
        {
          "output_type": "stream",
          "name": "stderr",
          "text": [
            "\r 78%|███████▊  | 155/200 [00:43<00:12,  3.64it/s]"
          ]
        },
        {
          "output_type": "stream",
          "name": "stdout",
          "text": [
            "loss epoch: 0.00541519\n"
          ]
        },
        {
          "output_type": "stream",
          "name": "stderr",
          "text": [
            "\r 78%|███████▊  | 156/200 [00:43<00:12,  3.64it/s]"
          ]
        },
        {
          "output_type": "stream",
          "name": "stdout",
          "text": [
            "loss epoch: 0.00543425\n"
          ]
        },
        {
          "output_type": "stream",
          "name": "stderr",
          "text": [
            "\r 78%|███████▊  | 157/200 [00:44<00:11,  3.59it/s]"
          ]
        },
        {
          "output_type": "stream",
          "name": "stdout",
          "text": [
            "loss epoch: 0.00516060\n"
          ]
        },
        {
          "output_type": "stream",
          "name": "stderr",
          "text": [
            "\r 79%|███████▉  | 158/200 [00:44<00:11,  3.63it/s]"
          ]
        },
        {
          "output_type": "stream",
          "name": "stdout",
          "text": [
            "loss epoch: 0.00537490\n"
          ]
        },
        {
          "output_type": "stream",
          "name": "stderr",
          "text": [
            "\r 80%|███████▉  | 159/200 [00:44<00:11,  3.63it/s]"
          ]
        },
        {
          "output_type": "stream",
          "name": "stdout",
          "text": [
            "loss epoch: 0.00518852\n"
          ]
        },
        {
          "output_type": "stream",
          "name": "stderr",
          "text": [
            "\r 80%|████████  | 160/200 [00:44<00:11,  3.59it/s]"
          ]
        },
        {
          "output_type": "stream",
          "name": "stdout",
          "text": [
            "loss epoch: 0.00534641\n"
          ]
        },
        {
          "output_type": "stream",
          "name": "stderr",
          "text": [
            "\r 80%|████████  | 161/200 [00:45<00:10,  3.56it/s]"
          ]
        },
        {
          "output_type": "stream",
          "name": "stdout",
          "text": [
            "loss epoch: 0.00513444\n"
          ]
        },
        {
          "output_type": "stream",
          "name": "stderr",
          "text": [
            "\r 81%|████████  | 162/200 [00:45<00:10,  3.62it/s]"
          ]
        },
        {
          "output_type": "stream",
          "name": "stdout",
          "text": [
            "loss epoch: 0.00527067\n"
          ]
        },
        {
          "output_type": "stream",
          "name": "stderr",
          "text": [
            "\r 82%|████████▏ | 163/200 [00:45<00:10,  3.60it/s]"
          ]
        },
        {
          "output_type": "stream",
          "name": "stdout",
          "text": [
            "loss epoch: 0.00516999\n"
          ]
        },
        {
          "output_type": "stream",
          "name": "stderr",
          "text": [
            "\r 82%|████████▏ | 164/200 [00:46<00:10,  3.56it/s]"
          ]
        },
        {
          "output_type": "stream",
          "name": "stdout",
          "text": [
            "loss epoch: 0.00521156\n"
          ]
        },
        {
          "output_type": "stream",
          "name": "stderr",
          "text": [
            "\r 82%|████████▎ | 165/200 [00:46<00:09,  3.61it/s]"
          ]
        },
        {
          "output_type": "stream",
          "name": "stdout",
          "text": [
            "loss epoch: 0.00515493\n"
          ]
        },
        {
          "output_type": "stream",
          "name": "stderr",
          "text": [
            "\r 83%|████████▎ | 166/200 [00:46<00:09,  3.66it/s]"
          ]
        },
        {
          "output_type": "stream",
          "name": "stdout",
          "text": [
            "loss epoch: 0.00516279\n"
          ]
        },
        {
          "output_type": "stream",
          "name": "stderr",
          "text": [
            "\r 84%|████████▎ | 167/200 [00:46<00:09,  3.62it/s]"
          ]
        },
        {
          "output_type": "stream",
          "name": "stdout",
          "text": [
            "loss epoch: 0.00523898\n"
          ]
        },
        {
          "output_type": "stream",
          "name": "stderr",
          "text": [
            "\r 84%|████████▍ | 168/200 [00:47<00:08,  3.60it/s]"
          ]
        },
        {
          "output_type": "stream",
          "name": "stdout",
          "text": [
            "loss epoch: 0.00512798\n"
          ]
        },
        {
          "output_type": "stream",
          "name": "stderr",
          "text": [
            "\r 84%|████████▍ | 169/200 [00:47<00:08,  3.57it/s]"
          ]
        },
        {
          "output_type": "stream",
          "name": "stdout",
          "text": [
            "loss epoch: 0.00514988\n"
          ]
        },
        {
          "output_type": "stream",
          "name": "stderr",
          "text": [
            "\r 85%|████████▌ | 170/200 [00:47<00:08,  3.56it/s]"
          ]
        },
        {
          "output_type": "stream",
          "name": "stdout",
          "text": [
            "loss epoch: 0.00506960\n"
          ]
        },
        {
          "output_type": "stream",
          "name": "stderr",
          "text": [
            "\r 86%|████████▌ | 171/200 [00:48<00:08,  3.58it/s]"
          ]
        },
        {
          "output_type": "stream",
          "name": "stdout",
          "text": [
            "loss epoch: 0.00526585\n"
          ]
        },
        {
          "output_type": "stream",
          "name": "stderr",
          "text": [
            "\r 86%|████████▌ | 172/200 [00:48<00:07,  3.53it/s]"
          ]
        },
        {
          "output_type": "stream",
          "name": "stdout",
          "text": [
            "loss epoch: 0.00091014\n"
          ]
        },
        {
          "output_type": "stream",
          "name": "stderr",
          "text": [
            "\r 86%|████████▋ | 173/200 [00:48<00:07,  3.56it/s]"
          ]
        },
        {
          "output_type": "stream",
          "name": "stdout",
          "text": [
            "loss epoch: 0.00099128\n"
          ]
        },
        {
          "output_type": "stream",
          "name": "stderr",
          "text": [
            "\r 87%|████████▋ | 174/200 [00:48<00:07,  3.59it/s]"
          ]
        },
        {
          "output_type": "stream",
          "name": "stdout",
          "text": [
            "loss epoch: 0.00066320\n"
          ]
        },
        {
          "output_type": "stream",
          "name": "stderr",
          "text": [
            "\r 88%|████████▊ | 175/200 [00:49<00:07,  3.54it/s]"
          ]
        },
        {
          "output_type": "stream",
          "name": "stdout",
          "text": [
            "loss epoch: 0.00056896\n"
          ]
        },
        {
          "output_type": "stream",
          "name": "stderr",
          "text": [
            "\r 88%|████████▊ | 176/200 [00:49<00:06,  3.44it/s]"
          ]
        },
        {
          "output_type": "stream",
          "name": "stdout",
          "text": [
            "loss epoch: 0.00054603\n"
          ]
        },
        {
          "output_type": "stream",
          "name": "stderr",
          "text": [
            "\r 88%|████████▊ | 177/200 [00:49<00:06,  3.42it/s]"
          ]
        },
        {
          "output_type": "stream",
          "name": "stdout",
          "text": [
            "loss epoch: 0.00054831\n"
          ]
        },
        {
          "output_type": "stream",
          "name": "stderr",
          "text": [
            "\r 89%|████████▉ | 178/200 [00:50<00:06,  3.48it/s]"
          ]
        },
        {
          "output_type": "stream",
          "name": "stdout",
          "text": [
            "loss epoch: 0.00052904\n"
          ]
        },
        {
          "output_type": "stream",
          "name": "stderr",
          "text": [
            "\r 90%|████████▉ | 179/200 [00:50<00:06,  3.48it/s]"
          ]
        },
        {
          "output_type": "stream",
          "name": "stdout",
          "text": [
            "loss epoch: 0.00051758\n"
          ]
        },
        {
          "output_type": "stream",
          "name": "stderr",
          "text": [
            "\r 90%|█████████ | 180/200 [00:50<00:05,  3.55it/s]"
          ]
        },
        {
          "output_type": "stream",
          "name": "stdout",
          "text": [
            "loss epoch: 0.00050211\n"
          ]
        },
        {
          "output_type": "stream",
          "name": "stderr",
          "text": [
            "\r 90%|█████████ | 181/200 [00:50<00:05,  3.56it/s]"
          ]
        },
        {
          "output_type": "stream",
          "name": "stdout",
          "text": [
            "loss epoch: 0.00048330\n"
          ]
        },
        {
          "output_type": "stream",
          "name": "stderr",
          "text": [
            "\r 91%|█████████ | 182/200 [00:51<00:05,  3.57it/s]"
          ]
        },
        {
          "output_type": "stream",
          "name": "stdout",
          "text": [
            "loss epoch: 0.00047855\n"
          ]
        },
        {
          "output_type": "stream",
          "name": "stderr",
          "text": [
            "\r 92%|█████████▏| 183/200 [00:51<00:04,  3.58it/s]"
          ]
        },
        {
          "output_type": "stream",
          "name": "stdout",
          "text": [
            "loss epoch: 0.00047494\n"
          ]
        },
        {
          "output_type": "stream",
          "name": "stderr",
          "text": [
            "\r 92%|█████████▏| 184/200 [00:51<00:04,  3.60it/s]"
          ]
        },
        {
          "output_type": "stream",
          "name": "stdout",
          "text": [
            "loss epoch: 0.00046550\n"
          ]
        },
        {
          "output_type": "stream",
          "name": "stderr",
          "text": [
            "\r 92%|█████████▎| 185/200 [00:52<00:04,  3.53it/s]"
          ]
        },
        {
          "output_type": "stream",
          "name": "stdout",
          "text": [
            "loss epoch: 0.00053135\n"
          ]
        },
        {
          "output_type": "stream",
          "name": "stderr",
          "text": [
            "\r 93%|█████████▎| 186/200 [00:52<00:04,  3.43it/s]"
          ]
        },
        {
          "output_type": "stream",
          "name": "stdout",
          "text": [
            "loss epoch: 0.00052616\n"
          ]
        },
        {
          "output_type": "stream",
          "name": "stderr",
          "text": [
            "\r 94%|█████████▎| 187/200 [00:52<00:03,  3.43it/s]"
          ]
        },
        {
          "output_type": "stream",
          "name": "stdout",
          "text": [
            "loss epoch: 0.00044612\n"
          ]
        },
        {
          "output_type": "stream",
          "name": "stderr",
          "text": [
            "\r 94%|█████████▍| 188/200 [00:52<00:03,  3.44it/s]"
          ]
        },
        {
          "output_type": "stream",
          "name": "stdout",
          "text": [
            "loss epoch: 0.00044706\n"
          ]
        },
        {
          "output_type": "stream",
          "name": "stderr",
          "text": [
            "\r 94%|█████████▍| 189/200 [00:53<00:03,  3.48it/s]"
          ]
        },
        {
          "output_type": "stream",
          "name": "stdout",
          "text": [
            "loss epoch: 0.00045242\n"
          ]
        },
        {
          "output_type": "stream",
          "name": "stderr",
          "text": [
            "\r 95%|█████████▌| 190/200 [00:53<00:02,  3.49it/s]"
          ]
        },
        {
          "output_type": "stream",
          "name": "stdout",
          "text": [
            "loss epoch: 0.00050356\n"
          ]
        },
        {
          "output_type": "stream",
          "name": "stderr",
          "text": [
            "\r 96%|█████████▌| 191/200 [00:53<00:02,  3.50it/s]"
          ]
        },
        {
          "output_type": "stream",
          "name": "stdout",
          "text": [
            "loss epoch: 0.00049500\n"
          ]
        },
        {
          "output_type": "stream",
          "name": "stderr",
          "text": [
            "\r 96%|█████████▌| 192/200 [00:54<00:02,  3.46it/s]"
          ]
        },
        {
          "output_type": "stream",
          "name": "stdout",
          "text": [
            "loss epoch: 0.00043779\n"
          ]
        },
        {
          "output_type": "stream",
          "name": "stderr",
          "text": [
            "\r 96%|█████████▋| 193/200 [00:54<00:02,  3.45it/s]"
          ]
        },
        {
          "output_type": "stream",
          "name": "stdout",
          "text": [
            "loss epoch: 0.00044525\n"
          ]
        },
        {
          "output_type": "stream",
          "name": "stderr",
          "text": [
            "\r 97%|█████████▋| 194/200 [00:54<00:01,  3.51it/s]"
          ]
        },
        {
          "output_type": "stream",
          "name": "stdout",
          "text": [
            "loss epoch: 0.00041946\n"
          ]
        },
        {
          "output_type": "stream",
          "name": "stderr",
          "text": [
            "\r 98%|█████████▊| 195/200 [00:54<00:01,  3.54it/s]"
          ]
        },
        {
          "output_type": "stream",
          "name": "stdout",
          "text": [
            "loss epoch: 0.00044426\n"
          ]
        },
        {
          "output_type": "stream",
          "name": "stderr",
          "text": [
            "\r 98%|█████████▊| 196/200 [00:55<00:01,  3.54it/s]"
          ]
        },
        {
          "output_type": "stream",
          "name": "stdout",
          "text": [
            "loss epoch: 0.00044992\n"
          ]
        },
        {
          "output_type": "stream",
          "name": "stderr",
          "text": [
            "\r 98%|█████████▊| 197/200 [00:55<00:00,  3.56it/s]"
          ]
        },
        {
          "output_type": "stream",
          "name": "stdout",
          "text": [
            "loss epoch: 0.00042846\n"
          ]
        },
        {
          "output_type": "stream",
          "name": "stderr",
          "text": [
            "\r 99%|█████████▉| 198/200 [00:55<00:00,  3.48it/s]"
          ]
        },
        {
          "output_type": "stream",
          "name": "stdout",
          "text": [
            "loss epoch: 0.00043588\n"
          ]
        },
        {
          "output_type": "stream",
          "name": "stderr",
          "text": [
            "\r100%|█████████▉| 199/200 [00:56<00:00,  3.49it/s]"
          ]
        },
        {
          "output_type": "stream",
          "name": "stdout",
          "text": [
            "loss epoch: 0.00045186\n"
          ]
        },
        {
          "output_type": "stream",
          "name": "stderr",
          "text": [
            "100%|██████████| 200/200 [00:56<00:00,  3.55it/s]\n"
          ]
        },
        {
          "output_type": "stream",
          "name": "stdout",
          "text": [
            "loss epoch: 0.00043139\n"
          ]
        },
        {
          "output_type": "stream",
          "name": "stderr",
          "text": [
            "  1%|          | 1/100 [00:00<00:28,  3.45it/s]"
          ]
        },
        {
          "output_type": "stream",
          "name": "stdout",
          "text": [
            "loss epoch: 0.00041177\n"
          ]
        },
        {
          "output_type": "stream",
          "name": "stderr",
          "text": [
            "\r  2%|▏         | 2/100 [00:00<00:28,  3.50it/s]"
          ]
        },
        {
          "output_type": "stream",
          "name": "stdout",
          "text": [
            "loss epoch: 0.00041419\n"
          ]
        },
        {
          "output_type": "stream",
          "name": "stderr",
          "text": [
            "\r  3%|▎         | 3/100 [00:00<00:27,  3.57it/s]"
          ]
        },
        {
          "output_type": "stream",
          "name": "stdout",
          "text": [
            "loss epoch: 0.00041972\n"
          ]
        },
        {
          "output_type": "stream",
          "name": "stderr",
          "text": [
            "\r  4%|▍         | 4/100 [00:01<00:26,  3.57it/s]"
          ]
        },
        {
          "output_type": "stream",
          "name": "stdout",
          "text": [
            "loss epoch: 0.00041321\n"
          ]
        },
        {
          "output_type": "stream",
          "name": "stderr",
          "text": [
            "\r  5%|▌         | 5/100 [00:01<00:26,  3.63it/s]"
          ]
        },
        {
          "output_type": "stream",
          "name": "stdout",
          "text": [
            "loss epoch: 0.00041126\n"
          ]
        },
        {
          "output_type": "stream",
          "name": "stderr",
          "text": [
            "\r  6%|▌         | 6/100 [00:01<00:26,  3.59it/s]"
          ]
        },
        {
          "output_type": "stream",
          "name": "stdout",
          "text": [
            "loss epoch: 0.00040955\n"
          ]
        },
        {
          "output_type": "stream",
          "name": "stderr",
          "text": [
            "\r  7%|▋         | 7/100 [00:01<00:26,  3.57it/s]"
          ]
        },
        {
          "output_type": "stream",
          "name": "stdout",
          "text": [
            "loss epoch: 0.00040884\n"
          ]
        },
        {
          "output_type": "stream",
          "name": "stderr",
          "text": [
            "\r  8%|▊         | 8/100 [00:02<00:25,  3.55it/s]"
          ]
        },
        {
          "output_type": "stream",
          "name": "stdout",
          "text": [
            "loss epoch: 0.00040569\n"
          ]
        },
        {
          "output_type": "stream",
          "name": "stderr",
          "text": [
            "\r  9%|▉         | 9/100 [00:02<00:25,  3.51it/s]"
          ]
        },
        {
          "output_type": "stream",
          "name": "stdout",
          "text": [
            "loss epoch: 0.00039413\n"
          ]
        },
        {
          "output_type": "stream",
          "name": "stderr",
          "text": [
            "\r 10%|█         | 10/100 [00:02<00:25,  3.51it/s]"
          ]
        },
        {
          "output_type": "stream",
          "name": "stdout",
          "text": [
            "loss epoch: 0.00037817\n"
          ]
        },
        {
          "output_type": "stream",
          "name": "stderr",
          "text": [
            "\r 11%|█         | 11/100 [00:03<00:25,  3.54it/s]"
          ]
        },
        {
          "output_type": "stream",
          "name": "stdout",
          "text": [
            "loss epoch: 0.00036868\n"
          ]
        },
        {
          "output_type": "stream",
          "name": "stderr",
          "text": [
            "\r 12%|█▏        | 12/100 [00:03<00:24,  3.53it/s]"
          ]
        },
        {
          "output_type": "stream",
          "name": "stdout",
          "text": [
            "loss epoch: 0.00036142\n"
          ]
        },
        {
          "output_type": "stream",
          "name": "stderr",
          "text": [
            "\r 13%|█▎        | 13/100 [00:03<00:24,  3.52it/s]"
          ]
        },
        {
          "output_type": "stream",
          "name": "stdout",
          "text": [
            "loss epoch: 0.00035334\n"
          ]
        },
        {
          "output_type": "stream",
          "name": "stderr",
          "text": [
            "\r 14%|█▍        | 14/100 [00:03<00:24,  3.55it/s]"
          ]
        },
        {
          "output_type": "stream",
          "name": "stdout",
          "text": [
            "loss epoch: 0.00034853\n"
          ]
        },
        {
          "output_type": "stream",
          "name": "stderr",
          "text": [
            "\r 15%|█▌        | 15/100 [00:04<00:23,  3.55it/s]"
          ]
        },
        {
          "output_type": "stream",
          "name": "stdout",
          "text": [
            "loss epoch: 0.00034452\n"
          ]
        },
        {
          "output_type": "stream",
          "name": "stderr",
          "text": [
            "\r 16%|█▌        | 16/100 [00:04<00:24,  3.49it/s]"
          ]
        },
        {
          "output_type": "stream",
          "name": "stdout",
          "text": [
            "loss epoch: 0.00033924\n"
          ]
        },
        {
          "output_type": "stream",
          "name": "stderr",
          "text": [
            "\r 17%|█▋        | 17/100 [00:04<00:23,  3.48it/s]"
          ]
        },
        {
          "output_type": "stream",
          "name": "stdout",
          "text": [
            "loss epoch: 0.00033386\n"
          ]
        },
        {
          "output_type": "stream",
          "name": "stderr",
          "text": [
            "\r 18%|█▊        | 18/100 [00:05<00:23,  3.52it/s]"
          ]
        },
        {
          "output_type": "stream",
          "name": "stdout",
          "text": [
            "loss epoch: 0.00033167\n"
          ]
        },
        {
          "output_type": "stream",
          "name": "stderr",
          "text": [
            "\r 19%|█▉        | 19/100 [00:05<00:23,  3.51it/s]"
          ]
        },
        {
          "output_type": "stream",
          "name": "stdout",
          "text": [
            "loss epoch: 0.00032958\n"
          ]
        },
        {
          "output_type": "stream",
          "name": "stderr",
          "text": [
            "\r 20%|██        | 20/100 [00:05<00:22,  3.50it/s]"
          ]
        },
        {
          "output_type": "stream",
          "name": "stdout",
          "text": [
            "loss epoch: 0.00032474\n"
          ]
        },
        {
          "output_type": "stream",
          "name": "stderr",
          "text": [
            "\r 21%|██        | 21/100 [00:05<00:22,  3.53it/s]"
          ]
        },
        {
          "output_type": "stream",
          "name": "stdout",
          "text": [
            "loss epoch: 0.00032166\n"
          ]
        },
        {
          "output_type": "stream",
          "name": "stderr",
          "text": [
            "\r 22%|██▏       | 22/100 [00:06<00:22,  3.54it/s]"
          ]
        },
        {
          "output_type": "stream",
          "name": "stdout",
          "text": [
            "loss epoch: 0.00031898\n"
          ]
        },
        {
          "output_type": "stream",
          "name": "stderr",
          "text": [
            "\r 23%|██▎       | 23/100 [00:06<00:21,  3.54it/s]"
          ]
        },
        {
          "output_type": "stream",
          "name": "stdout",
          "text": [
            "loss epoch: 0.00031541\n"
          ]
        },
        {
          "output_type": "stream",
          "name": "stderr",
          "text": [
            "\r 24%|██▍       | 24/100 [00:06<00:21,  3.54it/s]"
          ]
        },
        {
          "output_type": "stream",
          "name": "stdout",
          "text": [
            "loss epoch: 0.00031277\n"
          ]
        },
        {
          "output_type": "stream",
          "name": "stderr",
          "text": [
            "\r 25%|██▌       | 25/100 [00:07<00:20,  3.58it/s]"
          ]
        },
        {
          "output_type": "stream",
          "name": "stdout",
          "text": [
            "loss epoch: 0.00030960\n"
          ]
        },
        {
          "output_type": "stream",
          "name": "stderr",
          "text": [
            "\r 26%|██▌       | 26/100 [00:07<00:21,  3.50it/s]"
          ]
        },
        {
          "output_type": "stream",
          "name": "stdout",
          "text": [
            "loss epoch: 0.00030496\n"
          ]
        },
        {
          "output_type": "stream",
          "name": "stderr",
          "text": [
            "\r 27%|██▋       | 27/100 [00:07<00:20,  3.50it/s]"
          ]
        },
        {
          "output_type": "stream",
          "name": "stdout",
          "text": [
            "loss epoch: 0.00030043\n"
          ]
        },
        {
          "output_type": "stream",
          "name": "stderr",
          "text": [
            "\r 28%|██▊       | 28/100 [00:07<00:20,  3.50it/s]"
          ]
        },
        {
          "output_type": "stream",
          "name": "stdout",
          "text": [
            "loss epoch: 0.00029308\n"
          ]
        },
        {
          "output_type": "stream",
          "name": "stderr",
          "text": [
            "\r 29%|██▉       | 29/100 [00:08<00:19,  3.56it/s]"
          ]
        },
        {
          "output_type": "stream",
          "name": "stdout",
          "text": [
            "loss epoch: 0.00028989\n"
          ]
        },
        {
          "output_type": "stream",
          "name": "stderr",
          "text": [
            "\r 30%|███       | 30/100 [00:08<00:19,  3.51it/s]"
          ]
        },
        {
          "output_type": "stream",
          "name": "stdout",
          "text": [
            "loss epoch: 0.00028089\n"
          ]
        },
        {
          "output_type": "stream",
          "name": "stderr",
          "text": [
            "\r 31%|███       | 31/100 [00:08<00:20,  3.42it/s]"
          ]
        },
        {
          "output_type": "stream",
          "name": "stdout",
          "text": [
            "loss epoch: 0.00027655\n"
          ]
        },
        {
          "output_type": "stream",
          "name": "stderr",
          "text": [
            "\r 32%|███▏      | 32/100 [00:09<00:20,  3.39it/s]"
          ]
        },
        {
          "output_type": "stream",
          "name": "stdout",
          "text": [
            "loss epoch: 0.00026942\n"
          ]
        },
        {
          "output_type": "stream",
          "name": "stderr",
          "text": [
            "\r 33%|███▎      | 33/100 [00:09<00:19,  3.37it/s]"
          ]
        },
        {
          "output_type": "stream",
          "name": "stdout",
          "text": [
            "loss epoch: 0.00026528\n"
          ]
        },
        {
          "output_type": "stream",
          "name": "stderr",
          "text": [
            "\r 34%|███▍      | 34/100 [00:09<00:19,  3.34it/s]"
          ]
        },
        {
          "output_type": "stream",
          "name": "stdout",
          "text": [
            "loss epoch: 0.00026078\n"
          ]
        },
        {
          "output_type": "stream",
          "name": "stderr",
          "text": [
            "\r 35%|███▌      | 35/100 [00:09<00:19,  3.42it/s]"
          ]
        },
        {
          "output_type": "stream",
          "name": "stdout",
          "text": [
            "loss epoch: 0.00026062\n"
          ]
        },
        {
          "output_type": "stream",
          "name": "stderr",
          "text": [
            "\r 36%|███▌      | 36/100 [00:10<00:18,  3.44it/s]"
          ]
        },
        {
          "output_type": "stream",
          "name": "stdout",
          "text": [
            "loss epoch: 0.00025273\n"
          ]
        },
        {
          "output_type": "stream",
          "name": "stderr",
          "text": [
            "\r 37%|███▋      | 37/100 [00:10<00:18,  3.46it/s]"
          ]
        },
        {
          "output_type": "stream",
          "name": "stdout",
          "text": [
            "loss epoch: 0.00025169\n"
          ]
        },
        {
          "output_type": "stream",
          "name": "stderr",
          "text": [
            "\r 38%|███▊      | 38/100 [00:10<00:17,  3.48it/s]"
          ]
        },
        {
          "output_type": "stream",
          "name": "stdout",
          "text": [
            "loss epoch: 0.00024841\n"
          ]
        },
        {
          "output_type": "stream",
          "name": "stderr",
          "text": [
            "\r 39%|███▉      | 39/100 [00:11<00:17,  3.52it/s]"
          ]
        },
        {
          "output_type": "stream",
          "name": "stdout",
          "text": [
            "loss epoch: 0.00024582\n"
          ]
        },
        {
          "output_type": "stream",
          "name": "stderr",
          "text": [
            "\r 40%|████      | 40/100 [00:11<00:17,  3.51it/s]"
          ]
        },
        {
          "output_type": "stream",
          "name": "stdout",
          "text": [
            "loss epoch: 0.00024379\n"
          ]
        },
        {
          "output_type": "stream",
          "name": "stderr",
          "text": [
            "\r 41%|████      | 41/100 [00:11<00:16,  3.49it/s]"
          ]
        },
        {
          "output_type": "stream",
          "name": "stdout",
          "text": [
            "loss epoch: 0.00024431\n"
          ]
        },
        {
          "output_type": "stream",
          "name": "stderr",
          "text": [
            "\r 42%|████▏     | 42/100 [00:11<00:16,  3.51it/s]"
          ]
        },
        {
          "output_type": "stream",
          "name": "stdout",
          "text": [
            "loss epoch: 0.00024032\n"
          ]
        },
        {
          "output_type": "stream",
          "name": "stderr",
          "text": [
            "\r 43%|████▎     | 43/100 [00:12<00:16,  3.55it/s]"
          ]
        },
        {
          "output_type": "stream",
          "name": "stdout",
          "text": [
            "loss epoch: 0.00023962\n"
          ]
        },
        {
          "output_type": "stream",
          "name": "stderr",
          "text": [
            "\r 44%|████▍     | 44/100 [00:12<00:16,  3.47it/s]"
          ]
        },
        {
          "output_type": "stream",
          "name": "stdout",
          "text": [
            "loss epoch: 0.00023912\n"
          ]
        },
        {
          "output_type": "stream",
          "name": "stderr",
          "text": [
            "\r 45%|████▌     | 45/100 [00:12<00:15,  3.47it/s]"
          ]
        },
        {
          "output_type": "stream",
          "name": "stdout",
          "text": [
            "loss epoch: 0.00023822\n"
          ]
        },
        {
          "output_type": "stream",
          "name": "stderr",
          "text": [
            "\r 46%|████▌     | 46/100 [00:13<00:15,  3.52it/s]"
          ]
        },
        {
          "output_type": "stream",
          "name": "stdout",
          "text": [
            "loss epoch: 0.00023709\n"
          ]
        },
        {
          "output_type": "stream",
          "name": "stderr",
          "text": [
            "\r 47%|████▋     | 47/100 [00:13<00:15,  3.46it/s]"
          ]
        },
        {
          "output_type": "stream",
          "name": "stdout",
          "text": [
            "loss epoch: 0.00023858\n"
          ]
        },
        {
          "output_type": "stream",
          "name": "stderr",
          "text": [
            "\r 48%|████▊     | 48/100 [00:13<00:15,  3.45it/s]"
          ]
        },
        {
          "output_type": "stream",
          "name": "stdout",
          "text": [
            "loss epoch: 0.00023553\n"
          ]
        },
        {
          "output_type": "stream",
          "name": "stderr",
          "text": [
            "\r 49%|████▉     | 49/100 [00:14<00:15,  3.39it/s]"
          ]
        },
        {
          "output_type": "stream",
          "name": "stdout",
          "text": [
            "loss epoch: 0.00023514\n"
          ]
        },
        {
          "output_type": "stream",
          "name": "stderr",
          "text": [
            "\r 50%|█████     | 50/100 [00:14<00:14,  3.38it/s]"
          ]
        },
        {
          "output_type": "stream",
          "name": "stdout",
          "text": [
            "loss epoch: 0.00023643\n"
          ]
        },
        {
          "output_type": "stream",
          "name": "stderr",
          "text": [
            "\r 51%|█████     | 51/100 [00:14<00:14,  3.39it/s]"
          ]
        },
        {
          "output_type": "stream",
          "name": "stdout",
          "text": [
            "loss epoch: 0.00023390\n"
          ]
        },
        {
          "output_type": "stream",
          "name": "stderr",
          "text": [
            "\r 52%|█████▏    | 52/100 [00:14<00:13,  3.45it/s]"
          ]
        },
        {
          "output_type": "stream",
          "name": "stdout",
          "text": [
            "loss epoch: 0.00023366\n"
          ]
        },
        {
          "output_type": "stream",
          "name": "stderr",
          "text": [
            "\r 53%|█████▎    | 53/100 [00:15<00:13,  3.50it/s]"
          ]
        },
        {
          "output_type": "stream",
          "name": "stdout",
          "text": [
            "loss epoch: 0.00023395\n"
          ]
        },
        {
          "output_type": "stream",
          "name": "stderr",
          "text": [
            "\r 54%|█████▍    | 54/100 [00:15<00:13,  3.47it/s]"
          ]
        },
        {
          "output_type": "stream",
          "name": "stdout",
          "text": [
            "loss epoch: 0.00023229\n"
          ]
        },
        {
          "output_type": "stream",
          "name": "stderr",
          "text": [
            "\r 55%|█████▌    | 55/100 [00:15<00:13,  3.42it/s]"
          ]
        },
        {
          "output_type": "stream",
          "name": "stdout",
          "text": [
            "loss epoch: 0.00023234\n"
          ]
        },
        {
          "output_type": "stream",
          "name": "stderr",
          "text": [
            "\r 56%|█████▌    | 56/100 [00:16<00:12,  3.45it/s]"
          ]
        },
        {
          "output_type": "stream",
          "name": "stdout",
          "text": [
            "loss epoch: 0.00023186\n"
          ]
        },
        {
          "output_type": "stream",
          "name": "stderr",
          "text": [
            "\r 57%|█████▋    | 57/100 [00:16<00:12,  3.49it/s]"
          ]
        },
        {
          "output_type": "stream",
          "name": "stdout",
          "text": [
            "loss epoch: 0.00023297\n"
          ]
        },
        {
          "output_type": "stream",
          "name": "stderr",
          "text": [
            "\r 58%|█████▊    | 58/100 [00:16<00:12,  3.43it/s]"
          ]
        },
        {
          "output_type": "stream",
          "name": "stdout",
          "text": [
            "loss epoch: 0.00023131\n"
          ]
        },
        {
          "output_type": "stream",
          "name": "stderr",
          "text": [
            "\r 59%|█████▉    | 59/100 [00:16<00:11,  3.44it/s]"
          ]
        },
        {
          "output_type": "stream",
          "name": "stdout",
          "text": [
            "loss epoch: 0.00023229\n"
          ]
        },
        {
          "output_type": "stream",
          "name": "stderr",
          "text": [
            "\r 60%|██████    | 60/100 [00:17<00:11,  3.49it/s]"
          ]
        },
        {
          "output_type": "stream",
          "name": "stdout",
          "text": [
            "loss epoch: 0.00023185\n"
          ]
        },
        {
          "output_type": "stream",
          "name": "stderr",
          "text": [
            "\r 61%|██████    | 61/100 [00:17<00:11,  3.51it/s]"
          ]
        },
        {
          "output_type": "stream",
          "name": "stdout",
          "text": [
            "loss epoch: 0.00023112\n"
          ]
        },
        {
          "output_type": "stream",
          "name": "stderr",
          "text": [
            "\r 62%|██████▏   | 62/100 [00:17<00:10,  3.47it/s]"
          ]
        },
        {
          "output_type": "stream",
          "name": "stdout",
          "text": [
            "loss epoch: 0.00023100\n"
          ]
        },
        {
          "output_type": "stream",
          "name": "stderr",
          "text": [
            "\r 63%|██████▎   | 63/100 [00:18<00:10,  3.50it/s]"
          ]
        },
        {
          "output_type": "stream",
          "name": "stdout",
          "text": [
            "loss epoch: 0.00022988\n"
          ]
        },
        {
          "output_type": "stream",
          "name": "stderr",
          "text": [
            "\r 64%|██████▍   | 64/100 [00:18<00:10,  3.52it/s]"
          ]
        },
        {
          "output_type": "stream",
          "name": "stdout",
          "text": [
            "loss epoch: 0.00023207\n"
          ]
        },
        {
          "output_type": "stream",
          "name": "stderr",
          "text": [
            "\r 65%|██████▌   | 65/100 [00:18<00:10,  3.46it/s]"
          ]
        },
        {
          "output_type": "stream",
          "name": "stdout",
          "text": [
            "loss epoch: 0.00022963\n"
          ]
        },
        {
          "output_type": "stream",
          "name": "stderr",
          "text": [
            "\r 66%|██████▌   | 66/100 [00:18<00:09,  3.50it/s]"
          ]
        },
        {
          "output_type": "stream",
          "name": "stdout",
          "text": [
            "loss epoch: 0.00023005\n"
          ]
        },
        {
          "output_type": "stream",
          "name": "stderr",
          "text": [
            "\r 67%|██████▋   | 67/100 [00:19<00:09,  3.55it/s]"
          ]
        },
        {
          "output_type": "stream",
          "name": "stdout",
          "text": [
            "loss epoch: 0.00022962\n"
          ]
        },
        {
          "output_type": "stream",
          "name": "stderr",
          "text": [
            "\r 68%|██████▊   | 68/100 [00:19<00:09,  3.54it/s]"
          ]
        },
        {
          "output_type": "stream",
          "name": "stdout",
          "text": [
            "loss epoch: 0.00022882\n"
          ]
        },
        {
          "output_type": "stream",
          "name": "stderr",
          "text": [
            "\r 69%|██████▉   | 69/100 [00:19<00:08,  3.48it/s]"
          ]
        },
        {
          "output_type": "stream",
          "name": "stdout",
          "text": [
            "loss epoch: 0.00022991\n"
          ]
        },
        {
          "output_type": "stream",
          "name": "stderr",
          "text": [
            "\r 70%|███████   | 70/100 [00:20<00:08,  3.49it/s]"
          ]
        },
        {
          "output_type": "stream",
          "name": "stdout",
          "text": [
            "loss epoch: 0.00022847\n"
          ]
        },
        {
          "output_type": "stream",
          "name": "stderr",
          "text": [
            "\r 71%|███████   | 71/100 [00:20<00:08,  3.48it/s]"
          ]
        },
        {
          "output_type": "stream",
          "name": "stdout",
          "text": [
            "loss epoch: 0.00022802\n"
          ]
        },
        {
          "output_type": "stream",
          "name": "stderr",
          "text": [
            "\r 72%|███████▏  | 72/100 [00:20<00:08,  3.43it/s]"
          ]
        },
        {
          "output_type": "stream",
          "name": "stdout",
          "text": [
            "loss epoch: 0.00022926\n"
          ]
        },
        {
          "output_type": "stream",
          "name": "stderr",
          "text": [
            "\r 73%|███████▎  | 73/100 [00:20<00:07,  3.47it/s]"
          ]
        },
        {
          "output_type": "stream",
          "name": "stdout",
          "text": [
            "loss epoch: 0.00022853\n"
          ]
        },
        {
          "output_type": "stream",
          "name": "stderr",
          "text": [
            "\r 74%|███████▍  | 74/100 [00:21<00:07,  3.52it/s]"
          ]
        },
        {
          "output_type": "stream",
          "name": "stdout",
          "text": [
            "loss epoch: 0.00022790\n"
          ]
        },
        {
          "output_type": "stream",
          "name": "stderr",
          "text": [
            "\r 75%|███████▌  | 75/100 [00:21<00:07,  3.56it/s]"
          ]
        },
        {
          "output_type": "stream",
          "name": "stdout",
          "text": [
            "loss epoch: 0.00022685\n"
          ]
        },
        {
          "output_type": "stream",
          "name": "stderr",
          "text": [
            "\r 76%|███████▌  | 76/100 [00:21<00:06,  3.55it/s]"
          ]
        },
        {
          "output_type": "stream",
          "name": "stdout",
          "text": [
            "loss epoch: 0.00022854\n"
          ]
        },
        {
          "output_type": "stream",
          "name": "stderr",
          "text": [
            "\r 77%|███████▋  | 77/100 [00:22<00:06,  3.57it/s]"
          ]
        },
        {
          "output_type": "stream",
          "name": "stdout",
          "text": [
            "loss epoch: 0.00022823\n"
          ]
        },
        {
          "output_type": "stream",
          "name": "stderr",
          "text": [
            "\r 78%|███████▊  | 78/100 [00:22<00:06,  3.57it/s]"
          ]
        },
        {
          "output_type": "stream",
          "name": "stdout",
          "text": [
            "loss epoch: 0.00022586\n"
          ]
        },
        {
          "output_type": "stream",
          "name": "stderr",
          "text": [
            "\r 79%|███████▉  | 79/100 [00:22<00:05,  3.54it/s]"
          ]
        },
        {
          "output_type": "stream",
          "name": "stdout",
          "text": [
            "loss epoch: 0.00022789\n"
          ]
        },
        {
          "output_type": "stream",
          "name": "stderr",
          "text": [
            "\r 80%|████████  | 80/100 [00:22<00:05,  3.51it/s]"
          ]
        },
        {
          "output_type": "stream",
          "name": "stdout",
          "text": [
            "loss epoch: 0.00022650\n"
          ]
        },
        {
          "output_type": "stream",
          "name": "stderr",
          "text": [
            "\r 81%|████████  | 81/100 [00:23<00:05,  3.54it/s]"
          ]
        },
        {
          "output_type": "stream",
          "name": "stdout",
          "text": [
            "loss epoch: 0.00022525\n"
          ]
        },
        {
          "output_type": "stream",
          "name": "stderr",
          "text": [
            "\r 82%|████████▏ | 82/100 [00:23<00:05,  3.59it/s]"
          ]
        },
        {
          "output_type": "stream",
          "name": "stdout",
          "text": [
            "loss epoch: 0.00022588\n"
          ]
        },
        {
          "output_type": "stream",
          "name": "stderr",
          "text": [
            "\r 83%|████████▎ | 83/100 [00:23<00:04,  3.57it/s]"
          ]
        },
        {
          "output_type": "stream",
          "name": "stdout",
          "text": [
            "loss epoch: 0.00022562\n"
          ]
        },
        {
          "output_type": "stream",
          "name": "stderr",
          "text": [
            "\r 84%|████████▍ | 84/100 [00:23<00:04,  3.57it/s]"
          ]
        },
        {
          "output_type": "stream",
          "name": "stdout",
          "text": [
            "loss epoch: 0.00022508\n"
          ]
        },
        {
          "output_type": "stream",
          "name": "stderr",
          "text": [
            "\r 85%|████████▌ | 85/100 [00:24<00:04,  3.60it/s]"
          ]
        },
        {
          "output_type": "stream",
          "name": "stdout",
          "text": [
            "loss epoch: 0.00022607\n"
          ]
        },
        {
          "output_type": "stream",
          "name": "stderr",
          "text": [
            "\r 86%|████████▌ | 86/100 [00:24<00:03,  3.61it/s]"
          ]
        },
        {
          "output_type": "stream",
          "name": "stdout",
          "text": [
            "loss epoch: 0.00022577\n"
          ]
        },
        {
          "output_type": "stream",
          "name": "stderr",
          "text": [
            "\r 87%|████████▋ | 87/100 [00:24<00:03,  3.55it/s]"
          ]
        },
        {
          "output_type": "stream",
          "name": "stdout",
          "text": [
            "loss epoch: 0.00022456\n"
          ]
        },
        {
          "output_type": "stream",
          "name": "stderr",
          "text": [
            "\r 88%|████████▊ | 88/100 [00:25<00:03,  3.59it/s]"
          ]
        },
        {
          "output_type": "stream",
          "name": "stdout",
          "text": [
            "loss epoch: 0.00022445\n"
          ]
        },
        {
          "output_type": "stream",
          "name": "stderr",
          "text": [
            "\r 89%|████████▉ | 89/100 [00:25<00:03,  3.42it/s]"
          ]
        },
        {
          "output_type": "stream",
          "name": "stdout",
          "text": [
            "loss epoch: 0.00022505\n"
          ]
        },
        {
          "output_type": "stream",
          "name": "stderr",
          "text": [
            "\r 90%|█████████ | 90/100 [00:25<00:02,  3.46it/s]"
          ]
        },
        {
          "output_type": "stream",
          "name": "stdout",
          "text": [
            "loss epoch: 0.00022480\n"
          ]
        },
        {
          "output_type": "stream",
          "name": "stderr",
          "text": [
            "\r 91%|█████████ | 91/100 [00:25<00:02,  3.50it/s]"
          ]
        },
        {
          "output_type": "stream",
          "name": "stdout",
          "text": [
            "loss epoch: 0.00022318\n"
          ]
        },
        {
          "output_type": "stream",
          "name": "stderr",
          "text": [
            "\r 92%|█████████▏| 92/100 [00:26<00:02,  3.50it/s]"
          ]
        },
        {
          "output_type": "stream",
          "name": "stdout",
          "text": [
            "loss epoch: 0.00022411\n"
          ]
        },
        {
          "output_type": "stream",
          "name": "stderr",
          "text": [
            "\r 93%|█████████▎| 93/100 [00:26<00:02,  3.45it/s]"
          ]
        },
        {
          "output_type": "stream",
          "name": "stdout",
          "text": [
            "loss epoch: 0.00022421\n"
          ]
        },
        {
          "output_type": "stream",
          "name": "stderr",
          "text": [
            "\r 94%|█████████▍| 94/100 [00:26<00:01,  3.43it/s]"
          ]
        },
        {
          "output_type": "stream",
          "name": "stdout",
          "text": [
            "loss epoch: 0.00022438\n"
          ]
        },
        {
          "output_type": "stream",
          "name": "stderr",
          "text": [
            "\r 95%|█████████▌| 95/100 [00:27<00:01,  3.50it/s]"
          ]
        },
        {
          "output_type": "stream",
          "name": "stdout",
          "text": [
            "loss epoch: 0.00022326\n"
          ]
        },
        {
          "output_type": "stream",
          "name": "stderr",
          "text": [
            "\r 96%|█████████▌| 96/100 [00:27<00:01,  3.53it/s]"
          ]
        },
        {
          "output_type": "stream",
          "name": "stdout",
          "text": [
            "loss epoch: 0.00022269\n"
          ]
        },
        {
          "output_type": "stream",
          "name": "stderr",
          "text": [
            "\r 97%|█████████▋| 97/100 [00:27<00:00,  3.52it/s]"
          ]
        },
        {
          "output_type": "stream",
          "name": "stdout",
          "text": [
            "loss epoch: 0.00022258\n"
          ]
        },
        {
          "output_type": "stream",
          "name": "stderr",
          "text": [
            "\r 98%|█████████▊| 98/100 [00:27<00:00,  3.51it/s]"
          ]
        },
        {
          "output_type": "stream",
          "name": "stdout",
          "text": [
            "loss epoch: 0.00022376\n"
          ]
        },
        {
          "output_type": "stream",
          "name": "stderr",
          "text": [
            "\r 99%|█████████▉| 99/100 [00:28<00:00,  3.52it/s]"
          ]
        },
        {
          "output_type": "stream",
          "name": "stdout",
          "text": [
            "loss epoch: 0.00022304\n"
          ]
        },
        {
          "output_type": "stream",
          "name": "stderr",
          "text": [
            "100%|██████████| 100/100 [00:28<00:00,  3.50it/s]"
          ]
        },
        {
          "output_type": "stream",
          "name": "stdout",
          "text": [
            "loss epoch: 0.00022232\n"
          ]
        },
        {
          "output_type": "stream",
          "name": "stderr",
          "text": [
            "\n"
          ]
        }
      ]
    },
    {
      "cell_type": "code",
      "source": [
        "import matplotlib.pyplot as plt\n",
        "N = 100 # plot N dots\n",
        "\n",
        "x_grid = np.linspace(0, 1, N+1)\n",
        "x_grid = x_grid[:-1]\n",
        "y_grid = np.zeros(N)\n",
        "ytrue = [myfun(x_grid[i]) for i in range(N)]\n",
        "\n",
        "y_predict = model1(x_valid.to(device))\n",
        "y_predict = y_predict.cpu()\n",
        "y_predict = y_predict.detach().numpy()\n",
        "\n",
        "MSE = 0\n",
        "r = 0.1\n",
        "a = np.array([[r]])\n",
        "\n",
        "for i in range(N):\n",
        "  actual = ytrue[i]\n",
        "  a[0][0] = i/N\n",
        "  t = torch.from_numpy(a).float()\n",
        "  predicted = model1.h3_tNet(t).detach().numpy()[0][0]\n",
        "  differences = actual-predicted\n",
        "  squared_differences = differences**2\n",
        "  MSE = MSE + squared_differences\n",
        "\n",
        "MSE = MSE/N\n",
        "\n",
        "print(\"MSE is : \"+str(MSE))"
      ],
      "metadata": {
        "colab": {
          "base_uri": "https://localhost:8080/"
        },
        "id": "3i0LLUxHU6PV",
        "outputId": "b7955f7c-1675-4d8b-e09d-afade1e6b448"
      },
      "execution_count": 25,
      "outputs": [
        {
          "output_type": "stream",
          "name": "stdout",
          "text": [
            "MSE is : 1.810476537533337e-05\n"
          ]
        }
      ]
    },
    {
      "cell_type": "code",
      "source": [
        "'''\n",
        "import matplotlib.pyplot as plt\n",
        "N = 100 # plot N dots\n",
        "\n",
        "x_grid = np.linspace(0, 1, N+1)\n",
        "x_grid = x_grid[:-1]\n",
        "y_grid = np.zeros(N)\n",
        "ytrue = [(x_grid[i])**0.5 for i in range(N)]\n",
        "\n",
        "y_predict = model1(x_valid.to(device))\n",
        "y_predict = y_predict.cpu()\n",
        "y_predict = y_predict.detach().numpy()\n",
        "\n",
        "r=0.1\n",
        "a = np.array([[r, r, r, r]])\n",
        "for j in range(4):\n",
        "  for i in range(N):\n",
        "    a[0][j] = i/N\n",
        "    t = torch.from_numpy(a).float()\n",
        "    y_grid[i] = model1.subNet(t).detach().numpy()[0][j]\n",
        "\n",
        "  ymin = 0\n",
        "  ymax = 1.2\n",
        "  ax = plt.gca()\n",
        "  ax.set_ylim([ymin, ymax])\n",
        "\n",
        "  plt.figure(figsize=(10,6))\n",
        "\n",
        "  plt.scatter(x_grid, y_grid,s=12,zorder=10)\n",
        "  plt.plot(x_grid,ytrue,linewidth=3,color='red',zorder=5)    \n",
        "  plt.title('Variable h'+str(j+1)+', with '+str(len_data)+' samples')\n",
        "  plt.xticks([0,0.1,0.2,0.3,0.4,0.5,0.6,0.7,0.8,0.9,1],fontsize = 15)\n",
        "  plt.yticks(fontsize = 15)\n",
        "  plt.show()\n",
        "'''"
      ],
      "metadata": {
        "colab": {
          "base_uri": "https://localhost:8080/",
          "height": 110
        },
        "id": "aT2rwx7jh0oj",
        "outputId": "b71e56e3-5dd2-4e1a-fa33-c20b246b368d"
      },
      "execution_count": null,
      "outputs": [
        {
          "output_type": "execute_result",
          "data": {
            "text/plain": [
              "\"\\nimport matplotlib.pyplot as plt\\nN = 100 # plot N dots\\n\\nx_grid = np.linspace(0, 1, N+1)\\nx_grid = x_grid[:-1]\\ny_grid = np.zeros(N)\\nytrue = [(x_grid[i])**0.5 for i in range(N)]\\n\\ny_predict = model1(x_valid.to(device))\\ny_predict = y_predict.cpu()\\ny_predict = y_predict.detach().numpy()\\n\\nr=0.1\\na = np.array([[r, r, r, r]])\\nfor j in range(4):\\n  for i in range(N):\\n    a[0][j] = i/N\\n    t = torch.from_numpy(a).float()\\n    y_grid[i] = model1.subNet(t).detach().numpy()[0][j]\\n\\n  ymin = 0\\n  ymax = 1.2\\n  ax = plt.gca()\\n  ax.set_ylim([ymin, ymax])\\n\\n  plt.figure(figsize=(10,6))\\n\\n  plt.scatter(x_grid, y_grid,s=12,zorder=10)\\n  plt.plot(x_grid,ytrue,linewidth=3,color='red',zorder=5)    \\n  plt.title('Variable h'+str(j+1)+', with '+str(len_data)+' samples')\\n  plt.xticks([0,0.1,0.2,0.3,0.4,0.5,0.6,0.7,0.8,0.9,1],fontsize = 15)\\n  plt.yticks(fontsize = 15)\\n  plt.show()\\n\""
            ],
            "application/vnd.google.colaboratory.intrinsic+json": {
              "type": "string"
            }
          },
          "metadata": {},
          "execution_count": 101
        }
      ]
    },
    {
      "cell_type": "code",
      "source": [
        "# Single connected 4개 경우의 scatter plot.\n",
        "import matplotlib.pyplot as plt\n",
        "N = 10000 # plot N dots\n",
        "\n",
        "x_grid = np.linspace(0, 1, N+1)\n",
        "x_grid = x_grid[:-1]\n",
        "y_grid = np.zeros(N)\n",
        "ytrue = [myfun(x_grid[i]) for i in range(N)]\n",
        "\n",
        "y_predict = model1(x_valid.to(device))\n",
        "y_predict = y_predict.cpu()\n",
        "y_predict = y_predict.detach().numpy()\n",
        "\n",
        "for i in range(N):\n",
        "  a = np.random.rand(1,1)\n",
        "  a[0][0] = i/N\n",
        "  t = torch.from_numpy(a).float()\n",
        "  y_grid[i] = model1.h1_tNet(t).detach().numpy()[0][0]\n",
        "\n",
        "ymin = 0\n",
        "ymax = 1.2\n",
        "ax = plt.gca()\n",
        "ax.set_ylim([ymin, ymax])\n",
        "\n",
        "plt.figure(figsize=(10,6))\n",
        "plt.plot(x_grid,ytrue,linewidth=3,color='red',zorder=5)  \n",
        "plt.scatter(x_grid, y_grid,s=12,zorder=10)\n",
        "  \n",
        "plt.title('Variable h1 with '+str(len_data)+' samples')\n",
        "plt.xticks([0,0.1,0.2,0.3,0.4,0.5,0.6,0.7,0.8,0.9,1],fontsize = 15)\n",
        "plt.yticks(fontsize = 15)\n",
        "plt.show()\n",
        "\n",
        "for i in range(N):\n",
        "  a = np.random.rand(1,1)\n",
        "  a[0][0] = i/N\n",
        "  t = torch.from_numpy(a).float()\n",
        "  y_grid[i] = model1.h2_tNet(t).detach().numpy()[0][0]\n",
        "\n",
        "ymin = 0\n",
        "ymax = 1.2\n",
        "ax = plt.gca()\n",
        "ax.set_ylim([ymin, ymax])\n",
        "\n",
        "plt.figure(figsize=(10,6))\n",
        "plt.plot(x_grid,ytrue,linewidth=3,color='red',zorder=5) \n",
        "plt.scatter(x_grid, y_grid,s=12,zorder=10)\n",
        "   \n",
        "plt.title('Variable h2 with '+str(len_data)+' samples')\n",
        "plt.xticks([0,0.1,0.2,0.3,0.4,0.5,0.6,0.7,0.8,0.9,1],fontsize = 15)\n",
        "plt.yticks(fontsize = 15)\n",
        "plt.show()\n",
        "\n",
        "for i in range(N):\n",
        "  a = np.random.rand(1,1)\n",
        "  a[0][0] = i/N\n",
        "  t = torch.from_numpy(a).float()\n",
        "  y_grid[i] = model1.h3_tNet(t).detach().numpy()[0][0]\n",
        "\n",
        "ymin = 0\n",
        "ymax = 1.2\n",
        "ax = plt.gca()\n",
        "ax.set_ylim([ymin, ymax])\n",
        "\n",
        "plt.figure(figsize=(10,6))\n",
        "plt.plot(x_grid,ytrue,linewidth=3,color='red')   \n",
        "\n",
        "plt.scatter(x_grid, y_grid,s=12,zorder=10)\n",
        " \n",
        "plt.title('Variable h3 with '+str(len_data)+' samples',zorder=5)\n",
        "plt.xticks([0,0.1,0.2,0.3,0.4,0.5,0.6,0.7,0.8,0.9,1],fontsize = 15)\n",
        "plt.yticks(fontsize = 15)\n",
        "plt.show()\n",
        "\n",
        "for i in range(N):\n",
        "  a = np.random.rand(1,1)\n",
        "  a[0][0] = i/N\n",
        "  t = torch.from_numpy(a).float()\n",
        "  y_grid[i] = model1.h4_tNet(t).detach().numpy()[0][0]\n",
        "\n",
        "ymin = 0\n",
        "ymax = 1.2\n",
        "ax = plt.gca()\n",
        "ax.set_ylim([ymin, ymax])\n",
        "\n",
        "plt.figure(figsize=(10,6))\n",
        "plt.plot(x_grid,ytrue,linewidth=3,color='red',zorder=5)    \n",
        "plt.scatter(x_grid, y_grid,s=12,zorder=10)\n",
        "\n",
        "plt.title('Variable h4 with '+str(len_data)+' samples')\n",
        "plt.xticks([0,0.1,0.2,0.3,0.4,0.5,0.6,0.7,0.8,0.9,1],fontsize = 15)\n",
        "plt.yticks(fontsize = 15)\n",
        "plt.show()\n",
        "\n",
        "\n"
      ],
      "metadata": {
        "id": "Dh05PiWV_TZ6",
        "colab": {
          "base_uri": "https://localhost:8080/",
          "height": 1000
        },
        "outputId": "5a79c494-e996-4639-93fa-25fda647cfb0"
      },
      "execution_count": 26,
      "outputs": [
        {
          "output_type": "display_data",
          "data": {
            "text/plain": [
              "<Figure size 432x288 with 1 Axes>"
            ],
            "image/png": "[encoded data removed]"
          },
          "metadata": {
            "needs_background": "light"
          }
        },
        {
          "output_type": "display_data",
          "data": {
            "text/plain": [
              "<Figure size 720x432 with 1 Axes>"
            ],
            "image/png": "[encoded data removed]"
          },
          "metadata": {
            "needs_background": "light"
          }
        },
        {
          "output_type": "display_data",
          "data": {
            "text/plain": [
              "<Figure size 432x288 with 1 Axes>"
            ],
            "image/png": "[encoded data removed]"
          },
          "metadata": {
            "needs_background": "light"
          }
        },
        {
          "output_type": "display_data",
          "data": {
            "text/plain": [
              "<Figure size 720x432 with 1 Axes>"
            ],
            "image/png": "[encoded data removed]"
          },
          "metadata": {
            "needs_background": "light"
          }
        },
        {
          "output_type": "display_data",
          "data": {
            "text/plain": [
              "<Figure size 432x288 with 1 Axes>"
            ],
            "image/png": "[encoded data removed]"
          },
          "metadata": {
            "needs_background": "light"
          }
        },
        {
          "output_type": "display_data",
          "data": {
            "text/plain": [
              "<Figure size 720x432 with 1 Axes>"
            ],
            "image/png": "[encoded data removed]"
          },
          "metadata": {
            "needs_background": "light"
          }
        },
        {
          "output_type": "display_data",
          "data": {
            "text/plain": [
              "<Figure size 432x288 with 1 Axes>"
            ],
            "image/png": "[encoded data removed]"
          },
          "metadata": {
            "needs_background": "light"
          }
        },
        {
          "output_type": "display_data",
          "data": {
            "text/plain": [
              "<Figure size 720x432 with 1 Axes>"
            ],
            "image/png": "[encoded data removed]"
          },
          "metadata": {
            "needs_background": "light"
          }
        }
      ]
    },
    {
      "cell_type": "code",
      "source": [],
      "metadata": {
        "id": "-td7sj_b0ld7"
      },
      "execution_count": null,
      "outputs": []
    }
  ]
}